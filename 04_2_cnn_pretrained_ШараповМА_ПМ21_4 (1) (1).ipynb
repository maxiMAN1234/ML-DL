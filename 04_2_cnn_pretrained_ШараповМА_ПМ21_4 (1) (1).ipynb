{
  "cells": [
    {
      "cell_type": "markdown",
      "id": "3a564d5f",
      "metadata": {
        "id": "3a564d5f"
      },
      "source": [
        "#  Использование предобученных моделей для классификации изображений\n",
        "\n",
        "__Автор задач: Блохин Н.В. (NVBlokhin@fa.ru)__\n",
        "\n",
        "Материалы:\n",
        "* Deep Learning with PyTorch (2020) Авторы: Eli Stevens, Luca Antiga, Thomas Viehmann\n",
        "* https://pytorch.org/vision/0.16/transforms.html#v2-api-reference-recommended\n",
        "* https://pytorch.org/vision/main/generated/torchvision.datasets.ImageFolder.html\n",
        "* https://pytorch.org/vision/stable/models.html\n",
        "* https://albumentations.ai/docs/getting_started/image_augmentation/"
      ]
    },
    {
      "cell_type": "markdown",
      "id": "c9ecd663",
      "metadata": {
        "id": "c9ecd663"
      },
      "source": [
        "## Задачи для совместного разбора"
      ]
    },
    {
      "cell_type": "markdown",
      "id": "24f6b60d",
      "metadata": {
        "id": "24f6b60d"
      },
      "source": [
        "1\\. Загрузите предобученную модель из `torchvision`. Познакомьтесь с ее архитектурой. Заморозьте веса нескольких слоев."
      ]
    },
    {
      "cell_type": "code",
      "source": [
        "import torchvision\n",
        "import torch as th\n",
        "import torch.nn as nn"
      ],
      "metadata": {
        "id": "gXaS-B117GZa"
      },
      "id": "gXaS-B117GZa",
      "execution_count": null,
      "outputs": []
    },
    {
      "cell_type": "code",
      "source": [
        "model = torchvision.models.efficientnet_b1(\n",
        "    weights=torchvision.models.EfficientNet_B1_Weights.IMAGENET1K_V1\n",
        ")"
      ],
      "metadata": {
        "id": "EoDDY8Pu7J5U"
      },
      "id": "EoDDY8Pu7J5U",
      "execution_count": null,
      "outputs": []
    },
    {
      "cell_type": "code",
      "source": [
        "model"
      ],
      "metadata": {
        "id": "K_QFxGco7-Ar",
        "colab": {
          "base_uri": "https://localhost:8080/"
        },
        "outputId": "a367a1cb-f5a4-4ea0-b47d-b37620861618"
      },
      "id": "K_QFxGco7-Ar",
      "execution_count": null,
      "outputs": [
        {
          "output_type": "execute_result",
          "data": {
            "text/plain": [
              "EfficientNet(\n",
              "  (features): Sequential(\n",
              "    (0): Conv2dNormActivation(\n",
              "      (0): Conv2d(3, 32, kernel_size=(3, 3), stride=(2, 2), padding=(1, 1), bias=False)\n",
              "      (1): BatchNorm2d(32, eps=1e-05, momentum=0.1, affine=True, track_running_stats=True)\n",
              "      (2): SiLU(inplace=True)\n",
              "    )\n",
              "    (1): Sequential(\n",
              "      (0): MBConv(\n",
              "        (block): Sequential(\n",
              "          (0): Conv2dNormActivation(\n",
              "            (0): Conv2d(32, 32, kernel_size=(3, 3), stride=(1, 1), padding=(1, 1), groups=32, bias=False)\n",
              "            (1): BatchNorm2d(32, eps=1e-05, momentum=0.1, affine=True, track_running_stats=True)\n",
              "            (2): SiLU(inplace=True)\n",
              "          )\n",
              "          (1): SqueezeExcitation(\n",
              "            (avgpool): AdaptiveAvgPool2d(output_size=1)\n",
              "            (fc1): Conv2d(32, 8, kernel_size=(1, 1), stride=(1, 1))\n",
              "            (fc2): Conv2d(8, 32, kernel_size=(1, 1), stride=(1, 1))\n",
              "            (activation): SiLU(inplace=True)\n",
              "            (scale_activation): Sigmoid()\n",
              "          )\n",
              "          (2): Conv2dNormActivation(\n",
              "            (0): Conv2d(32, 16, kernel_size=(1, 1), stride=(1, 1), bias=False)\n",
              "            (1): BatchNorm2d(16, eps=1e-05, momentum=0.1, affine=True, track_running_stats=True)\n",
              "          )\n",
              "        )\n",
              "        (stochastic_depth): StochasticDepth(p=0.0, mode=row)\n",
              "      )\n",
              "      (1): MBConv(\n",
              "        (block): Sequential(\n",
              "          (0): Conv2dNormActivation(\n",
              "            (0): Conv2d(16, 16, kernel_size=(3, 3), stride=(1, 1), padding=(1, 1), groups=16, bias=False)\n",
              "            (1): BatchNorm2d(16, eps=1e-05, momentum=0.1, affine=True, track_running_stats=True)\n",
              "            (2): SiLU(inplace=True)\n",
              "          )\n",
              "          (1): SqueezeExcitation(\n",
              "            (avgpool): AdaptiveAvgPool2d(output_size=1)\n",
              "            (fc1): Conv2d(16, 4, kernel_size=(1, 1), stride=(1, 1))\n",
              "            (fc2): Conv2d(4, 16, kernel_size=(1, 1), stride=(1, 1))\n",
              "            (activation): SiLU(inplace=True)\n",
              "            (scale_activation): Sigmoid()\n",
              "          )\n",
              "          (2): Conv2dNormActivation(\n",
              "            (0): Conv2d(16, 16, kernel_size=(1, 1), stride=(1, 1), bias=False)\n",
              "            (1): BatchNorm2d(16, eps=1e-05, momentum=0.1, affine=True, track_running_stats=True)\n",
              "          )\n",
              "        )\n",
              "        (stochastic_depth): StochasticDepth(p=0.008695652173913044, mode=row)\n",
              "      )\n",
              "    )\n",
              "    (2): Sequential(\n",
              "      (0): MBConv(\n",
              "        (block): Sequential(\n",
              "          (0): Conv2dNormActivation(\n",
              "            (0): Conv2d(16, 96, kernel_size=(1, 1), stride=(1, 1), bias=False)\n",
              "            (1): BatchNorm2d(96, eps=1e-05, momentum=0.1, affine=True, track_running_stats=True)\n",
              "            (2): SiLU(inplace=True)\n",
              "          )\n",
              "          (1): Conv2dNormActivation(\n",
              "            (0): Conv2d(96, 96, kernel_size=(3, 3), stride=(2, 2), padding=(1, 1), groups=96, bias=False)\n",
              "            (1): BatchNorm2d(96, eps=1e-05, momentum=0.1, affine=True, track_running_stats=True)\n",
              "            (2): SiLU(inplace=True)\n",
              "          )\n",
              "          (2): SqueezeExcitation(\n",
              "            (avgpool): AdaptiveAvgPool2d(output_size=1)\n",
              "            (fc1): Conv2d(96, 4, kernel_size=(1, 1), stride=(1, 1))\n",
              "            (fc2): Conv2d(4, 96, kernel_size=(1, 1), stride=(1, 1))\n",
              "            (activation): SiLU(inplace=True)\n",
              "            (scale_activation): Sigmoid()\n",
              "          )\n",
              "          (3): Conv2dNormActivation(\n",
              "            (0): Conv2d(96, 24, kernel_size=(1, 1), stride=(1, 1), bias=False)\n",
              "            (1): BatchNorm2d(24, eps=1e-05, momentum=0.1, affine=True, track_running_stats=True)\n",
              "          )\n",
              "        )\n",
              "        (stochastic_depth): StochasticDepth(p=0.017391304347826087, mode=row)\n",
              "      )\n",
              "      (1): MBConv(\n",
              "        (block): Sequential(\n",
              "          (0): Conv2dNormActivation(\n",
              "            (0): Conv2d(24, 144, kernel_size=(1, 1), stride=(1, 1), bias=False)\n",
              "            (1): BatchNorm2d(144, eps=1e-05, momentum=0.1, affine=True, track_running_stats=True)\n",
              "            (2): SiLU(inplace=True)\n",
              "          )\n",
              "          (1): Conv2dNormActivation(\n",
              "            (0): Conv2d(144, 144, kernel_size=(3, 3), stride=(1, 1), padding=(1, 1), groups=144, bias=False)\n",
              "            (1): BatchNorm2d(144, eps=1e-05, momentum=0.1, affine=True, track_running_stats=True)\n",
              "            (2): SiLU(inplace=True)\n",
              "          )\n",
              "          (2): SqueezeExcitation(\n",
              "            (avgpool): AdaptiveAvgPool2d(output_size=1)\n",
              "            (fc1): Conv2d(144, 6, kernel_size=(1, 1), stride=(1, 1))\n",
              "            (fc2): Conv2d(6, 144, kernel_size=(1, 1), stride=(1, 1))\n",
              "            (activation): SiLU(inplace=True)\n",
              "            (scale_activation): Sigmoid()\n",
              "          )\n",
              "          (3): Conv2dNormActivation(\n",
              "            (0): Conv2d(144, 24, kernel_size=(1, 1), stride=(1, 1), bias=False)\n",
              "            (1): BatchNorm2d(24, eps=1e-05, momentum=0.1, affine=True, track_running_stats=True)\n",
              "          )\n",
              "        )\n",
              "        (stochastic_depth): StochasticDepth(p=0.026086956521739136, mode=row)\n",
              "      )\n",
              "      (2): MBConv(\n",
              "        (block): Sequential(\n",
              "          (0): Conv2dNormActivation(\n",
              "            (0): Conv2d(24, 144, kernel_size=(1, 1), stride=(1, 1), bias=False)\n",
              "            (1): BatchNorm2d(144, eps=1e-05, momentum=0.1, affine=True, track_running_stats=True)\n",
              "            (2): SiLU(inplace=True)\n",
              "          )\n",
              "          (1): Conv2dNormActivation(\n",
              "            (0): Conv2d(144, 144, kernel_size=(3, 3), stride=(1, 1), padding=(1, 1), groups=144, bias=False)\n",
              "            (1): BatchNorm2d(144, eps=1e-05, momentum=0.1, affine=True, track_running_stats=True)\n",
              "            (2): SiLU(inplace=True)\n",
              "          )\n",
              "          (2): SqueezeExcitation(\n",
              "            (avgpool): AdaptiveAvgPool2d(output_size=1)\n",
              "            (fc1): Conv2d(144, 6, kernel_size=(1, 1), stride=(1, 1))\n",
              "            (fc2): Conv2d(6, 144, kernel_size=(1, 1), stride=(1, 1))\n",
              "            (activation): SiLU(inplace=True)\n",
              "            (scale_activation): Sigmoid()\n",
              "          )\n",
              "          (3): Conv2dNormActivation(\n",
              "            (0): Conv2d(144, 24, kernel_size=(1, 1), stride=(1, 1), bias=False)\n",
              "            (1): BatchNorm2d(24, eps=1e-05, momentum=0.1, affine=True, track_running_stats=True)\n",
              "          )\n",
              "        )\n",
              "        (stochastic_depth): StochasticDepth(p=0.034782608695652174, mode=row)\n",
              "      )\n",
              "    )\n",
              "    (3): Sequential(\n",
              "      (0): MBConv(\n",
              "        (block): Sequential(\n",
              "          (0): Conv2dNormActivation(\n",
              "            (0): Conv2d(24, 144, kernel_size=(1, 1), stride=(1, 1), bias=False)\n",
              "            (1): BatchNorm2d(144, eps=1e-05, momentum=0.1, affine=True, track_running_stats=True)\n",
              "            (2): SiLU(inplace=True)\n",
              "          )\n",
              "          (1): Conv2dNormActivation(\n",
              "            (0): Conv2d(144, 144, kernel_size=(5, 5), stride=(2, 2), padding=(2, 2), groups=144, bias=False)\n",
              "            (1): BatchNorm2d(144, eps=1e-05, momentum=0.1, affine=True, track_running_stats=True)\n",
              "            (2): SiLU(inplace=True)\n",
              "          )\n",
              "          (2): SqueezeExcitation(\n",
              "            (avgpool): AdaptiveAvgPool2d(output_size=1)\n",
              "            (fc1): Conv2d(144, 6, kernel_size=(1, 1), stride=(1, 1))\n",
              "            (fc2): Conv2d(6, 144, kernel_size=(1, 1), stride=(1, 1))\n",
              "            (activation): SiLU(inplace=True)\n",
              "            (scale_activation): Sigmoid()\n",
              "          )\n",
              "          (3): Conv2dNormActivation(\n",
              "            (0): Conv2d(144, 40, kernel_size=(1, 1), stride=(1, 1), bias=False)\n",
              "            (1): BatchNorm2d(40, eps=1e-05, momentum=0.1, affine=True, track_running_stats=True)\n",
              "          )\n",
              "        )\n",
              "        (stochastic_depth): StochasticDepth(p=0.043478260869565216, mode=row)\n",
              "      )\n",
              "      (1): MBConv(\n",
              "        (block): Sequential(\n",
              "          (0): Conv2dNormActivation(\n",
              "            (0): Conv2d(40, 240, kernel_size=(1, 1), stride=(1, 1), bias=False)\n",
              "            (1): BatchNorm2d(240, eps=1e-05, momentum=0.1, affine=True, track_running_stats=True)\n",
              "            (2): SiLU(inplace=True)\n",
              "          )\n",
              "          (1): Conv2dNormActivation(\n",
              "            (0): Conv2d(240, 240, kernel_size=(5, 5), stride=(1, 1), padding=(2, 2), groups=240, bias=False)\n",
              "            (1): BatchNorm2d(240, eps=1e-05, momentum=0.1, affine=True, track_running_stats=True)\n",
              "            (2): SiLU(inplace=True)\n",
              "          )\n",
              "          (2): SqueezeExcitation(\n",
              "            (avgpool): AdaptiveAvgPool2d(output_size=1)\n",
              "            (fc1): Conv2d(240, 10, kernel_size=(1, 1), stride=(1, 1))\n",
              "            (fc2): Conv2d(10, 240, kernel_size=(1, 1), stride=(1, 1))\n",
              "            (activation): SiLU(inplace=True)\n",
              "            (scale_activation): Sigmoid()\n",
              "          )\n",
              "          (3): Conv2dNormActivation(\n",
              "            (0): Conv2d(240, 40, kernel_size=(1, 1), stride=(1, 1), bias=False)\n",
              "            (1): BatchNorm2d(40, eps=1e-05, momentum=0.1, affine=True, track_running_stats=True)\n",
              "          )\n",
              "        )\n",
              "        (stochastic_depth): StochasticDepth(p=0.05217391304347827, mode=row)\n",
              "      )\n",
              "      (2): MBConv(\n",
              "        (block): Sequential(\n",
              "          (0): Conv2dNormActivation(\n",
              "            (0): Conv2d(40, 240, kernel_size=(1, 1), stride=(1, 1), bias=False)\n",
              "            (1): BatchNorm2d(240, eps=1e-05, momentum=0.1, affine=True, track_running_stats=True)\n",
              "            (2): SiLU(inplace=True)\n",
              "          )\n",
              "          (1): Conv2dNormActivation(\n",
              "            (0): Conv2d(240, 240, kernel_size=(5, 5), stride=(1, 1), padding=(2, 2), groups=240, bias=False)\n",
              "            (1): BatchNorm2d(240, eps=1e-05, momentum=0.1, affine=True, track_running_stats=True)\n",
              "            (2): SiLU(inplace=True)\n",
              "          )\n",
              "          (2): SqueezeExcitation(\n",
              "            (avgpool): AdaptiveAvgPool2d(output_size=1)\n",
              "            (fc1): Conv2d(240, 10, kernel_size=(1, 1), stride=(1, 1))\n",
              "            (fc2): Conv2d(10, 240, kernel_size=(1, 1), stride=(1, 1))\n",
              "            (activation): SiLU(inplace=True)\n",
              "            (scale_activation): Sigmoid()\n",
              "          )\n",
              "          (3): Conv2dNormActivation(\n",
              "            (0): Conv2d(240, 40, kernel_size=(1, 1), stride=(1, 1), bias=False)\n",
              "            (1): BatchNorm2d(40, eps=1e-05, momentum=0.1, affine=True, track_running_stats=True)\n",
              "          )\n",
              "        )\n",
              "        (stochastic_depth): StochasticDepth(p=0.06086956521739131, mode=row)\n",
              "      )\n",
              "    )\n",
              "    (4): Sequential(\n",
              "      (0): MBConv(\n",
              "        (block): Sequential(\n",
              "          (0): Conv2dNormActivation(\n",
              "            (0): Conv2d(40, 240, kernel_size=(1, 1), stride=(1, 1), bias=False)\n",
              "            (1): BatchNorm2d(240, eps=1e-05, momentum=0.1, affine=True, track_running_stats=True)\n",
              "            (2): SiLU(inplace=True)\n",
              "          )\n",
              "          (1): Conv2dNormActivation(\n",
              "            (0): Conv2d(240, 240, kernel_size=(3, 3), stride=(2, 2), padding=(1, 1), groups=240, bias=False)\n",
              "            (1): BatchNorm2d(240, eps=1e-05, momentum=0.1, affine=True, track_running_stats=True)\n",
              "            (2): SiLU(inplace=True)\n",
              "          )\n",
              "          (2): SqueezeExcitation(\n",
              "            (avgpool): AdaptiveAvgPool2d(output_size=1)\n",
              "            (fc1): Conv2d(240, 10, kernel_size=(1, 1), stride=(1, 1))\n",
              "            (fc2): Conv2d(10, 240, kernel_size=(1, 1), stride=(1, 1))\n",
              "            (activation): SiLU(inplace=True)\n",
              "            (scale_activation): Sigmoid()\n",
              "          )\n",
              "          (3): Conv2dNormActivation(\n",
              "            (0): Conv2d(240, 80, kernel_size=(1, 1), stride=(1, 1), bias=False)\n",
              "            (1): BatchNorm2d(80, eps=1e-05, momentum=0.1, affine=True, track_running_stats=True)\n",
              "          )\n",
              "        )\n",
              "        (stochastic_depth): StochasticDepth(p=0.06956521739130435, mode=row)\n",
              "      )\n",
              "      (1): MBConv(\n",
              "        (block): Sequential(\n",
              "          (0): Conv2dNormActivation(\n",
              "            (0): Conv2d(80, 480, kernel_size=(1, 1), stride=(1, 1), bias=False)\n",
              "            (1): BatchNorm2d(480, eps=1e-05, momentum=0.1, affine=True, track_running_stats=True)\n",
              "            (2): SiLU(inplace=True)\n",
              "          )\n",
              "          (1): Conv2dNormActivation(\n",
              "            (0): Conv2d(480, 480, kernel_size=(3, 3), stride=(1, 1), padding=(1, 1), groups=480, bias=False)\n",
              "            (1): BatchNorm2d(480, eps=1e-05, momentum=0.1, affine=True, track_running_stats=True)\n",
              "            (2): SiLU(inplace=True)\n",
              "          )\n",
              "          (2): SqueezeExcitation(\n",
              "            (avgpool): AdaptiveAvgPool2d(output_size=1)\n",
              "            (fc1): Conv2d(480, 20, kernel_size=(1, 1), stride=(1, 1))\n",
              "            (fc2): Conv2d(20, 480, kernel_size=(1, 1), stride=(1, 1))\n",
              "            (activation): SiLU(inplace=True)\n",
              "            (scale_activation): Sigmoid()\n",
              "          )\n",
              "          (3): Conv2dNormActivation(\n",
              "            (0): Conv2d(480, 80, kernel_size=(1, 1), stride=(1, 1), bias=False)\n",
              "            (1): BatchNorm2d(80, eps=1e-05, momentum=0.1, affine=True, track_running_stats=True)\n",
              "          )\n",
              "        )\n",
              "        (stochastic_depth): StochasticDepth(p=0.0782608695652174, mode=row)\n",
              "      )\n",
              "      (2): MBConv(\n",
              "        (block): Sequential(\n",
              "          (0): Conv2dNormActivation(\n",
              "            (0): Conv2d(80, 480, kernel_size=(1, 1), stride=(1, 1), bias=False)\n",
              "            (1): BatchNorm2d(480, eps=1e-05, momentum=0.1, affine=True, track_running_stats=True)\n",
              "            (2): SiLU(inplace=True)\n",
              "          )\n",
              "          (1): Conv2dNormActivation(\n",
              "            (0): Conv2d(480, 480, kernel_size=(3, 3), stride=(1, 1), padding=(1, 1), groups=480, bias=False)\n",
              "            (1): BatchNorm2d(480, eps=1e-05, momentum=0.1, affine=True, track_running_stats=True)\n",
              "            (2): SiLU(inplace=True)\n",
              "          )\n",
              "          (2): SqueezeExcitation(\n",
              "            (avgpool): AdaptiveAvgPool2d(output_size=1)\n",
              "            (fc1): Conv2d(480, 20, kernel_size=(1, 1), stride=(1, 1))\n",
              "            (fc2): Conv2d(20, 480, kernel_size=(1, 1), stride=(1, 1))\n",
              "            (activation): SiLU(inplace=True)\n",
              "            (scale_activation): Sigmoid()\n",
              "          )\n",
              "          (3): Conv2dNormActivation(\n",
              "            (0): Conv2d(480, 80, kernel_size=(1, 1), stride=(1, 1), bias=False)\n",
              "            (1): BatchNorm2d(80, eps=1e-05, momentum=0.1, affine=True, track_running_stats=True)\n",
              "          )\n",
              "        )\n",
              "        (stochastic_depth): StochasticDepth(p=0.08695652173913043, mode=row)\n",
              "      )\n",
              "      (3): MBConv(\n",
              "        (block): Sequential(\n",
              "          (0): Conv2dNormActivation(\n",
              "            (0): Conv2d(80, 480, kernel_size=(1, 1), stride=(1, 1), bias=False)\n",
              "            (1): BatchNorm2d(480, eps=1e-05, momentum=0.1, affine=True, track_running_stats=True)\n",
              "            (2): SiLU(inplace=True)\n",
              "          )\n",
              "          (1): Conv2dNormActivation(\n",
              "            (0): Conv2d(480, 480, kernel_size=(3, 3), stride=(1, 1), padding=(1, 1), groups=480, bias=False)\n",
              "            (1): BatchNorm2d(480, eps=1e-05, momentum=0.1, affine=True, track_running_stats=True)\n",
              "            (2): SiLU(inplace=True)\n",
              "          )\n",
              "          (2): SqueezeExcitation(\n",
              "            (avgpool): AdaptiveAvgPool2d(output_size=1)\n",
              "            (fc1): Conv2d(480, 20, kernel_size=(1, 1), stride=(1, 1))\n",
              "            (fc2): Conv2d(20, 480, kernel_size=(1, 1), stride=(1, 1))\n",
              "            (activation): SiLU(inplace=True)\n",
              "            (scale_activation): Sigmoid()\n",
              "          )\n",
              "          (3): Conv2dNormActivation(\n",
              "            (0): Conv2d(480, 80, kernel_size=(1, 1), stride=(1, 1), bias=False)\n",
              "            (1): BatchNorm2d(80, eps=1e-05, momentum=0.1, affine=True, track_running_stats=True)\n",
              "          )\n",
              "        )\n",
              "        (stochastic_depth): StochasticDepth(p=0.09565217391304348, mode=row)\n",
              "      )\n",
              "    )\n",
              "    (5): Sequential(\n",
              "      (0): MBConv(\n",
              "        (block): Sequential(\n",
              "          (0): Conv2dNormActivation(\n",
              "            (0): Conv2d(80, 480, kernel_size=(1, 1), stride=(1, 1), bias=False)\n",
              "            (1): BatchNorm2d(480, eps=1e-05, momentum=0.1, affine=True, track_running_stats=True)\n",
              "            (2): SiLU(inplace=True)\n",
              "          )\n",
              "          (1): Conv2dNormActivation(\n",
              "            (0): Conv2d(480, 480, kernel_size=(5, 5), stride=(1, 1), padding=(2, 2), groups=480, bias=False)\n",
              "            (1): BatchNorm2d(480, eps=1e-05, momentum=0.1, affine=True, track_running_stats=True)\n",
              "            (2): SiLU(inplace=True)\n",
              "          )\n",
              "          (2): SqueezeExcitation(\n",
              "            (avgpool): AdaptiveAvgPool2d(output_size=1)\n",
              "            (fc1): Conv2d(480, 20, kernel_size=(1, 1), stride=(1, 1))\n",
              "            (fc2): Conv2d(20, 480, kernel_size=(1, 1), stride=(1, 1))\n",
              "            (activation): SiLU(inplace=True)\n",
              "            (scale_activation): Sigmoid()\n",
              "          )\n",
              "          (3): Conv2dNormActivation(\n",
              "            (0): Conv2d(480, 112, kernel_size=(1, 1), stride=(1, 1), bias=False)\n",
              "            (1): BatchNorm2d(112, eps=1e-05, momentum=0.1, affine=True, track_running_stats=True)\n",
              "          )\n",
              "        )\n",
              "        (stochastic_depth): StochasticDepth(p=0.10434782608695654, mode=row)\n",
              "      )\n",
              "      (1): MBConv(\n",
              "        (block): Sequential(\n",
              "          (0): Conv2dNormActivation(\n",
              "            (0): Conv2d(112, 672, kernel_size=(1, 1), stride=(1, 1), bias=False)\n",
              "            (1): BatchNorm2d(672, eps=1e-05, momentum=0.1, affine=True, track_running_stats=True)\n",
              "            (2): SiLU(inplace=True)\n",
              "          )\n",
              "          (1): Conv2dNormActivation(\n",
              "            (0): Conv2d(672, 672, kernel_size=(5, 5), stride=(1, 1), padding=(2, 2), groups=672, bias=False)\n",
              "            (1): BatchNorm2d(672, eps=1e-05, momentum=0.1, affine=True, track_running_stats=True)\n",
              "            (2): SiLU(inplace=True)\n",
              "          )\n",
              "          (2): SqueezeExcitation(\n",
              "            (avgpool): AdaptiveAvgPool2d(output_size=1)\n",
              "            (fc1): Conv2d(672, 28, kernel_size=(1, 1), stride=(1, 1))\n",
              "            (fc2): Conv2d(28, 672, kernel_size=(1, 1), stride=(1, 1))\n",
              "            (activation): SiLU(inplace=True)\n",
              "            (scale_activation): Sigmoid()\n",
              "          )\n",
              "          (3): Conv2dNormActivation(\n",
              "            (0): Conv2d(672, 112, kernel_size=(1, 1), stride=(1, 1), bias=False)\n",
              "            (1): BatchNorm2d(112, eps=1e-05, momentum=0.1, affine=True, track_running_stats=True)\n",
              "          )\n",
              "        )\n",
              "        (stochastic_depth): StochasticDepth(p=0.11304347826086956, mode=row)\n",
              "      )\n",
              "      (2): MBConv(\n",
              "        (block): Sequential(\n",
              "          (0): Conv2dNormActivation(\n",
              "            (0): Conv2d(112, 672, kernel_size=(1, 1), stride=(1, 1), bias=False)\n",
              "            (1): BatchNorm2d(672, eps=1e-05, momentum=0.1, affine=True, track_running_stats=True)\n",
              "            (2): SiLU(inplace=True)\n",
              "          )\n",
              "          (1): Conv2dNormActivation(\n",
              "            (0): Conv2d(672, 672, kernel_size=(5, 5), stride=(1, 1), padding=(2, 2), groups=672, bias=False)\n",
              "            (1): BatchNorm2d(672, eps=1e-05, momentum=0.1, affine=True, track_running_stats=True)\n",
              "            (2): SiLU(inplace=True)\n",
              "          )\n",
              "          (2): SqueezeExcitation(\n",
              "            (avgpool): AdaptiveAvgPool2d(output_size=1)\n",
              "            (fc1): Conv2d(672, 28, kernel_size=(1, 1), stride=(1, 1))\n",
              "            (fc2): Conv2d(28, 672, kernel_size=(1, 1), stride=(1, 1))\n",
              "            (activation): SiLU(inplace=True)\n",
              "            (scale_activation): Sigmoid()\n",
              "          )\n",
              "          (3): Conv2dNormActivation(\n",
              "            (0): Conv2d(672, 112, kernel_size=(1, 1), stride=(1, 1), bias=False)\n",
              "            (1): BatchNorm2d(112, eps=1e-05, momentum=0.1, affine=True, track_running_stats=True)\n",
              "          )\n",
              "        )\n",
              "        (stochastic_depth): StochasticDepth(p=0.12173913043478261, mode=row)\n",
              "      )\n",
              "      (3): MBConv(\n",
              "        (block): Sequential(\n",
              "          (0): Conv2dNormActivation(\n",
              "            (0): Conv2d(112, 672, kernel_size=(1, 1), stride=(1, 1), bias=False)\n",
              "            (1): BatchNorm2d(672, eps=1e-05, momentum=0.1, affine=True, track_running_stats=True)\n",
              "            (2): SiLU(inplace=True)\n",
              "          )\n",
              "          (1): Conv2dNormActivation(\n",
              "            (0): Conv2d(672, 672, kernel_size=(5, 5), stride=(1, 1), padding=(2, 2), groups=672, bias=False)\n",
              "            (1): BatchNorm2d(672, eps=1e-05, momentum=0.1, affine=True, track_running_stats=True)\n",
              "            (2): SiLU(inplace=True)\n",
              "          )\n",
              "          (2): SqueezeExcitation(\n",
              "            (avgpool): AdaptiveAvgPool2d(output_size=1)\n",
              "            (fc1): Conv2d(672, 28, kernel_size=(1, 1), stride=(1, 1))\n",
              "            (fc2): Conv2d(28, 672, kernel_size=(1, 1), stride=(1, 1))\n",
              "            (activation): SiLU(inplace=True)\n",
              "            (scale_activation): Sigmoid()\n",
              "          )\n",
              "          (3): Conv2dNormActivation(\n",
              "            (0): Conv2d(672, 112, kernel_size=(1, 1), stride=(1, 1), bias=False)\n",
              "            (1): BatchNorm2d(112, eps=1e-05, momentum=0.1, affine=True, track_running_stats=True)\n",
              "          )\n",
              "        )\n",
              "        (stochastic_depth): StochasticDepth(p=0.13043478260869565, mode=row)\n",
              "      )\n",
              "    )\n",
              "    (6): Sequential(\n",
              "      (0): MBConv(\n",
              "        (block): Sequential(\n",
              "          (0): Conv2dNormActivation(\n",
              "            (0): Conv2d(112, 672, kernel_size=(1, 1), stride=(1, 1), bias=False)\n",
              "            (1): BatchNorm2d(672, eps=1e-05, momentum=0.1, affine=True, track_running_stats=True)\n",
              "            (2): SiLU(inplace=True)\n",
              "          )\n",
              "          (1): Conv2dNormActivation(\n",
              "            (0): Conv2d(672, 672, kernel_size=(5, 5), stride=(2, 2), padding=(2, 2), groups=672, bias=False)\n",
              "            (1): BatchNorm2d(672, eps=1e-05, momentum=0.1, affine=True, track_running_stats=True)\n",
              "            (2): SiLU(inplace=True)\n",
              "          )\n",
              "          (2): SqueezeExcitation(\n",
              "            (avgpool): AdaptiveAvgPool2d(output_size=1)\n",
              "            (fc1): Conv2d(672, 28, kernel_size=(1, 1), stride=(1, 1))\n",
              "            (fc2): Conv2d(28, 672, kernel_size=(1, 1), stride=(1, 1))\n",
              "            (activation): SiLU(inplace=True)\n",
              "            (scale_activation): Sigmoid()\n",
              "          )\n",
              "          (3): Conv2dNormActivation(\n",
              "            (0): Conv2d(672, 192, kernel_size=(1, 1), stride=(1, 1), bias=False)\n",
              "            (1): BatchNorm2d(192, eps=1e-05, momentum=0.1, affine=True, track_running_stats=True)\n",
              "          )\n",
              "        )\n",
              "        (stochastic_depth): StochasticDepth(p=0.1391304347826087, mode=row)\n",
              "      )\n",
              "      (1): MBConv(\n",
              "        (block): Sequential(\n",
              "          (0): Conv2dNormActivation(\n",
              "            (0): Conv2d(192, 1152, kernel_size=(1, 1), stride=(1, 1), bias=False)\n",
              "            (1): BatchNorm2d(1152, eps=1e-05, momentum=0.1, affine=True, track_running_stats=True)\n",
              "            (2): SiLU(inplace=True)\n",
              "          )\n",
              "          (1): Conv2dNormActivation(\n",
              "            (0): Conv2d(1152, 1152, kernel_size=(5, 5), stride=(1, 1), padding=(2, 2), groups=1152, bias=False)\n",
              "            (1): BatchNorm2d(1152, eps=1e-05, momentum=0.1, affine=True, track_running_stats=True)\n",
              "            (2): SiLU(inplace=True)\n",
              "          )\n",
              "          (2): SqueezeExcitation(\n",
              "            (avgpool): AdaptiveAvgPool2d(output_size=1)\n",
              "            (fc1): Conv2d(1152, 48, kernel_size=(1, 1), stride=(1, 1))\n",
              "            (fc2): Conv2d(48, 1152, kernel_size=(1, 1), stride=(1, 1))\n",
              "            (activation): SiLU(inplace=True)\n",
              "            (scale_activation): Sigmoid()\n",
              "          )\n",
              "          (3): Conv2dNormActivation(\n",
              "            (0): Conv2d(1152, 192, kernel_size=(1, 1), stride=(1, 1), bias=False)\n",
              "            (1): BatchNorm2d(192, eps=1e-05, momentum=0.1, affine=True, track_running_stats=True)\n",
              "          )\n",
              "        )\n",
              "        (stochastic_depth): StochasticDepth(p=0.14782608695652175, mode=row)\n",
              "      )\n",
              "      (2): MBConv(\n",
              "        (block): Sequential(\n",
              "          (0): Conv2dNormActivation(\n",
              "            (0): Conv2d(192, 1152, kernel_size=(1, 1), stride=(1, 1), bias=False)\n",
              "            (1): BatchNorm2d(1152, eps=1e-05, momentum=0.1, affine=True, track_running_stats=True)\n",
              "            (2): SiLU(inplace=True)\n",
              "          )\n",
              "          (1): Conv2dNormActivation(\n",
              "            (0): Conv2d(1152, 1152, kernel_size=(5, 5), stride=(1, 1), padding=(2, 2), groups=1152, bias=False)\n",
              "            (1): BatchNorm2d(1152, eps=1e-05, momentum=0.1, affine=True, track_running_stats=True)\n",
              "            (2): SiLU(inplace=True)\n",
              "          )\n",
              "          (2): SqueezeExcitation(\n",
              "            (avgpool): AdaptiveAvgPool2d(output_size=1)\n",
              "            (fc1): Conv2d(1152, 48, kernel_size=(1, 1), stride=(1, 1))\n",
              "            (fc2): Conv2d(48, 1152, kernel_size=(1, 1), stride=(1, 1))\n",
              "            (activation): SiLU(inplace=True)\n",
              "            (scale_activation): Sigmoid()\n",
              "          )\n",
              "          (3): Conv2dNormActivation(\n",
              "            (0): Conv2d(1152, 192, kernel_size=(1, 1), stride=(1, 1), bias=False)\n",
              "            (1): BatchNorm2d(192, eps=1e-05, momentum=0.1, affine=True, track_running_stats=True)\n",
              "          )\n",
              "        )\n",
              "        (stochastic_depth): StochasticDepth(p=0.1565217391304348, mode=row)\n",
              "      )\n",
              "      (3): MBConv(\n",
              "        (block): Sequential(\n",
              "          (0): Conv2dNormActivation(\n",
              "            (0): Conv2d(192, 1152, kernel_size=(1, 1), stride=(1, 1), bias=False)\n",
              "            (1): BatchNorm2d(1152, eps=1e-05, momentum=0.1, affine=True, track_running_stats=True)\n",
              "            (2): SiLU(inplace=True)\n",
              "          )\n",
              "          (1): Conv2dNormActivation(\n",
              "            (0): Conv2d(1152, 1152, kernel_size=(5, 5), stride=(1, 1), padding=(2, 2), groups=1152, bias=False)\n",
              "            (1): BatchNorm2d(1152, eps=1e-05, momentum=0.1, affine=True, track_running_stats=True)\n",
              "            (2): SiLU(inplace=True)\n",
              "          )\n",
              "          (2): SqueezeExcitation(\n",
              "            (avgpool): AdaptiveAvgPool2d(output_size=1)\n",
              "            (fc1): Conv2d(1152, 48, kernel_size=(1, 1), stride=(1, 1))\n",
              "            (fc2): Conv2d(48, 1152, kernel_size=(1, 1), stride=(1, 1))\n",
              "            (activation): SiLU(inplace=True)\n",
              "            (scale_activation): Sigmoid()\n",
              "          )\n",
              "          (3): Conv2dNormActivation(\n",
              "            (0): Conv2d(1152, 192, kernel_size=(1, 1), stride=(1, 1), bias=False)\n",
              "            (1): BatchNorm2d(192, eps=1e-05, momentum=0.1, affine=True, track_running_stats=True)\n",
              "          )\n",
              "        )\n",
              "        (stochastic_depth): StochasticDepth(p=0.16521739130434784, mode=row)\n",
              "      )\n",
              "      (4): MBConv(\n",
              "        (block): Sequential(\n",
              "          (0): Conv2dNormActivation(\n",
              "            (0): Conv2d(192, 1152, kernel_size=(1, 1), stride=(1, 1), bias=False)\n",
              "            (1): BatchNorm2d(1152, eps=1e-05, momentum=0.1, affine=True, track_running_stats=True)\n",
              "            (2): SiLU(inplace=True)\n",
              "          )\n",
              "          (1): Conv2dNormActivation(\n",
              "            (0): Conv2d(1152, 1152, kernel_size=(5, 5), stride=(1, 1), padding=(2, 2), groups=1152, bias=False)\n",
              "            (1): BatchNorm2d(1152, eps=1e-05, momentum=0.1, affine=True, track_running_stats=True)\n",
              "            (2): SiLU(inplace=True)\n",
              "          )\n",
              "          (2): SqueezeExcitation(\n",
              "            (avgpool): AdaptiveAvgPool2d(output_size=1)\n",
              "            (fc1): Conv2d(1152, 48, kernel_size=(1, 1), stride=(1, 1))\n",
              "            (fc2): Conv2d(48, 1152, kernel_size=(1, 1), stride=(1, 1))\n",
              "            (activation): SiLU(inplace=True)\n",
              "            (scale_activation): Sigmoid()\n",
              "          )\n",
              "          (3): Conv2dNormActivation(\n",
              "            (0): Conv2d(1152, 192, kernel_size=(1, 1), stride=(1, 1), bias=False)\n",
              "            (1): BatchNorm2d(192, eps=1e-05, momentum=0.1, affine=True, track_running_stats=True)\n",
              "          )\n",
              "        )\n",
              "        (stochastic_depth): StochasticDepth(p=0.17391304347826086, mode=row)\n",
              "      )\n",
              "    )\n",
              "    (7): Sequential(\n",
              "      (0): MBConv(\n",
              "        (block): Sequential(\n",
              "          (0): Conv2dNormActivation(\n",
              "            (0): Conv2d(192, 1152, kernel_size=(1, 1), stride=(1, 1), bias=False)\n",
              "            (1): BatchNorm2d(1152, eps=1e-05, momentum=0.1, affine=True, track_running_stats=True)\n",
              "            (2): SiLU(inplace=True)\n",
              "          )\n",
              "          (1): Conv2dNormActivation(\n",
              "            (0): Conv2d(1152, 1152, kernel_size=(3, 3), stride=(1, 1), padding=(1, 1), groups=1152, bias=False)\n",
              "            (1): BatchNorm2d(1152, eps=1e-05, momentum=0.1, affine=True, track_running_stats=True)\n",
              "            (2): SiLU(inplace=True)\n",
              "          )\n",
              "          (2): SqueezeExcitation(\n",
              "            (avgpool): AdaptiveAvgPool2d(output_size=1)\n",
              "            (fc1): Conv2d(1152, 48, kernel_size=(1, 1), stride=(1, 1))\n",
              "            (fc2): Conv2d(48, 1152, kernel_size=(1, 1), stride=(1, 1))\n",
              "            (activation): SiLU(inplace=True)\n",
              "            (scale_activation): Sigmoid()\n",
              "          )\n",
              "          (3): Conv2dNormActivation(\n",
              "            (0): Conv2d(1152, 320, kernel_size=(1, 1), stride=(1, 1), bias=False)\n",
              "            (1): BatchNorm2d(320, eps=1e-05, momentum=0.1, affine=True, track_running_stats=True)\n",
              "          )\n",
              "        )\n",
              "        (stochastic_depth): StochasticDepth(p=0.1826086956521739, mode=row)\n",
              "      )\n",
              "      (1): MBConv(\n",
              "        (block): Sequential(\n",
              "          (0): Conv2dNormActivation(\n",
              "            (0): Conv2d(320, 1920, kernel_size=(1, 1), stride=(1, 1), bias=False)\n",
              "            (1): BatchNorm2d(1920, eps=1e-05, momentum=0.1, affine=True, track_running_stats=True)\n",
              "            (2): SiLU(inplace=True)\n",
              "          )\n",
              "          (1): Conv2dNormActivation(\n",
              "            (0): Conv2d(1920, 1920, kernel_size=(3, 3), stride=(1, 1), padding=(1, 1), groups=1920, bias=False)\n",
              "            (1): BatchNorm2d(1920, eps=1e-05, momentum=0.1, affine=True, track_running_stats=True)\n",
              "            (2): SiLU(inplace=True)\n",
              "          )\n",
              "          (2): SqueezeExcitation(\n",
              "            (avgpool): AdaptiveAvgPool2d(output_size=1)\n",
              "            (fc1): Conv2d(1920, 80, kernel_size=(1, 1), stride=(1, 1))\n",
              "            (fc2): Conv2d(80, 1920, kernel_size=(1, 1), stride=(1, 1))\n",
              "            (activation): SiLU(inplace=True)\n",
              "            (scale_activation): Sigmoid()\n",
              "          )\n",
              "          (3): Conv2dNormActivation(\n",
              "            (0): Conv2d(1920, 320, kernel_size=(1, 1), stride=(1, 1), bias=False)\n",
              "            (1): BatchNorm2d(320, eps=1e-05, momentum=0.1, affine=True, track_running_stats=True)\n",
              "          )\n",
              "        )\n",
              "        (stochastic_depth): StochasticDepth(p=0.19130434782608696, mode=row)\n",
              "      )\n",
              "    )\n",
              "    (8): Conv2dNormActivation(\n",
              "      (0): Conv2d(320, 1280, kernel_size=(1, 1), stride=(1, 1), bias=False)\n",
              "      (1): BatchNorm2d(1280, eps=1e-05, momentum=0.1, affine=True, track_running_stats=True)\n",
              "      (2): SiLU(inplace=True)\n",
              "    )\n",
              "  )\n",
              "  (avgpool): AdaptiveAvgPool2d(output_size=1)\n",
              "  (classifier): Sequential(\n",
              "    (0): Dropout(p=0.2, inplace=True)\n",
              "    (1): Linear(in_features=1280, out_features=1000, bias=True)\n",
              "  )\n",
              ")"
            ]
          },
          "metadata": {},
          "execution_count": 89
        }
      ]
    },
    {
      "cell_type": "code",
      "source": [
        "# model.classifier[1] = nn.Linear(in_features=1280, out_features=5)\n",
        "\n",
        "model.classifier = nn.Sequential(\n",
        "    nn.Linear(in_features=1280, out_features=1024*1024),\n",
        "    nn.ReLU(),\n",
        "    nn.Linear(in_features=1024*1024, out_features=5),\n",
        ")"
      ],
      "metadata": {
        "id": "-dBcOPr68aUX"
      },
      "id": "-dBcOPr68aUX",
      "execution_count": null,
      "outputs": []
    },
    {
      "cell_type": "code",
      "source": [
        "model.classifier"
      ],
      "metadata": {
        "colab": {
          "base_uri": "https://localhost:8080/"
        },
        "id": "qDfk7rZI8t5K",
        "outputId": "bd3ee0d0-a7b8-4831-87ad-ba59c11fb0b0"
      },
      "id": "qDfk7rZI8t5K",
      "execution_count": null,
      "outputs": [
        {
          "output_type": "execute_result",
          "data": {
            "text/plain": [
              "Sequential(\n",
              "  (0): Linear(in_features=1280, out_features=1048576, bias=True)\n",
              "  (1): ReLU()\n",
              "  (2): Linear(in_features=1048576, out_features=5, bias=True)\n",
              ")"
            ]
          },
          "metadata": {},
          "execution_count": 5
        }
      ]
    },
    {
      "cell_type": "code",
      "source": [
        "model.features[0][0].weight.requires_grad"
      ],
      "metadata": {
        "colab": {
          "base_uri": "https://localhost:8080/"
        },
        "id": "V3-Xu1z887Eu",
        "outputId": "f2cb3cc8-19ee-46d0-b78f-033f8ce90533"
      },
      "id": "V3-Xu1z887Eu",
      "execution_count": null,
      "outputs": [
        {
          "output_type": "execute_result",
          "data": {
            "text/plain": [
              "True"
            ]
          },
          "metadata": {},
          "execution_count": 6
        }
      ]
    },
    {
      "cell_type": "code",
      "source": [
        "model.features[0][0].weight.requires_grad_(False)"
      ],
      "metadata": {
        "id": "XkY8kFx79lwU",
        "colab": {
          "base_uri": "https://localhost:8080/"
        },
        "outputId": "a76457be-6f11-413a-eb0c-c60bede575ce"
      },
      "id": "XkY8kFx79lwU",
      "execution_count": null,
      "outputs": [
        {
          "output_type": "execute_result",
          "data": {
            "text/plain": [
              "Parameter containing:\n",
              "tensor([[[[ 3.8642e-01,  1.2241e-01,  5.0212e-01],\n",
              "          [ 3.4997e-01,  1.1550e-01,  3.8508e-01],\n",
              "          [ 3.8387e-01,  2.2056e-01,  9.6468e-02]],\n",
              "\n",
              "         [[ 4.0602e-01,  5.6148e-01, -2.2251e-01],\n",
              "          [ 1.4863e-01,  3.9573e-01, -1.5376e-01],\n",
              "          [-4.0972e-01, -2.2052e-01, -3.6777e-01]],\n",
              "\n",
              "         [[-1.3333e-01,  2.5190e-01, -1.4265e-01],\n",
              "          [-2.0382e-01,  1.1603e-01, -9.3522e-02],\n",
              "          [-8.1681e-02,  3.6629e-02,  9.3803e-02]]],\n",
              "\n",
              "\n",
              "        [[[-6.9058e-02,  2.8358e-01, -2.4048e-01],\n",
              "          [-5.1645e-02,  6.1927e-01, -5.3088e-01],\n",
              "          [-1.1722e-02,  2.8499e-01, -3.0543e-01]],\n",
              "\n",
              "         [[-3.0572e-02,  4.9295e-01, -4.7230e-01],\n",
              "          [-3.8374e-02,  1.0284e+00, -9.7627e-01],\n",
              "          [ 3.5327e-02,  4.7342e-01, -4.9546e-01]],\n",
              "\n",
              "         [[-3.1007e-02,  1.1951e-01, -7.2655e-02],\n",
              "          [-7.1973e-02,  3.3143e-01, -2.7283e-01],\n",
              "          [ 2.4259e-02,  8.3443e-02, -1.4971e-01]]],\n",
              "\n",
              "\n",
              "        [[[ 2.0461e-01, -6.1518e-02,  9.1279e-02],\n",
              "          [-1.8198e-01, -5.3110e-01,  6.7361e-02],\n",
              "          [ 1.1345e-01, -8.5406e-02,  4.8096e-02]],\n",
              "\n",
              "         [[-1.4580e-01, -2.7701e-01, -7.1097e-02],\n",
              "          [-2.6481e-01, -4.3660e-01,  3.5552e-02],\n",
              "          [-4.4251e-04, -1.0774e-01,  2.0507e-02]],\n",
              "\n",
              "         [[ 1.3563e-02, -4.0687e-02,  4.2063e-02],\n",
              "          [-1.1624e-01, -2.0697e-01,  7.3977e-02],\n",
              "          [ 6.6678e-02,  4.7623e-03,  4.2345e-02]]],\n",
              "\n",
              "\n",
              "        [[[ 1.5384e-01,  5.4341e-01,  4.4364e-02],\n",
              "          [ 6.3022e-01,  2.0474e+00,  6.1920e-01],\n",
              "          [ 3.7199e-01,  1.5078e+00,  5.5816e-01]],\n",
              "\n",
              "         [[-1.8568e-01, -3.0848e-01, -1.1297e-01],\n",
              "          [-3.5199e-01, -7.1416e-01, -4.0234e-01],\n",
              "          [-2.3826e-01, -4.9809e-01, -2.8328e-01]],\n",
              "\n",
              "         [[ 2.0091e-02, -1.6377e-01,  4.9735e-02],\n",
              "          [-2.3268e-01, -1.1915e+00, -2.6464e-01],\n",
              "          [-1.5272e-01, -9.0797e-01, -2.2303e-01]]],\n",
              "\n",
              "\n",
              "        [[[ 1.0816e-01, -6.8590e-02,  1.2958e-01],\n",
              "          [ 6.6136e-02, -1.6301e-01,  6.4563e-02],\n",
              "          [ 1.1522e-01, -4.8972e-03,  7.2950e-02]],\n",
              "\n",
              "         [[-1.7709e-01, -4.7609e-01, -3.2888e-01],\n",
              "          [-4.9221e-01, -8.4999e-01, -5.9019e-01],\n",
              "          [-3.3001e-01, -6.6008e-01, -4.4846e-01]],\n",
              "\n",
              "         [[ 1.8738e-01,  4.7651e-01,  3.2317e-01],\n",
              "          [ 2.6557e-01,  7.1659e-01,  4.7534e-01],\n",
              "          [ 3.9136e-01,  6.9456e-01,  4.9557e-01]]],\n",
              "\n",
              "\n",
              "        [[[ 6.9948e-01,  8.8175e-01,  2.8464e-02],\n",
              "          [-9.4758e-01, -9.3174e-01, -2.9358e-01],\n",
              "          [ 2.2530e-01,  1.7267e-01,  1.6615e-01]],\n",
              "\n",
              "         [[ 1.1669e+00,  1.5096e+00,  2.0082e-01],\n",
              "          [-1.5248e+00, -1.6459e+00, -4.8787e-01],\n",
              "          [ 2.8118e-01,  2.1306e-01,  2.4905e-01]],\n",
              "\n",
              "         [[ 4.5855e-01,  5.8793e-01,  3.4743e-02],\n",
              "          [-6.0267e-01, -5.3623e-01, -2.3957e-01],\n",
              "          [ 1.3126e-01,  1.5412e-01,  5.9028e-02]]],\n",
              "\n",
              "\n",
              "        [[[ 3.5274e-01, -5.4982e-01,  1.9039e-01],\n",
              "          [ 1.0997e+00, -1.1626e+00,  1.1281e-01],\n",
              "          [ 4.7042e-01, -5.8844e-01,  1.0782e-01]],\n",
              "\n",
              "         [[ 8.0365e-01, -1.0005e+00,  2.6135e-01],\n",
              "          [ 1.8770e+00, -1.9250e+00,  1.1972e-01],\n",
              "          [ 6.6886e-01, -8.5609e-01,  1.2675e-01]],\n",
              "\n",
              "         [[ 2.7460e-01, -3.9711e-01,  1.1128e-01],\n",
              "          [ 6.8280e-01, -8.0132e-01,  4.5575e-02],\n",
              "          [ 3.4893e-01, -3.6840e-01,  7.5268e-02]]],\n",
              "\n",
              "\n",
              "        [[[-2.2006e-01,  3.7219e-01,  5.5754e-02],\n",
              "          [-1.1193e-01,  3.1736e-01, -1.1019e-01],\n",
              "          [ 1.2395e-01,  3.4559e-01,  1.1167e-02]],\n",
              "\n",
              "         [[-1.8460e-01,  5.0527e-01,  7.2048e-02],\n",
              "          [-1.1564e-01,  2.5440e-01, -2.7212e-01],\n",
              "          [ 2.4265e-01,  4.3687e-01, -3.7690e-02]],\n",
              "\n",
              "         [[-1.3984e-01,  2.6479e-01,  7.8790e-03],\n",
              "          [-1.0739e-01,  1.8540e-01, -1.1985e-01],\n",
              "          [ 1.4977e-01,  3.1103e-01,  9.2341e-02]]],\n",
              "\n",
              "\n",
              "        [[[-2.4120e-01, -2.0788e-01, -9.3013e-02],\n",
              "          [-3.0841e-01, -3.4335e-01, -1.9637e-01],\n",
              "          [-2.5711e-01, -1.9648e-01, -5.6452e-02]],\n",
              "\n",
              "         [[-5.3382e-02,  1.1507e-03, -2.3421e-03],\n",
              "          [-2.4121e-02,  1.0539e-01,  5.7824e-02],\n",
              "          [-1.2251e-01,  4.7059e-02,  9.0531e-02]],\n",
              "\n",
              "         [[ 1.6818e-01,  2.6370e-01,  1.2762e-01],\n",
              "          [ 3.3614e-01,  6.4715e-01,  3.2670e-01],\n",
              "          [ 1.9470e-01,  4.7382e-01,  3.1004e-01]]],\n",
              "\n",
              "\n",
              "        [[[-2.9360e-01, -6.1021e-01,  4.3534e-02],\n",
              "          [-1.2628e-01, -3.6993e-01,  1.8038e-02],\n",
              "          [ 6.0076e-02,  1.1647e-02,  3.4437e-02]],\n",
              "\n",
              "         [[-3.1672e-01, -2.9090e-01, -1.4529e-01],\n",
              "          [-9.4257e-02, -9.3024e-02, -3.7685e-02],\n",
              "          [-1.3249e-01, -5.3873e-02, -7.4538e-02]],\n",
              "\n",
              "         [[-2.2024e-01, -3.7993e-01,  7.1308e-02],\n",
              "          [-3.0850e-02, -2.2159e-01,  4.8473e-02],\n",
              "          [ 3.8167e-02,  4.0285e-02,  8.3913e-02]]],\n",
              "\n",
              "\n",
              "        [[[ 1.1321e-01, -7.2940e-02, -2.1619e-01],\n",
              "          [ 7.9953e-01,  3.1628e-01,  3.6656e-02],\n",
              "          [ 5.1930e-02, -9.4365e-02, -1.8477e-01]],\n",
              "\n",
              "         [[ 1.0866e-01,  6.9801e-02,  1.9569e-01],\n",
              "          [ 5.7395e-01,  1.8464e-01,  3.2324e-01],\n",
              "          [ 1.7235e-01,  8.9046e-02,  2.1656e-01]],\n",
              "\n",
              "         [[-1.0532e-01, -6.3296e-02, -1.6726e-01],\n",
              "          [ 6.0891e-01,  2.9959e-01, -1.2555e-01],\n",
              "          [-8.0580e-02, -6.5498e-02, -2.1278e-01]]],\n",
              "\n",
              "\n",
              "        [[[ 4.3661e-02,  3.3142e-02, -2.0905e-01],\n",
              "          [-9.6954e-02, -7.5001e-02, -5.9796e-01],\n",
              "          [-3.7087e-02,  7.4966e-02, -4.2732e-02]],\n",
              "\n",
              "         [[ 3.1025e-01,  5.9191e-01, -1.9552e-01],\n",
              "          [ 5.9899e-01,  1.3502e+00, -9.6004e-02],\n",
              "          [ 2.2453e-01,  7.5361e-01,  8.4913e-02]],\n",
              "\n",
              "         [[-1.4807e-02, -1.8987e-01, -1.8754e-01],\n",
              "          [-2.8725e-01, -5.8024e-01, -6.2096e-01],\n",
              "          [-1.2575e-01, -2.1485e-01, -1.6652e-01]]],\n",
              "\n",
              "\n",
              "        [[[-1.8595e-01,  2.5893e-01,  6.5096e-02],\n",
              "          [-2.1476e-02,  9.7262e-02, -5.2540e-02],\n",
              "          [ 2.2623e-01, -1.0001e-01, -1.9183e-01]],\n",
              "\n",
              "         [[-8.9677e-01,  5.7587e-03,  2.6507e-01],\n",
              "          [-4.2097e-01,  3.6441e-03,  1.8720e-01],\n",
              "          [ 2.0868e-01,  1.0582e-01,  1.6382e-01]],\n",
              "\n",
              "         [[-5.8913e-01, -1.6586e-01, -3.1477e-01],\n",
              "          [-2.0451e-01,  4.8784e-02, -8.3366e-02],\n",
              "          [-2.3984e-01, -4.5847e-02, -1.8920e-02]]],\n",
              "\n",
              "\n",
              "        [[[-5.7209e-01,  1.7340e-01, -1.8662e-02],\n",
              "          [-3.0267e-01,  2.6177e-01,  6.2408e-02],\n",
              "          [-1.1153e-02,  8.7526e-02,  4.8527e-02]],\n",
              "\n",
              "         [[-5.6100e-01, -3.3251e-02, -2.4625e-01],\n",
              "          [-3.5461e-01, -2.3166e-02, -1.8881e-01],\n",
              "          [-1.5139e-01, -1.0098e-01, -7.1014e-02]],\n",
              "\n",
              "         [[-2.6458e-01,  2.4569e-01,  3.7492e-02],\n",
              "          [-1.2579e-01,  1.4748e-01,  3.5145e-02],\n",
              "          [ 4.3285e-02,  4.0876e-02,  6.7888e-02]]],\n",
              "\n",
              "\n",
              "        [[[-9.9767e-01, -1.1953e+00, -7.4856e-01],\n",
              "          [-3.4149e-01, -2.9743e-01, -2.2055e-01],\n",
              "          [ 1.2977e+00,  1.5128e+00,  9.7736e-01]],\n",
              "\n",
              "         [[-1.6027e+00, -1.8858e+00, -1.1576e+00],\n",
              "          [-4.2610e-01, -3.9242e-01, -2.4129e-01],\n",
              "          [ 1.9524e+00,  2.2205e+00,  1.5350e+00]],\n",
              "\n",
              "         [[-6.3846e-01, -8.5005e-01, -4.7778e-01],\n",
              "          [-2.4518e-01, -2.5235e-01, -2.3054e-01],\n",
              "          [ 9.5920e-01,  1.0444e+00,  6.4891e-01]]],\n",
              "\n",
              "\n",
              "        [[[ 1.3089e-01, -5.2207e-01,  4.2315e-01],\n",
              "          [ 3.1292e-01, -1.1228e+00,  7.9907e-01],\n",
              "          [ 6.8195e-02, -4.8106e-01,  3.9974e-01]],\n",
              "\n",
              "         [[ 1.8449e-01, -9.5691e-01,  7.5847e-01],\n",
              "          [ 3.5696e-01, -1.7832e+00,  1.4513e+00],\n",
              "          [ 1.1945e-01, -7.2248e-01,  6.3424e-01]],\n",
              "\n",
              "         [[ 9.9831e-02, -3.2180e-01,  2.8910e-01],\n",
              "          [ 2.3074e-01, -8.5166e-01,  5.4217e-01],\n",
              "          [ 7.5232e-02, -3.3251e-01,  2.5642e-01]]],\n",
              "\n",
              "\n",
              "        [[[ 1.6483e-01,  3.0469e-01, -7.3835e-02],\n",
              "          [ 3.8202e-01,  6.8937e-01, -1.5405e-01],\n",
              "          [ 1.1451e-01,  3.8414e-01,  7.7093e-02]],\n",
              "\n",
              "         [[-2.0221e-01, -4.1779e-01, -4.2904e-01],\n",
              "          [-4.9690e-01, -8.6161e-01, -1.0334e+00],\n",
              "          [-3.5371e-01, -5.1922e-01, -3.7808e-01]],\n",
              "\n",
              "         [[ 1.5038e-01,  4.7926e-01, -4.0157e-03],\n",
              "          [ 4.9503e-01,  1.0667e+00,  5.8711e-02],\n",
              "          [ 2.0677e-01,  6.4227e-01,  2.1506e-01]]],\n",
              "\n",
              "\n",
              "        [[[ 1.8650e-01,  2.5584e-01,  4.6442e-02],\n",
              "          [-7.8695e-01, -1.1428e+00, -1.6799e-01],\n",
              "          [ 4.8258e-01,  7.4472e-01,  1.1336e-01]],\n",
              "\n",
              "         [[ 3.8206e-01,  4.4158e-01,  7.4601e-02],\n",
              "          [-1.2973e+00, -1.8665e+00, -4.7407e-01],\n",
              "          [ 8.0058e-01,  1.1902e+00,  3.0918e-01]],\n",
              "\n",
              "         [[ 1.6103e-01,  1.8541e-01,  4.6583e-02],\n",
              "          [-5.4401e-01, -7.9510e-01, -1.3218e-01],\n",
              "          [ 2.7352e-01,  4.7408e-01,  1.0031e-01]]],\n",
              "\n",
              "\n",
              "        [[[-2.9824e-01, -3.1554e-01, -2.7117e-01],\n",
              "          [-4.2219e-01, -4.8135e-01, -4.5563e-01],\n",
              "          [-3.1033e-01, -3.9742e-01, -4.2247e-01]],\n",
              "\n",
              "         [[ 1.1688e-01,  8.1968e-02,  2.1316e-01],\n",
              "          [ 5.1563e-02, -4.7707e-02,  1.6321e-01],\n",
              "          [ 1.8329e-01,  1.1245e-01,  1.8911e-01]],\n",
              "\n",
              "         [[ 2.0597e-01,  1.2195e-01,  1.4867e-01],\n",
              "          [ 2.3383e-01,  1.0552e-01,  2.0295e-01],\n",
              "          [ 2.0720e-01,  1.6686e-01,  1.1398e-01]]],\n",
              "\n",
              "\n",
              "        [[[ 1.6336e-01,  4.0073e-01,  9.9535e-02],\n",
              "          [ 2.8251e-01,  2.4793e-01,  2.4764e-01],\n",
              "          [-5.0571e-02, -4.1382e-02,  1.0521e-01]],\n",
              "\n",
              "         [[ 7.7289e-01,  8.5362e-01,  2.3056e-01],\n",
              "          [ 4.3952e-01,  1.5689e-01,  2.3023e-01],\n",
              "          [ 4.9223e-02, -1.2640e-01,  6.9407e-02]],\n",
              "\n",
              "         [[ 2.7944e-01,  3.6176e-01,  7.3952e-02],\n",
              "          [ 2.3741e-01,  2.2172e-01,  1.2081e-01],\n",
              "          [ 5.8985e-02,  2.3133e-02,  1.0626e-01]]],\n",
              "\n",
              "\n",
              "        [[[-7.0514e-01, -4.7274e-02,  7.8825e-01],\n",
              "          [-8.7217e-01, -1.3340e-01,  9.5309e-01],\n",
              "          [-5.9870e-01, -6.2951e-02,  7.5468e-01]],\n",
              "\n",
              "         [[ 1.8451e-01,  7.5759e-03, -1.8450e-01],\n",
              "          [ 2.0336e-01, -3.9370e-02, -2.4581e-01],\n",
              "          [ 2.1152e-01,  8.5887e-03, -2.0438e-01]],\n",
              "\n",
              "         [[ 4.8968e-01,  6.9541e-02, -5.7782e-01],\n",
              "          [ 5.9471e-01,  1.0658e-01, -7.2209e-01],\n",
              "          [ 4.4446e-01,  7.0110e-02, -5.4602e-01]]],\n",
              "\n",
              "\n",
              "        [[[-1.0053e-01,  2.5252e-03,  1.4553e-02],\n",
              "          [ 3.0832e-01,  4.6977e-01,  3.9713e-02],\n",
              "          [ 2.5676e-01,  3.2978e-01,  4.9095e-02]],\n",
              "\n",
              "         [[-6.8006e-02,  9.3658e-02, -1.8143e-02],\n",
              "          [ 6.4271e-01,  9.2361e-01,  1.2525e-01],\n",
              "          [ 3.4742e-01,  4.1023e-01,  8.9068e-02]],\n",
              "\n",
              "         [[-4.7762e-02, -3.6061e-02, -1.1904e-02],\n",
              "          [ 1.2653e-01,  2.0535e-01,  2.6445e-02],\n",
              "          [ 1.7602e-01,  2.1466e-01,  6.4802e-02]]],\n",
              "\n",
              "\n",
              "        [[[-1.0663e-01,  3.5645e-01, -6.6938e-02],\n",
              "          [-2.8499e-02,  2.3971e-01, -3.2144e-02],\n",
              "          [-7.2986e-02, -2.3005e-02, -1.0498e-01]],\n",
              "\n",
              "         [[-1.3515e-01,  5.8514e-02, -3.1557e-02],\n",
              "          [ 1.5615e-02,  5.4247e-02, -1.2127e-02],\n",
              "          [ 1.2326e-01,  9.2409e-02,  6.0831e-02]],\n",
              "\n",
              "         [[ 2.0333e-01,  7.2607e-01,  3.5521e-01],\n",
              "          [-4.9644e-02,  1.6983e-01, -1.0113e-01],\n",
              "          [-1.2694e-01, -2.4462e-02, -4.4415e-02]]],\n",
              "\n",
              "\n",
              "        [[[-3.9426e-02, -1.7276e-02,  3.1698e-02],\n",
              "          [-2.1496e-01, -3.1658e-01, -1.3974e-01],\n",
              "          [-1.3316e-01, -3.5045e-01, -3.0833e-01]],\n",
              "\n",
              "         [[-1.5802e-02,  4.9987e-02,  5.3208e-02],\n",
              "          [-3.4082e-01, -6.5334e-01, -3.4599e-01],\n",
              "          [-1.3948e-01, -5.4123e-01, -3.9648e-01]],\n",
              "\n",
              "         [[-1.3752e-02, -2.5955e-02, -5.0256e-03],\n",
              "          [-1.4981e-01, -2.1842e-01, -6.1638e-02],\n",
              "          [-1.8203e-02, -1.1897e-01, -1.4033e-01]]],\n",
              "\n",
              "\n",
              "        [[[-1.1156e+00, -6.0711e-02,  1.1703e+00],\n",
              "          [-1.5484e+00, -1.1661e-02,  1.5156e+00],\n",
              "          [-8.9966e-01, -1.3022e-01,  1.0737e+00]],\n",
              "\n",
              "         [[-1.6852e+00, -1.3703e-01,  1.7690e+00],\n",
              "          [-2.1599e+00, -1.0927e-01,  2.1795e+00],\n",
              "          [-1.3250e+00, -1.8371e-01,  1.6217e+00]],\n",
              "\n",
              "         [[-7.5388e-01, -6.9115e-02,  8.1144e-01],\n",
              "          [-1.0852e+00, -2.9064e-03,  1.0619e+00],\n",
              "          [-5.7914e-01, -1.2133e-01,  7.5124e-01]]],\n",
              "\n",
              "\n",
              "        [[[-5.4082e-02,  5.8951e-02,  3.7656e-02],\n",
              "          [ 2.6326e-02, -1.4610e-02,  1.1137e-01],\n",
              "          [-1.1812e-02, -3.2066e-02,  2.6542e-02]],\n",
              "\n",
              "         [[ 3.7955e-01,  1.3068e-01,  2.7853e-01],\n",
              "          [-8.7936e-03, -4.7909e-01, -1.7048e-01],\n",
              "          [ 4.4457e-02, -3.6420e-01, -1.5723e-01]],\n",
              "\n",
              "         [[-3.4900e-01, -3.6765e-01, -3.1589e-01],\n",
              "          [-2.7917e-01, -2.5159e-01, -2.4233e-01],\n",
              "          [-1.2355e-01, -9.8007e-02, -8.1891e-02]]],\n",
              "\n",
              "\n",
              "        [[[-2.0720e-02, -6.2181e-03, -3.0800e-01],\n",
              "          [-5.7946e-02, -2.8221e-01, -3.7908e-01],\n",
              "          [ 5.2524e-02, -9.3346e-02, -1.9470e-01]],\n",
              "\n",
              "         [[-5.0008e-02, -2.2808e-01, -4.4945e-01],\n",
              "          [-1.0392e-01, -6.1919e-01, -6.1583e-01],\n",
              "          [ 1.0227e-01, -1.4490e-01, -1.6625e-01]],\n",
              "\n",
              "         [[ 5.3646e-03,  2.4315e-02, -1.6184e-01],\n",
              "          [-5.4236e-02, -9.0713e-02, -1.7829e-01],\n",
              "          [ 4.9141e-02, -2.0806e-02, -4.6233e-02]]],\n",
              "\n",
              "\n",
              "        [[[ 3.8697e-01, -3.7205e-01, -1.9669e-02],\n",
              "          [ 7.1504e-01, -6.1148e-01, -9.2016e-02],\n",
              "          [ 3.0041e-01, -3.3320e-01, -7.4604e-03]],\n",
              "\n",
              "         [[ 6.8904e-01, -6.1830e-01, -7.0299e-02],\n",
              "          [ 1.1546e+00, -1.0630e+00, -2.0107e-01],\n",
              "          [ 5.5695e-01, -5.4935e-01,  1.9506e-02]],\n",
              "\n",
              "         [[ 2.1046e-01, -2.2775e-01,  2.4324e-02],\n",
              "          [ 4.8397e-01, -4.0971e-01, -1.6858e-02],\n",
              "          [ 1.8117e-01, -2.4488e-01,  2.1964e-02]]],\n",
              "\n",
              "\n",
              "        [[[ 5.0654e-02,  7.4402e-05, -1.4101e-01],\n",
              "          [ 8.4204e-01,  9.1397e-01,  1.7177e-01],\n",
              "          [-9.2958e-01, -9.3729e-01, -3.9340e-02]],\n",
              "\n",
              "         [[ 6.1210e-02, -7.3600e-02, -2.5654e-01],\n",
              "          [ 1.5241e+00,  1.6571e+00,  4.1386e-01],\n",
              "          [-1.5226e+00, -1.6357e+00, -1.8824e-01]],\n",
              "\n",
              "         [[ 2.7405e-02,  1.3793e-03, -7.6812e-02],\n",
              "          [ 4.4222e-01,  4.4532e-01,  6.0471e-02],\n",
              "          [-4.3270e-01, -5.5140e-01, -3.7485e-03]]],\n",
              "\n",
              "\n",
              "        [[[-2.3089e-01, -3.8890e-01, -4.9908e-02],\n",
              "          [-2.6936e-01, -5.9392e-01, -2.2995e-01],\n",
              "          [-1.3231e-01, -4.2919e-01, -1.2203e-01]],\n",
              "\n",
              "         [[ 2.6915e-01,  4.9285e-01,  2.1194e-01],\n",
              "          [ 5.1286e-01,  8.2289e-01,  2.7673e-01],\n",
              "          [ 3.2897e-01,  3.8590e-01,  3.4942e-01]],\n",
              "\n",
              "         [[-1.5547e-01, -8.3435e-02, -1.3699e-01],\n",
              "          [-7.0391e-03,  7.9322e-02, -5.7387e-02],\n",
              "          [-3.2775e-01, -2.8134e-01, -1.8053e-01]]],\n",
              "\n",
              "\n",
              "        [[[-3.6207e-01, -4.8922e-01, -1.2795e-01],\n",
              "          [-6.9988e-01, -1.2605e+00, -5.8458e-01],\n",
              "          [-3.6158e-01, -8.5768e-01, -5.5106e-01]],\n",
              "\n",
              "         [[ 1.4350e-01,  1.8285e-01, -4.0346e-02],\n",
              "          [ 1.6186e-01,  4.0616e-01,  2.1827e-01],\n",
              "          [-1.1034e-01,  8.2738e-02,  4.5524e-02]],\n",
              "\n",
              "         [[ 1.9693e-01,  2.6792e-01,  9.8398e-02],\n",
              "          [ 5.2568e-01,  9.8756e-01,  4.3276e-01],\n",
              "          [ 4.4229e-01,  8.1176e-01,  4.1470e-01]]],\n",
              "\n",
              "\n",
              "        [[[-3.0724e-01, -4.3475e-01, -2.5997e-01],\n",
              "          [-4.2065e-01, -6.9160e-01, -4.0105e-01],\n",
              "          [-3.0896e-01, -4.4693e-01, -2.7567e-01]],\n",
              "\n",
              "         [[ 3.7963e-01,  7.5947e-01,  4.0827e-01],\n",
              "          [ 8.3131e-01,  1.2607e+00,  8.5531e-01],\n",
              "          [ 5.2194e-01,  9.1083e-01,  5.4261e-01]],\n",
              "\n",
              "         [[-1.8628e-01, -3.4072e-01, -1.7337e-01],\n",
              "          [-4.4106e-01, -6.7417e-01, -4.0792e-01],\n",
              "          [-1.5939e-01, -3.0007e-01, -2.0812e-01]]]])"
            ]
          },
          "metadata": {},
          "execution_count": 7
        }
      ]
    },
    {
      "cell_type": "code",
      "source": [
        "model.features[0][0].weight.requires_grad"
      ],
      "metadata": {
        "colab": {
          "base_uri": "https://localhost:8080/"
        },
        "id": "tow6U83a9lrm",
        "outputId": "a98f8e37-c2a1-4284-fc5f-495814d9be50"
      },
      "id": "tow6U83a9lrm",
      "execution_count": null,
      "outputs": [
        {
          "output_type": "execute_result",
          "data": {
            "text/plain": [
              "False"
            ]
          },
          "metadata": {},
          "execution_count": 8
        }
      ]
    },
    {
      "cell_type": "code",
      "source": [
        "for name, param in model.named_parameters():\n",
        "  print(name)\n",
        "  if name.startswith(\"features\"):\n",
        "    param.requires_grad_(False)\n",
        "  break"
      ],
      "metadata": {
        "colab": {
          "base_uri": "https://localhost:8080/"
        },
        "id": "mUIMpXfR9zwd",
        "outputId": "e0607ef8-6e39-404a-bd89-ab1758a3b933"
      },
      "id": "mUIMpXfR9zwd",
      "execution_count": null,
      "outputs": [
        {
          "output_type": "stream",
          "name": "stdout",
          "text": [
            "features.0.0.weight\n"
          ]
        }
      ]
    },
    {
      "cell_type": "code",
      "source": [
        "images = th.randint(0, 255, (16, 3, 500, 500)).float()"
      ],
      "metadata": {
        "id": "Br0iuNzM95xX"
      },
      "id": "Br0iuNzM95xX",
      "execution_count": null,
      "outputs": []
    },
    {
      "cell_type": "code",
      "source": [
        "out = model(images)"
      ],
      "metadata": {
        "id": "00POGFdU-TkP"
      },
      "id": "00POGFdU-TkP",
      "execution_count": null,
      "outputs": []
    },
    {
      "cell_type": "code",
      "source": [
        "out.shape"
      ],
      "metadata": {
        "id": "VeaI7-in-Wtl"
      },
      "id": "VeaI7-in-Wtl",
      "execution_count": null,
      "outputs": []
    },
    {
      "cell_type": "code",
      "source": [
        "t = torchvision.models.EfficientNet_B1_Weights.IMAGENET1K_V1.transforms()\n",
        "t"
      ],
      "metadata": {
        "id": "uckP31VZ-80L"
      },
      "id": "uckP31VZ-80L",
      "execution_count": null,
      "outputs": []
    },
    {
      "cell_type": "code",
      "source": [
        "images_t = t(images)\n",
        "images_t.shape"
      ],
      "metadata": {
        "id": "JLkxY0x7_Fga"
      },
      "id": "JLkxY0x7_Fga",
      "execution_count": null,
      "outputs": []
    },
    {
      "cell_type": "code",
      "source": [],
      "metadata": {
        "id": "QEv2KCtv_Ihs"
      },
      "id": "QEv2KCtv_Ihs",
      "execution_count": null,
      "outputs": []
    },
    {
      "cell_type": "markdown",
      "id": "4d7b6d63",
      "metadata": {
        "id": "4d7b6d63"
      },
      "source": [
        "## Задачи для самостоятельного решения"
      ]
    },
    {
      "cell_type": "markdown",
      "id": "2ca02454",
      "metadata": {
        "id": "2ca02454"
      },
      "source": [
        "<p class=\"task\" id=\"1\"></p>\n",
        "\n",
        "1\\. Используя реализацию из `torchvision`, cоздайте модель `vgg16` и загрузите предобученные веса `IMAGENET1K_V1`. Выведите на экран структуру модели, количество слоев и количество настраиваемых (`requires_grad==True`) параметров модели.\n",
        "\n",
        "- [x] Проверено на семинаре"
      ]
    },
    {
      "cell_type": "code",
      "source": [
        "from torchvision.models import vgg16\n",
        "import torchvision.models as models\n",
        "import torchvision.transforms.v2 as T\n",
        "from torchvision.datasets import ImageFolder\n",
        "from torch.utils.data import Dataset, DataLoader, random_split"
      ],
      "metadata": {
        "id": "zbyRpPgK3yFE"
      },
      "execution_count": null,
      "outputs": [],
      "id": "zbyRpPgK3yFE"
    },
    {
      "cell_type": "code",
      "source": [
        "model = vgg16(weights='IMAGENET1K_V1').cuda()"
      ],
      "metadata": {
        "id": "XI2rV1p43yCr"
      },
      "execution_count": null,
      "outputs": [],
      "id": "XI2rV1p43yCr"
    },
    {
      "cell_type": "code",
      "source": [
        "model"
      ],
      "metadata": {
        "colab": {
          "base_uri": "https://localhost:8080/"
        },
        "id": "FOJtZo_4PK3D",
        "outputId": "74ad30d0-c6f3-4e75-8b03-c25c2f8aa3d8"
      },
      "id": "FOJtZo_4PK3D",
      "execution_count": null,
      "outputs": [
        {
          "output_type": "execute_result",
          "data": {
            "text/plain": [
              "VGG(\n",
              "  (features): Sequential(\n",
              "    (0): Conv2d(3, 64, kernel_size=(3, 3), stride=(1, 1), padding=(1, 1))\n",
              "    (1): ReLU(inplace=True)\n",
              "    (2): Conv2d(64, 64, kernel_size=(3, 3), stride=(1, 1), padding=(1, 1))\n",
              "    (3): ReLU(inplace=True)\n",
              "    (4): MaxPool2d(kernel_size=2, stride=2, padding=0, dilation=1, ceil_mode=False)\n",
              "    (5): Conv2d(64, 128, kernel_size=(3, 3), stride=(1, 1), padding=(1, 1))\n",
              "    (6): ReLU(inplace=True)\n",
              "    (7): Conv2d(128, 128, kernel_size=(3, 3), stride=(1, 1), padding=(1, 1))\n",
              "    (8): ReLU(inplace=True)\n",
              "    (9): MaxPool2d(kernel_size=2, stride=2, padding=0, dilation=1, ceil_mode=False)\n",
              "    (10): Conv2d(128, 256, kernel_size=(3, 3), stride=(1, 1), padding=(1, 1))\n",
              "    (11): ReLU(inplace=True)\n",
              "    (12): Conv2d(256, 256, kernel_size=(3, 3), stride=(1, 1), padding=(1, 1))\n",
              "    (13): ReLU(inplace=True)\n",
              "    (14): Conv2d(256, 256, kernel_size=(3, 3), stride=(1, 1), padding=(1, 1))\n",
              "    (15): ReLU(inplace=True)\n",
              "    (16): MaxPool2d(kernel_size=2, stride=2, padding=0, dilation=1, ceil_mode=False)\n",
              "    (17): Conv2d(256, 512, kernel_size=(3, 3), stride=(1, 1), padding=(1, 1))\n",
              "    (18): ReLU(inplace=True)\n",
              "    (19): Conv2d(512, 512, kernel_size=(3, 3), stride=(1, 1), padding=(1, 1))\n",
              "    (20): ReLU(inplace=True)\n",
              "    (21): Conv2d(512, 512, kernel_size=(3, 3), stride=(1, 1), padding=(1, 1))\n",
              "    (22): ReLU(inplace=True)\n",
              "    (23): MaxPool2d(kernel_size=2, stride=2, padding=0, dilation=1, ceil_mode=False)\n",
              "    (24): Conv2d(512, 512, kernel_size=(3, 3), stride=(1, 1), padding=(1, 1))\n",
              "    (25): ReLU(inplace=True)\n",
              "    (26): Conv2d(512, 512, kernel_size=(3, 3), stride=(1, 1), padding=(1, 1))\n",
              "    (27): ReLU(inplace=True)\n",
              "    (28): Conv2d(512, 512, kernel_size=(3, 3), stride=(1, 1), padding=(1, 1))\n",
              "    (29): ReLU(inplace=True)\n",
              "    (30): MaxPool2d(kernel_size=2, stride=2, padding=0, dilation=1, ceil_mode=False)\n",
              "  )\n",
              "  (avgpool): AdaptiveAvgPool2d(output_size=(7, 7))\n",
              "  (classifier): Sequential(\n",
              "    (0): Linear(in_features=25088, out_features=4096, bias=True)\n",
              "    (1): ReLU(inplace=True)\n",
              "    (2): Dropout(p=0.5, inplace=False)\n",
              "    (3): Linear(in_features=4096, out_features=4096, bias=True)\n",
              "    (4): ReLU(inplace=True)\n",
              "    (5): Dropout(p=0.5, inplace=False)\n",
              "    (6): Linear(in_features=4096, out_features=1000, bias=True)\n",
              "  )\n",
              ")"
            ]
          },
          "metadata": {},
          "execution_count": 254
        }
      ]
    },
    {
      "cell_type": "code",
      "source": [
        "len(model.classifier) + len(model.features) + 1 #avgpool"
      ],
      "metadata": {
        "colab": {
          "base_uri": "https://localhost:8080/"
        },
        "id": "_EyYiw1ZFjTS",
        "outputId": "92bbf736-d5a0-40ff-ab8e-0cea42f9be97"
      },
      "id": "_EyYiw1ZFjTS",
      "execution_count": null,
      "outputs": [
        {
          "output_type": "execute_result",
          "data": {
            "text/plain": [
              "39"
            ]
          },
          "metadata": {},
          "execution_count": 255
        }
      ]
    },
    {
      "cell_type": "code",
      "source": [
        "import numpy as np"
      ],
      "metadata": {
        "id": "D4W48KGj7NgW"
      },
      "execution_count": null,
      "outputs": [],
      "id": "D4W48KGj7NgW"
    },
    {
      "cell_type": "code",
      "source": [
        "sum(p.numel() for p in model.parameters() if p.requires_grad==True)"
      ],
      "metadata": {
        "colab": {
          "base_uri": "https://localhost:8080/"
        },
        "id": "G0tI8St65nea",
        "outputId": "09dfc458-41c9-4ba0-b4a5-128cc95799ff"
      },
      "execution_count": null,
      "outputs": [
        {
          "output_type": "execute_result",
          "data": {
            "text/plain": [
              "138357544"
            ]
          },
          "metadata": {},
          "execution_count": 257
        }
      ],
      "id": "G0tI8St65nea"
    },
    {
      "cell_type": "markdown",
      "id": "5b918e12",
      "metadata": {
        "id": "5b918e12"
      },
      "source": [
        "<p class=\"task\" id=\"2\"></p>\n",
        "\n",
        "2\\. Создайте датасет `CatBreeds` на основе данных из архива `cat_breeds_4.zip`. Разбейте датасет на обучающее и тестовое множество в соотношении 80 на 20%.\n",
        "\n",
        "К обучающему датасету примените следующее преобразование: приведите картинки к размеру 256x256, затем обрежьте по центру с размером 224х224, затем переведите изображения в тензор и нормализуйте значения интенсивности пикселей (`mean=(0.485, 0.456, 0.406), std=(0.229, 0.224, 0.225)`).\n",
        "\n",
        "К тестовому датасету примените преобразование `VGG16_Weights.IMAGENET1K_V1.transforms`.\n",
        "\n",
        "- [ ] Проверено на семинаре"
      ]
    },
    {
      "cell_type": "code",
      "source": [
        "from google.colab import drive\n",
        "drive.mount('/content/drive')"
      ],
      "metadata": {
        "colab": {
          "base_uri": "https://localhost:8080/"
        },
        "id": "oE5SGYR5_MEE",
        "outputId": "65d5659f-702d-4b4d-ef9b-4f9d0fe02ab9"
      },
      "execution_count": null,
      "outputs": [
        {
          "output_type": "stream",
          "name": "stdout",
          "text": [
            "Drive already mounted at /content/drive; to attempt to forcibly remount, call drive.mount(\"/content/drive\", force_remount=True).\n"
          ]
        }
      ],
      "id": "oE5SGYR5_MEE"
    },
    {
      "cell_type": "code",
      "source": [
        "import zipfile\n",
        "\n",
        "with zipfile.ZipFile('/content/drive/MyDrive/cat_breeds_4.zip', 'r') as zip_ref:\n",
        "    zip_ref.extractall('/content/')\n",
        "    zip_ref.close()"
      ],
      "metadata": {
        "id": "DtOHahRq-TLb"
      },
      "execution_count": null,
      "outputs": [],
      "id": "DtOHahRq-TLb"
    },
    {
      "cell_type": "code",
      "source": [
        "data_way = ImageFolder('/content/cat_breeds_4')"
      ],
      "metadata": {
        "id": "hH2vlmGqxAfk"
      },
      "id": "hH2vlmGqxAfk",
      "execution_count": null,
      "outputs": []
    },
    {
      "cell_type": "code",
      "source": [
        "train_transform = transforms.Compose([\n",
        "    transforms.Resize(256),\n",
        "    transforms.CenterCrop(224),\n",
        "    transforms.ToTensor(),\n",
        "    transforms.Normalize(mean=(0.485, 0.456, 0.406), std=(0.229, 0.224, 0.225))\n",
        "])\n",
        "\n",
        "test_transform = transforms.Compose([models.VGG16_Weights.IMAGENET1K_V1.transforms()])"
      ],
      "metadata": {
        "id": "1MBT5Y9hA64R"
      },
      "execution_count": null,
      "outputs": [],
      "id": "1MBT5Y9hA64R"
    },
    {
      "cell_type": "code",
      "source": [
        "train_dataset, test_dataset = random_split(data_way, [0.8, 0.2])"
      ],
      "metadata": {
        "id": "ULF9K9mnNDdc"
      },
      "execution_count": null,
      "outputs": [],
      "id": "ULF9K9mnNDdc"
    },
    {
      "cell_type": "code",
      "source": [
        "train_dataset.dataset.transform = train_transform\n",
        "test_dataset.dataset.transform = test_transform"
      ],
      "metadata": {
        "id": "nrcVFznKPDvo"
      },
      "execution_count": null,
      "outputs": [],
      "id": "nrcVFznKPDvo"
    },
    {
      "cell_type": "code",
      "source": [
        "len(train_dataset)"
      ],
      "metadata": {
        "colab": {
          "base_uri": "https://localhost:8080/"
        },
        "id": "ebjF_MFzPd1E",
        "outputId": "ab1ee4f7-7d39-4387-aa8b-64c03fd88aa4"
      },
      "execution_count": null,
      "outputs": [
        {
          "output_type": "execute_result",
          "data": {
            "text/plain": [
              "3200"
            ]
          },
          "metadata": {},
          "execution_count": 264
        }
      ],
      "id": "ebjF_MFzPd1E"
    },
    {
      "cell_type": "code",
      "source": [
        "len(test_dataset)"
      ],
      "metadata": {
        "colab": {
          "base_uri": "https://localhost:8080/"
        },
        "id": "a0qRV_ypCOkP",
        "outputId": "a1c315aa-09a7-4a99-b132-1ed08221de18"
      },
      "execution_count": null,
      "outputs": [
        {
          "output_type": "execute_result",
          "data": {
            "text/plain": [
              "800"
            ]
          },
          "metadata": {},
          "execution_count": 265
        }
      ],
      "id": "a0qRV_ypCOkP"
    },
    {
      "cell_type": "markdown",
      "id": "14ef2afa",
      "metadata": {
        "id": "14ef2afa"
      },
      "source": [
        "<p class=\"task\" id=\"3\"></p>\n",
        "\n",
        "3\\. Заморозьте все веса модели из предыдущего задания. Замените последний слой `Linear` классификатора на новый слой, соответствующий задаче. После изменения последнего слоя выведите на экран количество настраиваемых (`requires_grad==True`) параметров модели. Решите задачу, используя модель с замороженными весами и изменнным последним слоем.\n",
        "\n",
        "Постройте график изменения значения функции потерь на обучающем множестве в зависимости от номера эпохи, графики изменения метрики accuracy на обучающем и тестовом множестве в зависимости от эпохи. Выведите на экран итоговое значение метрики accuracy на обучающем и тестовом множестве.\n",
        "\n",
        "- [ ] Проверено на семинаре"
      ]
    },
    {
      "cell_type": "code",
      "source": [
        "import torch\n",
        "import torch.nn as nn\n",
        "import torch.optim as optim\n",
        "import matplotlib.pyplot as plt"
      ],
      "metadata": {
        "id": "aer3oMGNgE3K"
      },
      "id": "aer3oMGNgE3K",
      "execution_count": null,
      "outputs": []
    },
    {
      "cell_type": "code",
      "source": [
        "#Заморозьте все веса модели из предыдущего задания\n",
        "for param in model.parameters():\n",
        "    param.requires_grad = False"
      ],
      "metadata": {
        "id": "s5wjZqwmytSV"
      },
      "id": "s5wjZqwmytSV",
      "execution_count": null,
      "outputs": []
    },
    {
      "cell_type": "code",
      "source": [
        "model.classifier[-1] = nn.Linear(4096, 4)\n",
        "model.classifier"
      ],
      "metadata": {
        "colab": {
          "base_uri": "https://localhost:8080/"
        },
        "id": "HPOFefG-yuhM",
        "outputId": "e61d2db2-498a-4c88-cff6-b32420b7f56f"
      },
      "id": "HPOFefG-yuhM",
      "execution_count": null,
      "outputs": [
        {
          "output_type": "execute_result",
          "data": {
            "text/plain": [
              "Sequential(\n",
              "  (0): Linear(in_features=25088, out_features=4096, bias=True)\n",
              "  (1): ReLU(inplace=True)\n",
              "  (2): Dropout(p=0.5, inplace=False)\n",
              "  (3): Linear(in_features=4096, out_features=4096, bias=True)\n",
              "  (4): ReLU(inplace=True)\n",
              "  (5): Dropout(p=0.5, inplace=False)\n",
              "  (6): Linear(in_features=4096, out_features=4, bias=True)\n",
              ")"
            ]
          },
          "metadata": {},
          "execution_count": 267
        }
      ]
    },
    {
      "cell_type": "code",
      "source": [
        "train_loader = DataLoader(train_dataset, batch_size=64, shuffle=True)\n",
        "test_loader = DataLoader(test_dataset, batch_size=64)\n",
        "\n",
        "device = torch.device('cuda' if torch.cuda.is_available() else 'cpu')\n",
        "model = model.to(device)\n",
        "\n",
        "train_loss_history = []\n",
        "train_acc_history = []\n",
        "val_loss_history = []\n",
        "val_acc_history = []\n",
        "\n",
        "criterion = nn.CrossEntropyLoss()\n",
        "optimizer = optim.SGD(model.classifier[-1].parameters(), lr=0.001, momentum=0.9)"
      ],
      "metadata": {
        "id": "VJs_jMIp0P5d"
      },
      "id": "VJs_jMIp0P5d",
      "execution_count": null,
      "outputs": []
    },
    {
      "cell_type": "code",
      "source": [
        "num_epochs = 10\n",
        "for epoch in range(num_epochs):\n",
        "    model.train()  # Переключаем модель в режим обучения\n",
        "    running_loss = 0.0\n",
        "    running_corrects = 0\n",
        "\n",
        "    for inputs, labels in train_loader:\n",
        "        inputs = inputs.to(device)\n",
        "        labels = labels.to(device)\n",
        "\n",
        "        optimizer.zero_grad()\n",
        "\n",
        "        with torch.set_grad_enabled(True):\n",
        "            outputs = model(inputs)\n",
        "            _, preds = torch.max(outputs, 1)\n",
        "            loss = criterion(outputs, labels)\n",
        "\n",
        "            loss.backward()\n",
        "            optimizer.step()\n",
        "\n",
        "        running_loss += loss.item() * inputs.size(0)\n",
        "        running_corrects += torch.sum(preds == labels.data)\n",
        "\n",
        "    epoch_loss = running_loss / len(train_loader.dataset)\n",
        "    epoch_acc = running_corrects.double() / len(train_loader.dataset)\n",
        "\n",
        "    train_loss_history.append(epoch_loss)\n",
        "    train_acc_history.append(epoch_acc)\n",
        "\n",
        "    print(f'Epoch {epoch + 1}/{num_epochs} train: Loss: {epoch_loss} Acc: {epoch_acc}')\n",
        "\n",
        "    # Валидация модели\n",
        "    model.eval()  # Переключаем модель в режим оценки\n",
        "    running_loss = 0.0\n",
        "    running_corrects = 0\n",
        "\n",
        "    for inputs, labels in test_loader:\n",
        "        inputs = inputs.to(device)\n",
        "        labels = labels.to(device)\n",
        "\n",
        "        with torch.no_grad():\n",
        "            outputs = model(inputs)\n",
        "            _, preds = torch.max(outputs, 1)\n",
        "            loss = criterion(outputs, labels)\n",
        "\n",
        "        running_loss += loss.item() * inputs.size(0)\n",
        "        running_corrects += torch.sum(preds == labels.data)\n",
        "\n",
        "    epoch_loss = running_loss / len(test_loader.dataset)\n",
        "    epoch_acc = running_corrects.double() / len(test_loader.dataset)\n",
        "\n",
        "    val_loss_history.append(epoch_loss)\n",
        "    val_acc_history.append(epoch_acc)\n",
        "\n",
        "    print(f'Epoch {epoch + 1}/{num_epochs} val: Loss: {epoch_loss} Acc: {epoch_acc}')"
      ],
      "metadata": {
        "colab": {
          "base_uri": "https://localhost:8080/"
        },
        "id": "iYlyOQJWi9zd",
        "outputId": "de8d700a-d0d6-473c-8fb0-8a039c2d49d3"
      },
      "id": "iYlyOQJWi9zd",
      "execution_count": null,
      "outputs": [
        {
          "output_type": "stream",
          "name": "stdout",
          "text": [
            "Epoch 1/10 train: Loss: 0.7828664809465409 Acc: 0.673125\n",
            "Epoch 1/10 val: Loss: 0.5980269527435302 Acc: 0.7625000000000001\n",
            "Epoch 2/10 train: Loss: 0.5909617668390275 Acc: 0.76125\n",
            "Epoch 2/10 val: Loss: 0.5855741143226624 Acc: 0.76875\n",
            "Epoch 3/10 train: Loss: 0.5406824666261673 Acc: 0.784375\n",
            "Epoch 3/10 val: Loss: 0.5637026190757751 Acc: 0.765\n",
            "Epoch 4/10 train: Loss: 0.5272070497274399 Acc: 0.7853125\n",
            "Epoch 4/10 val: Loss: 0.5519672775268555 Acc: 0.785\n",
            "Epoch 5/10 train: Loss: 0.5201281744241715 Acc: 0.7884375\n",
            "Epoch 5/10 val: Loss: 0.5320329713821411 Acc: 0.7837500000000001\n",
            "Epoch 6/10 train: Loss: 0.5113832968473434 Acc: 0.79625\n",
            "Epoch 6/10 val: Loss: 0.5674865126609803 Acc: 0.77625\n",
            "Epoch 7/10 train: Loss: 0.4918042606115341 Acc: 0.80125\n",
            "Epoch 7/10 val: Loss: 0.5303047275543213 Acc: 0.76875\n",
            "Epoch 8/10 train: Loss: 0.47678902685642244 Acc: 0.8090625\n",
            "Epoch 8/10 val: Loss: 0.5210399174690247 Acc: 0.7837500000000001\n",
            "Epoch 9/10 train: Loss: 0.487499817609787 Acc: 0.8093750000000001\n",
            "Epoch 9/10 val: Loss: 0.5236230993270874 Acc: 0.7837500000000001\n",
            "Epoch 10/10 train: Loss: 0.4950787925720215 Acc: 0.7971875\n",
            "Epoch 10/10 val: Loss: 0.5416945147514344 Acc: 0.78\n"
          ]
        }
      ]
    },
    {
      "cell_type": "code",
      "source": [
        "plt.figure()\n",
        "plt.plot(range(1, num_epochs + 1), train_loss_history, label='Train Loss')\n",
        "plt.xlabel('Epoch')\n",
        "plt.ylabel('Loss')\n",
        "plt.legend()\n",
        "plt.title(' изменения значения функции потерь на обучающем множестве в зависимости от номера эпохи')\n",
        "plt.show()"
      ],
      "metadata": {
        "colab": {
          "base_uri": "https://localhost:8080/",
          "height": 472
        },
        "id": "83xNny2T2Q1F",
        "outputId": "0b1da1b4-6f4b-4946-b7ac-5080c6358d3c"
      },
      "id": "83xNny2T2Q1F",
      "execution_count": null,
      "outputs": [
        {
          "output_type": "display_data",
          "data": {
            "text/plain": [
              "<Figure size 640x480 with 1 Axes>"
            ],
            "image/png": "[encoded data removed]"
          },
          "metadata": {}
        }
      ]
    },
    {
      "cell_type": "code",
      "source": [
        "# Перемещение тензоров на CPU для построения графика\n",
        "train_acc_cpu = [acc.cpu().numpy() for acc in train_acc_history]\n",
        "val_acc_cpu = [acc.cpu().numpy() for acc in val_acc_history]\n",
        "\n",
        "\n",
        "plt.figure()\n",
        "plt.plot(range(1, num_epochs + 1), train_acc_cpu, label='Train Accuracy')\n",
        "plt.plot(range(1, num_epochs + 1), val_acc_cpu, label='Test Accuracy')\n",
        "plt.xlabel('Epoch')\n",
        "plt.ylabel('Accuracy')\n",
        "plt.legend()\n",
        "plt.title('изменения метрики accuracy на обучающем и тестовом множестве в зависимости от эпохи')\n",
        "plt.show()\n"
      ],
      "metadata": {
        "colab": {
          "base_uri": "https://localhost:8080/",
          "height": 472
        },
        "id": "x6v9D7Wy2W-r",
        "outputId": "ca07999f-4b64-45c4-addf-d252b6786808"
      },
      "id": "x6v9D7Wy2W-r",
      "execution_count": null,
      "outputs": [
        {
          "output_type": "display_data",
          "data": {
            "text/plain": [
              "<Figure size 640x480 with 1 Axes>"
            ],
            "image/png": "[encoded data removed]"
          },
          "metadata": {}
        }
      ]
    },
    {
      "cell_type": "code",
      "source": [
        "final_train_accuracy = train_acc_history[-1]\n",
        "final_test_accuracy = val_acc_history[-1]\n",
        "print(f'Final Train Accuracy: {final_train_accuracy:.4f}')\n",
        "print(f'Final Test Accuracy: {final_test_accuracy:.4f}')"
      ],
      "metadata": {
        "colab": {
          "base_uri": "https://localhost:8080/"
        },
        "id": "8Us9fPE12q4t",
        "outputId": "56706acd-203c-4000-d835-f399164c0338"
      },
      "id": "8Us9fPE12q4t",
      "execution_count": null,
      "outputs": [
        {
          "output_type": "stream",
          "name": "stdout",
          "text": [
            "Final Train Accuracy: 0.7972\n",
            "Final Test Accuracy: 0.7800\n"
          ]
        }
      ]
    },
    {
      "cell_type": "markdown",
      "source": [
        "## Я поздно заметил, что в 4 задании просилось замерить время, в 3 и 4 задании скорость выполнения была около 6-7 минут на gpu, сейчас коллаб не дает доступ к нему. Модель в 4 задании работала чуть подольше тк, заморожены не все веса."
      ],
      "metadata": {
        "id": "AvDrIh2oBXC2"
      },
      "id": "AvDrIh2oBXC2"
    },
    {
      "cell_type": "markdown",
      "id": "9ecc37d5",
      "metadata": {
        "id": "9ecc37d5"
      },
      "source": [
        "<p class=\"task\" id=\"4\"></p>\n",
        "\n",
        "4\\. Повторите решение предыдущей задачи, заморозив все сверточные слои, кроме последнего (слои классификатора не замораживайте). Сравните качество полученного решения и решения из предыдущей задачи, а также время, затраченное на обучения моделей.\n",
        "\n",
        "- [ ] Проверено на семинаре"
      ]
    },
    {
      "cell_type": "code",
      "source": [
        "for name, param in model.named_parameters():\n",
        "    print(name, param.requires_grad)"
      ],
      "metadata": {
        "colab": {
          "base_uri": "https://localhost:8080/"
        },
        "id": "xhsW_X425REf",
        "outputId": "a0078ee5-96e1-4d45-c523-97d37cd66c18"
      },
      "id": "xhsW_X425REf",
      "execution_count": null,
      "outputs": [
        {
          "output_type": "stream",
          "name": "stdout",
          "text": [
            "features.0.weight False\n",
            "features.0.bias False\n",
            "features.2.weight False\n",
            "features.2.bias False\n",
            "features.5.weight False\n",
            "features.5.bias False\n",
            "features.7.weight False\n",
            "features.7.bias False\n",
            "features.10.weight False\n",
            "features.10.bias False\n",
            "features.12.weight False\n",
            "features.12.bias False\n",
            "features.14.weight False\n",
            "features.14.bias False\n",
            "features.17.weight False\n",
            "features.17.bias False\n",
            "features.19.weight False\n",
            "features.19.bias False\n",
            "features.21.weight False\n",
            "features.21.bias False\n",
            "features.24.weight False\n",
            "features.24.bias False\n",
            "features.26.weight False\n",
            "features.26.bias False\n",
            "features.28.weight False\n",
            "features.28.bias False\n",
            "classifier.0.weight True\n",
            "classifier.0.bias True\n",
            "classifier.3.weight True\n",
            "classifier.3.bias True\n",
            "classifier.6.weight True\n",
            "classifier.6.bias True\n"
          ]
        }
      ]
    },
    {
      "cell_type": "code",
      "source": [
        "# Замораживаем все сверточные слои, кроме последнего\n",
        "for name, param in model.named_parameters():\n",
        "    if \"classifier\" not in name:\n",
        "        param.requires_grad = False\n",
        "\n",
        "# Перемещаем модель на устройство\n",
        "device = torch.device('cuda' if torch.cuda.is_available() else 'cpu')\n",
        "model = model.to(device)\n",
        "\n",
        "# Создаем оптимизатор только для параметров, у которых requires_grad=True\n",
        "optimizer = optim.SGD(filter(lambda p: p.requires_grad, model.parameters()), lr=0.001, momentum=0.9)"
      ],
      "metadata": {
        "id": "W61FjfKa29ym"
      },
      "id": "W61FjfKa29ym",
      "execution_count": null,
      "outputs": []
    },
    {
      "cell_type": "code",
      "source": [
        "train_loss_history = []\n",
        "train_acc_history = []\n",
        "\n",
        "val_loss_history = []\n",
        "val_acc_history = []\n",
        "\n",
        "num_epochs = 10\n",
        "for epoch in range(num_epochs):\n",
        "    model.train()  # Переключаем модель в режим обучения\n",
        "    running_loss = 0.0\n",
        "    running_corrects = 0\n",
        "\n",
        "    for inputs, labels in train_loader:\n",
        "        inputs = inputs.to(device)\n",
        "        labels = labels.to(device)\n",
        "\n",
        "        optimizer.zero_grad()\n",
        "\n",
        "        with torch.set_grad_enabled(True):\n",
        "            outputs = model(inputs)\n",
        "            _, preds = torch.max(outputs, 1)\n",
        "            loss = criterion(outputs, labels)\n",
        "\n",
        "            loss.backward()\n",
        "            optimizer.step()\n",
        "\n",
        "        running_loss += loss.item() * inputs.size(0)\n",
        "        running_corrects += torch.sum(preds == labels.data)\n",
        "\n",
        "    epoch_loss = running_loss / len(train_loader.dataset)\n",
        "    epoch_acc = running_corrects.double() / len(train_loader.dataset)\n",
        "\n",
        "    train_loss_history.append(epoch_loss)\n",
        "    train_acc_history.append(epoch_acc)\n",
        "\n",
        "    print(f'Epoch {epoch + 1}/{num_epochs} train: Loss: {epoch_loss} Acc: {epoch_acc}')\n",
        "\n",
        "    # Валидация модели\n",
        "    model.eval()  # Переключаем модель в режим оценки\n",
        "    running_loss = 0.0\n",
        "    running_corrects = 0\n",
        "\n",
        "    for inputs, labels in test_loader:\n",
        "        inputs = inputs.to(device)\n",
        "        labels = labels.to(device)\n",
        "\n",
        "        with torch.no_grad():\n",
        "            outputs = model(inputs)\n",
        "            _, preds = torch.max(outputs, 1)\n",
        "            loss = criterion(outputs, labels)\n",
        "\n",
        "        running_loss += loss.item() * inputs.size(0)\n",
        "        running_corrects += torch.sum(preds == labels.data)\n",
        "\n",
        "    epoch_loss = running_loss / len(test_loader.dataset)\n",
        "    epoch_acc = running_corrects.double() / len(test_loader.dataset)\n",
        "\n",
        "    val_loss_history.append(epoch_loss)\n",
        "    val_acc_history.append(epoch_acc)\n",
        "\n",
        "    print(f'Epoch {epoch + 1}/{num_epochs} val: Loss: {epoch_loss} Acc: {epoch_acc}')"
      ],
      "metadata": {
        "colab": {
          "base_uri": "https://localhost:8080/"
        },
        "id": "aVtWC1Z048_O",
        "outputId": "5e0f537c-708b-4355-b0a5-84de2d24c710"
      },
      "id": "aVtWC1Z048_O",
      "execution_count": null,
      "outputs": [
        {
          "output_type": "stream",
          "name": "stdout",
          "text": [
            "Epoch 1/10 train: Loss: 0.7441405856609344 Acc: 0.6921875000000001\n",
            "Epoch 1/10 val: Loss: 0.566773977279663 Acc: 0.76375\n",
            "Epoch 2/10 train: Loss: 0.5239626139402389 Acc: 0.788125\n",
            "Epoch 2/10 val: Loss: 0.5597928071022034 Acc: 0.77875\n",
            "Epoch 3/10 train: Loss: 0.4571886932849884 Acc: 0.8184375\n",
            "Epoch 3/10 val: Loss: 0.5244036912918091 Acc: 0.78\n",
            "Epoch 4/10 train: Loss: 0.41764752626419066 Acc: 0.833125\n",
            "Epoch 4/10 val: Loss: 0.5114340949058532 Acc: 0.78625\n",
            "Epoch 5/10 train: Loss: 0.370455276966095 Acc: 0.851875\n",
            "Epoch 5/10 val: Loss: 0.5355128479003907 Acc: 0.7975\n",
            "Epoch 6/10 train: Loss: 0.3470769900083542 Acc: 0.865625\n",
            "Epoch 6/10 val: Loss: 0.5092990946769714 Acc: 0.795\n",
            "Epoch 7/10 train: Loss: 0.3043001240491867 Acc: 0.8853125000000001\n",
            "Epoch 7/10 val: Loss: 0.5481821298599243 Acc: 0.7887500000000001\n",
            "Epoch 8/10 train: Loss: 0.2705965569615364 Acc: 0.9003125000000001\n",
            "Epoch 8/10 val: Loss: 0.517364616394043 Acc: 0.785\n",
            "Epoch 9/10 train: Loss: 0.2437296661734581 Acc: 0.90625\n",
            "Epoch 9/10 val: Loss: 0.5247085714340209 Acc: 0.79\n",
            "Epoch 10/10 train: Loss: 0.2120988228917122 Acc: 0.9271875\n",
            "Epoch 10/10 val: Loss: 0.5378236269950867 Acc: 0.785\n"
          ]
        }
      ]
    },
    {
      "cell_type": "code",
      "source": [
        "plt.figure()\n",
        "plt.plot(range(1, num_epochs + 1), train_loss_history, label='Train Loss')\n",
        "plt.xlabel('Epoch')\n",
        "plt.ylabel('Loss')\n",
        "plt.legend()\n",
        "plt.title(' изменения значения функции потерь на обучающем множестве в зависимости от номера эпохи')\n",
        "plt.show()"
      ],
      "metadata": {
        "colab": {
          "base_uri": "https://localhost:8080/",
          "height": 472
        },
        "outputId": "b93fbb50-d593-4b59-8783-a4913e9afaec",
        "id": "-1UEr6le7b6n"
      },
      "execution_count": null,
      "outputs": [
        {
          "output_type": "display_data",
          "data": {
            "text/plain": [
              "<Figure size 640x480 with 1 Axes>"
            ],
            "image/png": "[encoded data removed]"
          },
          "metadata": {}
        }
      ],
      "id": "-1UEr6le7b6n"
    },
    {
      "cell_type": "code",
      "source": [
        "# Перемещение тензоров на CPU для построения графика\n",
        "train_acc_cpu = [acc.cpu().numpy() for acc in train_acc_history]\n",
        "val_acc_cpu = [acc.cpu().numpy() for acc in val_acc_history]\n",
        "\n",
        "\n",
        "plt.figure()\n",
        "plt.plot(range(1, num_epochs + 1), train_acc_cpu, label='Train Accuracy')\n",
        "plt.plot(range(1, num_epochs + 1), val_acc_cpu, label='Test Accuracy')\n",
        "plt.xlabel('Epoch')\n",
        "plt.ylabel('Accuracy')\n",
        "plt.legend()\n",
        "plt.title('изменения метрики accuracy на обучающем и тестовом множестве в зависимости от эпохи')\n",
        "plt.show()\n"
      ],
      "metadata": {
        "colab": {
          "base_uri": "https://localhost:8080/",
          "height": 472
        },
        "outputId": "7cbef138-e052-4e5c-fb1a-a5bc2b8c63b1",
        "id": "eSqVFbYU7b6o"
      },
      "execution_count": null,
      "outputs": [
        {
          "output_type": "display_data",
          "data": {
            "text/plain": [
              "<Figure size 640x480 with 1 Axes>"
            ],
            "image/png": "[encoded data removed]"
          },
          "metadata": {}
        }
      ],
      "id": "eSqVFbYU7b6o"
    },
    {
      "cell_type": "code",
      "source": [
        "final_train_accuracy = train_acc_history[-1]\n",
        "final_test_accuracy = val_acc_history[-1]\n",
        "print(f'Final Train Accuracy: {final_train_accuracy:.4f}')\n",
        "print(f'Final Test Accuracy: {final_test_accuracy:.4f}')"
      ],
      "metadata": {
        "colab": {
          "base_uri": "https://localhost:8080/"
        },
        "outputId": "cb805ae6-38ff-43a4-a30d-2780d4f2c295",
        "id": "Np5sk0sd7b6o"
      },
      "execution_count": null,
      "outputs": [
        {
          "output_type": "stream",
          "name": "stdout",
          "text": [
            "Final Train Accuracy: 0.9272\n",
            "Final Test Accuracy: 0.7850\n"
          ]
        }
      ],
      "id": "Np5sk0sd7b6o"
    },
    {
      "cell_type": "markdown",
      "id": "39ad15b2",
      "metadata": {
        "id": "39ad15b2"
      },
      "source": [
        "<p class=\"task\" id=\"5\"></p>\n",
        "\n",
        "5\\. Повторите решение задачи, расширив обучающий набор данных при помощи преобразований из `torchvision`, изменяющих изображение (повороты, изменение интенсивности пикселей, обрезание и т.д.). При оценке модели на тестовой выборке данные преобразования применяться не должны. Решение о том, сколько и каких слоев модели будет обучаться, примите самостоятельно.\n",
        "\n",
        "- [ ] Проверено на семинаре"
      ]
    },
    {
      "cell_type": "code",
      "source": [
        "from torchvision.transforms import RandomErasing, ColorJitter"
      ],
      "metadata": {
        "id": "I03mdfZVDtuO"
      },
      "id": "I03mdfZVDtuO",
      "execution_count": null,
      "outputs": []
    },
    {
      "cell_type": "code",
      "source": [
        "import zipfile\n",
        "\n",
        "with zipfile.ZipFile('/content/drive/MyDrive/cat_breeds_4.zip', 'r') as zip_ref:\n",
        "    zip_ref.extractall('/content/')\n",
        "    zip_ref.close()"
      ],
      "metadata": {
        "id": "q0Wo3qY8HgIi"
      },
      "execution_count": null,
      "outputs": [],
      "id": "q0Wo3qY8HgIi"
    },
    {
      "cell_type": "code",
      "source": [
        "data_way = ImageFolder('/content/cat_breeds_4')"
      ],
      "metadata": {
        "id": "XYW77L6MHgIj"
      },
      "execution_count": null,
      "outputs": [],
      "id": "XYW77L6MHgIj"
    },
    {
      "cell_type": "code",
      "source": [
        "train_transform = transforms.Compose([\n",
        "    transforms.Resize(256),\n",
        "    transforms.CenterCrop(224),\n",
        "    transforms.ToTensor(),\n",
        "    transforms.Normalize(mean=(0.485, 0.456, 0.406), std=(0.229, 0.224, 0.225))\n",
        "])\n",
        "\n",
        "test_transform = transforms.Compose([models.VGG16_Weights.IMAGENET1K_V1.transforms()])"
      ],
      "metadata": {
        "id": "4MEeGU3GHgIj"
      },
      "execution_count": null,
      "outputs": [],
      "id": "4MEeGU3GHgIj"
    },
    {
      "cell_type": "code",
      "source": [
        "train_dataset, test_dataset = random_split(data_way, [0.75, 0.25])"
      ],
      "metadata": {
        "id": "B9CZiXZ3HgIj"
      },
      "execution_count": null,
      "outputs": [],
      "id": "B9CZiXZ3HgIj"
    },
    {
      "cell_type": "code",
      "source": [
        "train_dataset.dataset.transform = train_transform\n",
        "test_dataset.dataset.transform = test_transform"
      ],
      "metadata": {
        "id": "9KffgK2QHgIj"
      },
      "execution_count": null,
      "outputs": [],
      "id": "9KffgK2QHgIj"
    },
    {
      "cell_type": "code",
      "source": [
        "len(train_dataset)"
      ],
      "metadata": {
        "colab": {
          "base_uri": "https://localhost:8080/"
        },
        "outputId": "acbb99e7-101e-4211-c2b5-85329f2d7308",
        "id": "AhZ3A58THgIj"
      },
      "execution_count": null,
      "outputs": [
        {
          "output_type": "execute_result",
          "data": {
            "text/plain": [
              "3000"
            ]
          },
          "metadata": {},
          "execution_count": 274
        }
      ],
      "id": "AhZ3A58THgIj"
    },
    {
      "cell_type": "code",
      "source": [
        "len(test_dataset)"
      ],
      "metadata": {
        "colab": {
          "base_uri": "https://localhost:8080/"
        },
        "outputId": "868b9370-3629-47c0-f637-38e95da14891",
        "id": "6LC0D842HgIj"
      },
      "execution_count": null,
      "outputs": [
        {
          "output_type": "execute_result",
          "data": {
            "text/plain": [
              "1000"
            ]
          },
          "metadata": {},
          "execution_count": 275
        }
      ],
      "id": "6LC0D842HgIj"
    },
    {
      "cell_type": "code",
      "source": [
        "ColorJitter_transform = transforms.Compose([\n",
        "    transforms.Resize(256),\n",
        "    transforms.CenterCrop(224),\n",
        "    ColorJitter(brightness=0.2, contrast=0.2, saturation=0.2, hue=0.2),\n",
        "    transforms.ToTensor(),\n",
        "    transforms.Normalize(mean=(0.485, 0.456, 0.406), std=(0.229, 0.224, 0.225))\n",
        "])"
      ],
      "metadata": {
        "id": "-1AINw37HmDw"
      },
      "id": "-1AINw37HmDw",
      "execution_count": null,
      "outputs": []
    },
    {
      "cell_type": "code",
      "source": [
        "ColorJitter_train_dataset, ColorJitter_test_dataset = random_split(data_way, [0.75, 0.25])"
      ],
      "metadata": {
        "id": "p7knf9ZrIHf_"
      },
      "id": "p7knf9ZrIHf_",
      "execution_count": null,
      "outputs": []
    },
    {
      "cell_type": "code",
      "source": [
        "ColorJitter_train_dataset.dataset.transform = ColorJitter_transform\n",
        "ColorJitter_test_dataset.dataset.transform = test_transform"
      ],
      "metadata": {
        "id": "ds3HJVEkISTn"
      },
      "id": "ds3HJVEkISTn",
      "execution_count": null,
      "outputs": []
    },
    {
      "cell_type": "code",
      "source": [
        "RandomErasing_transform = transforms.Compose([\n",
        "    transforms.Resize(256),\n",
        "    transforms.CenterCrop(224),\n",
        "    RandomErasing(p=0.5, scale=(0.02, 0.33), ratio=(0.3, 3.3)),\n",
        "    transforms.ToTensor(),\n",
        "    transforms.Normalize(mean=(0.485, 0.456, 0.406), std=(0.229, 0.224, 0.225))\n",
        "])"
      ],
      "metadata": {
        "id": "h9WSNduGIq94"
      },
      "id": "h9WSNduGIq94",
      "execution_count": null,
      "outputs": []
    },
    {
      "cell_type": "code",
      "source": [
        "RandomErasing_train_dataset, RandomErasing_test_dataset = random_split(data_way, [0.75, 0.25])"
      ],
      "metadata": {
        "id": "GpsPuxHUSt3w"
      },
      "id": "GpsPuxHUSt3w",
      "execution_count": null,
      "outputs": []
    },
    {
      "cell_type": "code",
      "source": [
        "RandomErasing_train_dataset.dataset.transform = RandomErasing_transform\n",
        "RandomErasing_test_dataset.dataset.transform = RandomErasing_transform"
      ],
      "metadata": {
        "id": "4eiK6u4RUBV4"
      },
      "id": "4eiK6u4RUBV4",
      "execution_count": null,
      "outputs": []
    },
    {
      "cell_type": "code",
      "source": [
        "train_dataset = torch.utils.data.ConcatDataset([train_dataset, ColorJitter_train_dataset, RandomErasing_train_dataset])"
      ],
      "metadata": {
        "id": "xiPf4qLlVd2T"
      },
      "id": "xiPf4qLlVd2T",
      "execution_count": null,
      "outputs": []
    },
    {
      "cell_type": "code",
      "source": [
        "len(train_dataset)"
      ],
      "metadata": {
        "colab": {
          "base_uri": "https://localhost:8080/"
        },
        "id": "UB7YRvwCWE2r",
        "outputId": "0c610827-ea3e-483e-ca24-4ca31cf1269a"
      },
      "id": "UB7YRvwCWE2r",
      "execution_count": null,
      "outputs": [
        {
          "output_type": "execute_result",
          "data": {
            "text/plain": [
              "9000"
            ]
          },
          "metadata": {},
          "execution_count": 283
        }
      ]
    },
    {
      "cell_type": "code",
      "source": [
        "# Замораживаем все сверточные слои, кроме classifier\n",
        "for name, param in model.named_parameters():\n",
        "    if \"classifier\" not in name:\n",
        "        param.requires_grad = False\n",
        "\n",
        "# Перемещаем модель на устройство\n",
        "device = torch.device('cuda' if torch.cuda.is_available() else 'cpu')\n",
        "model = model.to(device)\n",
        "\n",
        "# Создаем оптимизатор только для параметров, у которых requires_grad=True\n",
        "optimizer = optim.SGD(filter(lambda p: p.requires_grad, model.parameters()), lr=0.001, momentum=0.9)"
      ],
      "metadata": {
        "id": "4zwUgU3vXK9L"
      },
      "execution_count": null,
      "outputs": [],
      "id": "4zwUgU3vXK9L"
    },
    {
      "cell_type": "code",
      "source": [
        "for name, param in model.named_parameters():\n",
        "    print(name, param.requires_grad)"
      ],
      "metadata": {
        "colab": {
          "base_uri": "https://localhost:8080/"
        },
        "id": "nOBwHcMAXSfI",
        "outputId": "43ecc708-e464-44cc-b250-0a16b51f0457"
      },
      "id": "nOBwHcMAXSfI",
      "execution_count": null,
      "outputs": [
        {
          "output_type": "stream",
          "name": "stdout",
          "text": [
            "features.0.weight False\n",
            "features.0.bias False\n",
            "features.2.weight False\n",
            "features.2.bias False\n",
            "features.5.weight False\n",
            "features.5.bias False\n",
            "features.7.weight False\n",
            "features.7.bias False\n",
            "features.10.weight False\n",
            "features.10.bias False\n",
            "features.12.weight False\n",
            "features.12.bias False\n",
            "features.14.weight False\n",
            "features.14.bias False\n",
            "features.17.weight False\n",
            "features.17.bias False\n",
            "features.19.weight False\n",
            "features.19.bias False\n",
            "features.21.weight False\n",
            "features.21.bias False\n",
            "features.24.weight False\n",
            "features.24.bias False\n",
            "features.26.weight False\n",
            "features.26.bias False\n",
            "features.28.weight False\n",
            "features.28.bias False\n",
            "classifier.0.weight True\n",
            "classifier.0.bias True\n",
            "classifier.3.weight True\n",
            "classifier.3.bias True\n",
            "classifier.6.weight True\n",
            "classifier.6.bias True\n"
          ]
        }
      ]
    },
    {
      "cell_type": "code",
      "source": [
        "%%time\n",
        "train_loss_history = []\n",
        "train_acc_history = []\n",
        "\n",
        "val_loss_history = []\n",
        "val_acc_history = []\n",
        "\n",
        "num_epochs = 10\n",
        "for epoch in range(num_epochs):\n",
        "    model.train()\n",
        "    running_loss = 0.0\n",
        "    running_corrects = 0\n",
        "\n",
        "    for inputs, labels in train_loader:\n",
        "        inputs = inputs.to(device)\n",
        "        labels = labels.to(device)\n",
        "\n",
        "        optimizer.zero_grad()\n",
        "\n",
        "        with torch.set_grad_enabled(True):\n",
        "            outputs = model(inputs)\n",
        "            _, preds = torch.max(outputs, 1)\n",
        "            loss = criterion(outputs, labels)\n",
        "\n",
        "            loss.backward()\n",
        "            optimizer.step()\n",
        "\n",
        "        running_loss += loss.item() * inputs.size(0)\n",
        "        running_corrects += torch.sum(preds == labels.data)\n",
        "\n",
        "    epoch_loss = running_loss / len(train_loader.dataset)\n",
        "    epoch_acc = running_corrects.double() / len(train_loader.dataset)\n",
        "\n",
        "    train_loss_history.append(epoch_loss)\n",
        "    train_acc_history.append(epoch_acc)\n",
        "\n",
        "    print(f'Epoch {epoch + 1}/{num_epochs} train: Loss: {epoch_loss} Acc: {epoch_acc}')\n",
        "\n",
        "\n",
        "    model.eval()\n",
        "    running_loss = 0.0\n",
        "    running_corrects = 0\n",
        "\n",
        "    for inputs, labels in test_loader:\n",
        "        inputs = inputs.to(device)\n",
        "        labels = labels.to(device)\n",
        "\n",
        "        with torch.no_grad():\n",
        "            outputs = model(inputs)\n",
        "            _, preds = torch.max(outputs, 1)\n",
        "            loss = criterion(outputs, labels)\n",
        "\n",
        "        running_loss += loss.item() * inputs.size(0)\n",
        "        running_corrects += torch.sum(preds == labels.data)\n",
        "\n",
        "    epoch_loss = running_loss / len(test_loader.dataset)\n",
        "    epoch_acc = running_corrects.double() / len(test_loader.dataset)\n",
        "\n",
        "    val_loss_history.append(epoch_loss)\n",
        "    val_acc_history.append(epoch_acc)\n",
        "\n",
        "    print(f'Epoch {epoch + 1}/{num_epochs} val: Loss: {epoch_loss} Acc: {epoch_acc}')"
      ],
      "metadata": {
        "colab": {
          "base_uri": "https://localhost:8080/"
        },
        "outputId": "cc486eaa-663e-4685-a816-f5a424215173",
        "id": "UyaKrg8zXK9L"
      },
      "execution_count": null,
      "outputs": [
        {
          "output_type": "stream",
          "name": "stdout",
          "text": [
            "Epoch 1/10 train: Loss: 0.7561950671672821 Acc: 0.686875\n",
            "Epoch 1/10 val: Loss: 0.5815221285820007 Acc: 0.76875\n",
            "Epoch 2/10 train: Loss: 0.5380923920869827 Acc: 0.790625\n",
            "Epoch 2/10 val: Loss: 0.5293540287017823 Acc: 0.7975\n",
            "Epoch 3/10 train: Loss: 0.4636297112703323 Acc: 0.8175\n",
            "Epoch 3/10 val: Loss: 0.5287817525863647 Acc: 0.7975\n",
            "Epoch 4/10 train: Loss: 0.4190965947508812 Acc: 0.8359375\n",
            "Epoch 4/10 val: Loss: 0.5337372469902039 Acc: 0.7975\n",
            "Epoch 5/10 train: Loss: 0.3851067832112312 Acc: 0.8475\n",
            "Epoch 5/10 val: Loss: 0.505485646724701 Acc: 0.80125\n",
            "Epoch 6/10 train: Loss: 0.33495591074228287 Acc: 0.8703125\n",
            "Epoch 6/10 val: Loss: 0.5139756298065186 Acc: 0.8\n",
            "Epoch 7/10 train: Loss: 0.3103799119591713 Acc: 0.8821875\n",
            "Epoch 7/10 val: Loss: 0.5200351095199585 Acc: 0.805\n",
            "Epoch 8/10 train: Loss: 0.2817071035504341 Acc: 0.891875\n",
            "Epoch 8/10 val: Loss: 0.5174906444549561 Acc: 0.80375\n",
            "Epoch 9/10 train: Loss: 0.2475154283642769 Acc: 0.9115625\n",
            "Epoch 9/10 val: Loss: 0.515112750530243 Acc: 0.805\n",
            "Epoch 10/10 train: Loss: 0.2155993828177452 Acc: 0.9237500000000001\n",
            "Epoch 10/10 val: Loss: 0.5413201975822449 Acc: 0.795\n",
            "CPU times: user 6min 24s, sys: 13.1 s, total: 6min 37s\n",
            "Wall time: 6min 40s\n"
          ]
        }
      ],
      "id": "UyaKrg8zXK9L"
    },
    {
      "cell_type": "code",
      "source": [
        "plt.figure()\n",
        "plt.plot(range(1, num_epochs + 1), train_loss_history, label='Train Loss')\n",
        "plt.xlabel('Epoch')\n",
        "plt.ylabel('Loss')\n",
        "plt.legend()\n",
        "plt.title(' изменения значения функции потерь на обучающем множестве в зависимости от номера эпохи')\n",
        "plt.show()"
      ],
      "metadata": {
        "colab": {
          "base_uri": "https://localhost:8080/",
          "height": 472
        },
        "outputId": "78e1cf08-557f-4898-8850-23f8e1701f4a",
        "id": "WSySVgbHcgWw"
      },
      "execution_count": null,
      "outputs": [
        {
          "output_type": "display_data",
          "data": {
            "text/plain": [
              "<Figure size 640x480 with 1 Axes>"
            ],
            "image/png": "[encoded data removed]"
          },
          "metadata": {}
        }
      ],
      "id": "WSySVgbHcgWw"
    },
    {
      "cell_type": "code",
      "source": [
        "# Перемещение тензоров на CPU для построения графика\n",
        "train_acc_cpu = [acc.cpu().numpy() for acc in train_acc_history]\n",
        "val_acc_cpu = [acc.cpu().numpy() for acc in val_acc_history]\n",
        "\n",
        "\n",
        "plt.figure()\n",
        "plt.plot(range(1, num_epochs + 1), train_acc_cpu, label='Train Accuracy')\n",
        "plt.plot(range(1, num_epochs + 1), val_acc_cpu, label='Test Accuracy')\n",
        "plt.xlabel('Epoch')\n",
        "plt.ylabel('Accuracy')\n",
        "plt.legend()\n",
        "plt.title('изменения метрики accuracy на обучающем и тестовом множестве в зависимости от эпохи')\n",
        "plt.show()\n"
      ],
      "metadata": {
        "colab": {
          "base_uri": "https://localhost:8080/",
          "height": 472
        },
        "outputId": "ea55bf26-8bfc-4a9c-c23f-dc31ad55aa03",
        "id": "05EqS2lQcgWw"
      },
      "execution_count": null,
      "outputs": [
        {
          "output_type": "display_data",
          "data": {
            "text/plain": [
              "<Figure size 640x480 with 1 Axes>"
            ],
            "image/png": "[encoded data removed]"
          },
          "metadata": {}
        }
      ],
      "id": "05EqS2lQcgWw"
    },
    {
      "cell_type": "code",
      "source": [
        "final_train_accuracy = train_acc_history[-1]\n",
        "final_test_accuracy = val_acc_history[-1]\n",
        "print(f'Final Train Accuracy: {final_train_accuracy:.4f}')\n",
        "print(f'Final Test Accuracy: {final_test_accuracy:.4f}')"
      ],
      "metadata": {
        "colab": {
          "base_uri": "https://localhost:8080/"
        },
        "outputId": "5a8db02c-6f18-4da9-b549-d1545b0eac3f",
        "id": "Y2E5FHNMcgWw"
      },
      "execution_count": null,
      "outputs": [
        {
          "output_type": "stream",
          "name": "stdout",
          "text": [
            "Final Train Accuracy: 0.9238\n",
            "Final Test Accuracy: 0.7950\n"
          ]
        }
      ],
      "id": "Y2E5FHNMcgWw"
    },
    {
      "cell_type": "markdown",
      "source": [
        "Решение о том, сколько и каких слоев модели будет обучаться, примите самостоятельно. **Оставляем так, как в 4 задании!**"
      ],
      "metadata": {
        "id": "flN5-ZnHWvUW"
      },
      "id": "flN5-ZnHWvUW"
    },
    {
      "cell_type": "markdown",
      "id": "66caa919",
      "metadata": {
        "id": "66caa919"
      },
      "source": [
        "## Обратная связь\n",
        "- [ ] Хочу получить обратную связь по решению"
      ]
    }
  ],
  "metadata": {
    "kernelspec": {
      "display_name": "Python 3",
      "name": "python3"
    },
    "language_info": {
      "codemirror_mode": {
        "name": "ipython",
        "version": 3
      },
      "file_extension": ".py",
      "mimetype": "text/x-python",
      "name": "python",
      "nbconvert_exporter": "python",
      "pygments_lexer": "ipython3",
      "version": "3.9.13"
    },
    "colab": {
      "provenance": [],
      "gpuType": "T4"
    },
    "accelerator": "GPU"
  },
  "nbformat": 4,
  "nbformat_minor": 5
}