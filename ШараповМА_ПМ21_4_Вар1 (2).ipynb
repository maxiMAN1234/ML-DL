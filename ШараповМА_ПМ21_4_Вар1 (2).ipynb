{
  "nbformat": 4,
  "nbformat_minor": 0,
  "metadata": {
    "colab": {
      "provenance": []
    },
    "kernelspec": {
      "name": "python3",
      "display_name": "Python 3"
    },
    "language_info": {
      "name": "python"
    }
  },
  "cells": [
    {
      "cell_type": "markdown",
      "source": [
        "##Вариант 1 Шарапов МА ПМ21-4"
      ],
      "metadata": {
        "id": "S-_ITfxwNTaq"
      }
    },
    {
      "cell_type": "markdown",
      "source": [
        "Создайте датасет на основе файлов из архива sea_animals.zip. Разделите набор данных на обучающее и тестовое множество. Используя преобразования torchvision, приведите изображения к одному размеру и преобразуйте в тензоры.\n",
        "\n",
        "Проверьте, является ли выборка сбалансированной. Выведите на экран долю каждого класса в обучающем и тестовом наборе данных.\n",
        "\n",
        "Реализовав сверточную нейронную сеть при помощи библиотеки PyTorch, решите задачу классификации изображений без учета несбалансированности выборки. Отобразите confusion matrix и classification report, рассчитанные на основе обучающего и тестового множества.\n",
        "\n",
        "Вариант 1.\n",
        "\n",
        "Решите задачу задачу классификации, сэмплируя данные для обучения с учетом несбалансированности классов (используйте WeightedRandomSampler). Отобразите confusion matrix и classification report, рассчитанные на основе обучающего и тестового множества. В качестве веса объекта $i$-го класса используйте обратную частоту этого класса."
      ],
      "metadata": {
        "id": "iuIiT72b9t9P"
      }
    },
    {
      "cell_type": "code",
      "source": [
        "import zipfile\n",
        "import torchvision.transforms.v2 as T\n",
        "import torch as th\n",
        "from torchvision.datasets import ImageFolder\n",
        "from torch.utils.data import random_split, DataLoader\n",
        "import matplotlib.pyplot as plt\n",
        "from collections import Counter\n",
        "import torch.nn as nn\n",
        "import numpy as np"
      ],
      "metadata": {
        "id": "sL-oKgKgwjbs"
      },
      "execution_count": 24,
      "outputs": []
    },
    {
      "cell_type": "code",
      "execution_count": null,
      "metadata": {
        "colab": {
          "base_uri": "https://localhost:8080/"
        },
        "id": "W7NjU_Qi6SfX",
        "outputId": "6fd2fbc2-49ea-474e-9a7e-0e2908f858e1"
      },
      "outputs": [
        {
          "output_type": "stream",
          "name": "stdout",
          "text": [
            "Mounted at /content/drive\n"
          ]
        }
      ],
      "source": [
        "from google.colab import drive\n",
        "drive.mount('/content/drive')"
      ]
    },
    {
      "cell_type": "code",
      "execution_count": null,
      "metadata": {
        "id": "qseiCzbNzA_l"
      },
      "outputs": [],
      "source": [
        "with zipfile.ZipFile('/content/drive/MyDrive/sea_animals.zip', 'r') as zip_ref:\n",
        "    zip_ref.extractall('/content/')\n",
        "    zip_ref.close()"
      ]
    },
    {
      "cell_type": "code",
      "source": [
        "transform = T.Compose([\n",
        "    T.ToTensor(),\n",
        "    T.Resize((256, 256))\n",
        "])"
      ],
      "metadata": {
        "id": "V0yb_MpCwzVo"
      },
      "execution_count": null,
      "outputs": []
    },
    {
      "cell_type": "code",
      "source": [
        "papka = ImageFolder('sea_animals')\n",
        "train_dataset, test_dataset = random_split(papka, [0.8, 0.2])"
      ],
      "metadata": {
        "id": "pC6uxK_pgi4l"
      },
      "execution_count": null,
      "outputs": []
    },
    {
      "cell_type": "code",
      "execution_count": null,
      "metadata": {
        "id": "JXo5riDUvZY7"
      },
      "outputs": [],
      "source": [
        "train_dataset.dataset.transform = transform\n",
        "test_dataset.dataset.transform = transform"
      ]
    },
    {
      "cell_type": "code",
      "source": [
        "train_loader = DataLoader(train_dataset, batch_size=32, shuffle=True)\n",
        "test_loader = DataLoader(test_dataset, batch_size=32, shuffle=True)"
      ],
      "metadata": {
        "id": "Z6C6IIe8lJnt"
      },
      "execution_count": null,
      "outputs": []
    },
    {
      "cell_type": "code",
      "source": [
        "features = len(papka.classes)\n",
        "features"
      ],
      "metadata": {
        "colab": {
          "base_uri": "https://localhost:8080/"
        },
        "id": "x27qNckEyGq4",
        "outputId": "ae10c2dd-a77e-4112-be24-17012cfb96ae"
      },
      "execution_count": null,
      "outputs": [
        {
          "output_type": "execute_result",
          "data": {
            "text/plain": [
              "6"
            ]
          },
          "metadata": {},
          "execution_count": 10
        }
      ]
    },
    {
      "cell_type": "code",
      "source": [
        "papka = ImageFolder('sea_animals')\n",
        "train_dataset, test_dataset = random_split(papka, [0.8, 0.2])"
      ],
      "metadata": {
        "id": "QmP8dnsF_O2D"
      },
      "execution_count": null,
      "outputs": []
    },
    {
      "cell_type": "code",
      "execution_count": null,
      "metadata": {
        "id": "wmz6OQgK_O2E"
      },
      "outputs": [],
      "source": [
        "train_dataset.dataset.transform = transform\n",
        "test_dataset.dataset.transform = transform"
      ]
    },
    {
      "cell_type": "code",
      "source": [
        "train_loader = DataLoader(train_dataset, batch_size=32, shuffle=True)\n",
        "test_loader = DataLoader(test_dataset, batch_size=32, shuffle=True)"
      ],
      "metadata": {
        "id": "EErKuyGS_O2E"
      },
      "execution_count": null,
      "outputs": []
    },
    {
      "cell_type": "code",
      "source": [
        "features = len(papka.classes)\n",
        "features"
      ],
      "metadata": {
        "colab": {
          "base_uri": "https://localhost:8080/"
        },
        "outputId": "eaee1f2b-238b-4cb0-9e07-4d02fa41fdac",
        "id": "DSxn0aQs_O2F"
      },
      "execution_count": null,
      "outputs": [
        {
          "output_type": "execute_result",
          "data": {
            "text/plain": [
              "6"
            ]
          },
          "metadata": {},
          "execution_count": 57
        }
      ]
    },
    {
      "cell_type": "code",
      "source": [
        "import torch\n",
        "\n",
        "# Возьмем одно изображение из набора данных\n",
        "sample_image, _ = next(iter(train_loader))\n",
        "\n",
        "# Передайдим его через сверточные и пулинговые слои\n",
        "conv1 = nn.Conv2d(3, 6, kernel_size=3)\n",
        "pool = nn.MaxPool2d(kernel_size=2)\n",
        "flatten = nn.Flatten()\n",
        "\n",
        "x = conv1(sample_image)\n",
        "x = pool(x)\n",
        "x = flatten(x)\n",
        "\n",
        "in_features = x.size(1)\n",
        "print(\"in_features:\", in_features)\n"
      ],
      "metadata": {
        "colab": {
          "base_uri": "https://localhost:8080/"
        },
        "id": "gC44c7yN1IbD",
        "outputId": "d0d3a489-bf81-40b0-a5b7-2c18474b2f01"
      },
      "execution_count": null,
      "outputs": [
        {
          "output_type": "stream",
          "name": "stdout",
          "text": [
            "in_features: 96774\n"
          ]
        }
      ]
    },
    {
      "cell_type": "code",
      "source": [
        "import torch.nn as nn\n",
        "\n",
        "model = nn.Sequential(\n",
        "    nn.Conv2d(3, 6, kernel_size=3),\n",
        "    nn.ReLU(),\n",
        "    nn.MaxPool2d(kernel_size=2),\n",
        "    nn.Flatten(),\n",
        "    nn.Linear(in_features=in_features, out_features=6, bias=True)\n",
        ")"
      ],
      "metadata": {
        "id": "AhWpaAAV3bKD"
      },
      "execution_count": null,
      "outputs": []
    },
    {
      "cell_type": "code",
      "source": [
        "import torch\n",
        "import torch.nn as nn\n",
        "import torch.optim as optim\n",
        "import matplotlib.pyplot as plt"
      ],
      "metadata": {
        "id": "_C3BzNwb_aYt"
      },
      "execution_count": null,
      "outputs": []
    },
    {
      "cell_type": "code",
      "source": [
        "device = torch.device('cuda' if torch.cuda.is_available() else 'cpu')\n",
        "model = model.to(device)\n",
        "\n",
        "train_loss_history = []\n",
        "train_acc_history = []\n",
        "val_loss_history = []\n",
        "val_acc_history = []\n",
        "\n",
        "criterion = nn.CrossEntropyLoss()\n",
        "optimizer = optim.SGD(model.parameters(), lr=0.001, momentum=0.9)"
      ],
      "metadata": {
        "id": "VJs_jMIp0P5d"
      },
      "execution_count": null,
      "outputs": []
    },
    {
      "cell_type": "code",
      "source": [
        "num_epochs = 10\n",
        "for epoch in range(num_epochs):\n",
        "    model.train()  # Переключаем модель в режим обучения\n",
        "    running_loss = 0.0\n",
        "    running_corrects = 0\n",
        "\n",
        "    for inputs, labels in train_loader:\n",
        "        inputs = inputs.to(device)\n",
        "        labels = labels.to(device)\n",
        "\n",
        "        optimizer.zero_grad()\n",
        "\n",
        "        with torch.set_grad_enabled(True):\n",
        "            outputs = model(inputs)\n",
        "            _, preds = torch.max(outputs, 1)\n",
        "            loss = criterion(outputs, labels)\n",
        "\n",
        "            loss.backward()\n",
        "            optimizer.step()\n",
        "\n",
        "        running_loss += loss.item() * inputs.size(0)\n",
        "        running_corrects += torch.sum(preds == labels.data)\n",
        "\n",
        "    epoch_loss = running_loss / len(train_loader.dataset)\n",
        "    epoch_acc = running_corrects.double() / len(train_loader.dataset)\n",
        "\n",
        "    train_loss_history.append(epoch_loss)\n",
        "    train_acc_history.append(epoch_acc)\n",
        "\n",
        "    print(f'Epoch {epoch + 1}/{num_epochs} train: Loss: {epoch_loss} Acc: {epoch_acc}')\n",
        "\n",
        "    # Валидация модели\n",
        "    model.eval()  # Переключаем модель в режим оценки\n",
        "    running_loss = 0.0\n",
        "    running_corrects = 0\n",
        "\n",
        "    for inputs, labels in test_loader:\n",
        "        inputs = inputs.to(device)\n",
        "        labels = labels.to(device)\n",
        "\n",
        "        with torch.no_grad():\n",
        "            outputs = model(inputs)\n",
        "            _, preds = torch.max(outputs, 1)\n",
        "            loss = criterion(outputs, labels)\n",
        "\n",
        "        running_loss += loss.item() * inputs.size(0)\n",
        "        running_corrects += torch.sum(preds == labels.data)\n",
        "\n",
        "    epoch_loss = running_loss / len(test_loader.dataset)\n",
        "    epoch_acc = running_corrects.double() / len(test_loader.dataset)\n",
        "\n",
        "    val_loss_history.append(epoch_loss)\n",
        "    val_acc_history.append(epoch_acc)\n",
        "\n",
        "    print(f'Epoch {epoch + 1}/{num_epochs} val: Loss: {epoch_loss} Acc: {epoch_acc}')"
      ],
      "metadata": {
        "colab": {
          "base_uri": "https://localhost:8080/"
        },
        "id": "iYlyOQJWi9zd",
        "outputId": "d701c9e4-b319-4e1e-ca23-6633b30da4c9"
      },
      "execution_count": 23,
      "outputs": [
        {
          "output_type": "stream",
          "name": "stdout",
          "text": [
            "Epoch 1/10 train: Loss: 1.4804666991479352 Acc: 0.45528455284552843\n",
            "Epoch 1/10 val: Loss: 1.2466485650317012 Acc: 0.5119305856832972\n",
            "Epoch 2/10 train: Loss: 1.192895126019713 Acc: 0.5550135501355014\n",
            "Epoch 2/10 val: Loss: 1.1134248902120196 Acc: 0.5813449023861171\n",
            "Epoch 3/10 train: Loss: 1.1238325109326743 Acc: 0.5902439024390244\n",
            "Epoch 3/10 val: Loss: 1.167552839908062 Acc: 0.5249457700650759\n",
            "Epoch 4/10 train: Loss: 1.1299416354032066 Acc: 0.5994579945799458\n",
            "Epoch 4/10 val: Loss: 1.0745076080723595 Acc: 0.5986984815618221\n",
            "Epoch 5/10 train: Loss: 1.0602230353084037 Acc: 0.6124661246612466\n",
            "Epoch 5/10 val: Loss: 1.2579017737940956 Acc: 0.5097613882863341\n",
            "Epoch 6/10 train: Loss: 1.0287925361294734 Acc: 0.6260162601626016\n",
            "Epoch 6/10 val: Loss: 1.1333654110447187 Acc: 0.579175704989154\n",
            "Epoch 7/10 train: Loss: 0.9860078058914763 Acc: 0.6428184281842818\n",
            "Epoch 7/10 val: Loss: 1.1898398557092 Acc: 0.5704989154013015\n",
            "Epoch 8/10 train: Loss: 0.9850722517747543 Acc: 0.6455284552845528\n",
            "Epoch 8/10 val: Loss: 1.1057980391570648 Acc: 0.5770065075921909\n",
            "Epoch 9/10 train: Loss: 0.9584158932290426 Acc: 0.6590785907859079\n",
            "Epoch 9/10 val: Loss: 1.1009087071242922 Acc: 0.5748373101952278\n",
            "Epoch 10/10 train: Loss: 0.9027248392260172 Acc: 0.6769647696476965\n",
            "Epoch 10/10 val: Loss: 1.1575882052134019 Acc: 0.5770065075921909\n"
          ]
        }
      ]
    },
    {
      "cell_type": "code",
      "source": [
        "plt.figure()\n",
        "plt.plot(range(1, num_epochs + 1), train_loss_history, label='Train Loss')\n",
        "plt.xlabel('Epoch')\n",
        "plt.ylabel('Loss')\n",
        "plt.legend()\n",
        "plt.title(' изменения значения функции потерь на обучающем множестве в зависимости от номера эпохи')\n",
        "plt.show()"
      ],
      "metadata": {
        "colab": {
          "base_uri": "https://localhost:8080/",
          "height": 472
        },
        "id": "83xNny2T2Q1F",
        "outputId": "e1382312-5a04-44a6-a0a9-9fbd8b61f214"
      },
      "execution_count": 25,
      "outputs": [
        {
          "output_type": "display_data",
          "data": {
            "text/plain": [
              "<Figure size 640x480 with 1 Axes>"
            ],
            "image/png": "[encoded data removed]"
          },
          "metadata": {}
        }
      ]
    },
    {
      "cell_type": "code",
      "source": [
        "# Перемещение тензоров на CPU для построения графика\n",
        "train_acc_cpu = [acc.cpu().numpy() for acc in train_acc_history]\n",
        "val_acc_cpu = [acc.cpu().numpy() for acc in val_acc_history]\n",
        "\n",
        "\n",
        "plt.figure()\n",
        "plt.plot(range(1, num_epochs + 1), train_acc_cpu, label='Train Accuracy')\n",
        "plt.plot(range(1, num_epochs + 1), val_acc_cpu, label='Test Accuracy')\n",
        "plt.xlabel('Epoch')\n",
        "plt.ylabel('Accuracy')\n",
        "plt.legend()\n",
        "plt.title('изменения метрики accuracy на обучающем и тестовом множестве в зависимости от эпохи')\n",
        "plt.show()\n"
      ],
      "metadata": {
        "colab": {
          "base_uri": "https://localhost:8080/",
          "height": 472
        },
        "id": "x6v9D7Wy2W-r",
        "outputId": "d3fb66bd-78f2-48e8-edca-109efe04e58a"
      },
      "execution_count": 26,
      "outputs": [
        {
          "output_type": "display_data",
          "data": {
            "text/plain": [
              "<Figure size 640x480 with 1 Axes>"
            ],
            "image/png": "[encoded data removed]"
          },
          "metadata": {}
        }
      ]
    },
    {
      "cell_type": "code",
      "source": [
        "final_train_accuracy = train_acc_history[-1]\n",
        "final_test_accuracy = val_acc_history[-1]\n",
        "print(f'Final Train Accuracy: {final_train_accuracy:.4f}')\n",
        "print(f'Final Test Accuracy: {final_test_accuracy:.4f}')"
      ],
      "metadata": {
        "colab": {
          "base_uri": "https://localhost:8080/"
        },
        "id": "8Us9fPE12q4t",
        "outputId": "7374164e-1a14-4573-b2e5-8686f4a4f440"
      },
      "execution_count": 27,
      "outputs": [
        {
          "output_type": "stream",
          "name": "stdout",
          "text": [
            "Final Train Accuracy: 0.6770\n",
            "Final Test Accuracy: 0.5770\n"
          ]
        }
      ]
    },
    {
      "cell_type": "code",
      "source": [
        "from sklearn.metrics import confusion_matrix, classification_report\n",
        "\n",
        "model.eval()\n",
        "correct = 0\n",
        "total = 0\n",
        "all_labels = []\n",
        "all_predictions = []\n",
        "\n",
        "with torch.no_grad():\n",
        "    for data in train_loader:\n",
        "        images, labels = data\n",
        "        images = images.to(device)\n",
        "        labels = labels.to(device)\n",
        "        outputs = model(images)\n",
        "        _, predicted = torch.max(outputs, 1)\n",
        "        total += labels.size(0)\n",
        "        correct += (predicted == labels).sum().item()\n",
        "        all_labels.extend(labels.cpu().numpy())\n",
        "        all_predictions.extend(predicted.cpu().numpy())\n",
        "\n",
        "accuracy_train = 100 * correct / total\n",
        "\n",
        "confusion_train = confusion_matrix(all_labels, all_predictions)\n",
        "report_train = classification_report(all_labels, all_predictions, target_names=papka.classes)\n",
        "\n",
        "print('Confusion Matrix (Train):')\n",
        "print(confusion_train)\n",
        "print('Classification Report (Train):')\n",
        "print(report_train)\n",
        "\n",
        "model.eval()\n",
        "correct = 0\n",
        "total = 0\n",
        "all_labels = []\n",
        "all_predictions = []\n",
        "\n",
        "with torch.no_grad():\n",
        "    for data in test_loader:\n",
        "        images, labels = data\n",
        "        images = images.to(device)\n",
        "        labels = labels.to(device)\n",
        "        outputs = model(images)\n",
        "        _, predicted = torch.max(outputs, 1)\n",
        "        total += labels.size(0)\n",
        "        correct += (predicted == labels).sum().item()\n",
        "        all_labels.extend(labels.cpu().numpy())\n",
        "        all_predictions.extend(predicted.cpu().numpy())\n",
        "\n",
        "accuracy_test = 100 * correct / total\n",
        "\n",
        "confusion_test = confusion_matrix(all_labels, all_predictions)\n",
        "report_test = classification_report(all_labels, all_predictions, target_names=papka.classes)\n",
        "\n",
        "print('Confusion Matrix (Test):')\n",
        "print(confusion_test)\n",
        "print('Classification Report (Test):')\n",
        "print(report_test)\n"
      ],
      "metadata": {
        "colab": {
          "base_uri": "https://localhost:8080/"
        },
        "id": "rw6MVoXKB1eR",
        "outputId": "9387257e-8458-4c55-ff81-00d3ed6166f3"
      },
      "execution_count": 29,
      "outputs": [
        {
          "output_type": "stream",
          "name": "stderr",
          "text": [
            "/usr/local/lib/python3.10/dist-packages/torchvision/transforms/functional.py:1603: UserWarning: The default value of the antialias parameter of all the resizing transforms (Resize(), RandomResizedCrop(), etc.) will change from None to True in v0.17, in order to be consistent across the PIL and Tensor backends. To suppress this warning, directly pass antialias=True (recommended, future default), antialias=None (current default, which means False for Tensors and True for PIL), or antialias=False (only works on Tensors - PIL will still use antialiasing). This also applies if you are using the inference transforms from the models weights: update the call to weights.transforms(antialias=True).\n",
            "  warnings.warn(\n"
          ]
        },
        {
          "output_type": "stream",
          "name": "stdout",
          "text": [
            "Confusion Matrix (Train):\n",
            "[[277   3   1   1  23   8]\n",
            " [ 68  59   5   3  50  23]\n",
            " [  5   2 110   2   2  17]\n",
            " [ 21   2  24  65  17  73]\n",
            " [ 64   6   2   1 136  15]\n",
            " [ 54   6  47   5  19 629]]\n",
            "Classification Report (Train):\n",
            "                 precision    recall  f1-score   support\n",
            "\n",
            "        Dolphin       0.57      0.88      0.69       313\n",
            "       Sea Rays       0.76      0.28      0.41       208\n",
            "    Sea Urchins       0.58      0.80      0.67       138\n",
            "       Seahorse       0.84      0.32      0.47       202\n",
            "         Sharks       0.55      0.61      0.58       224\n",
            "Turtle_Tortoise       0.82      0.83      0.82       760\n",
            "\n",
            "       accuracy                           0.69      1845\n",
            "      macro avg       0.69      0.62      0.61      1845\n",
            "   weighted avg       0.72      0.69      0.67      1845\n",
            "\n"
          ]
        },
        {
          "output_type": "stream",
          "name": "stderr",
          "text": [
            "/usr/local/lib/python3.10/dist-packages/torchvision/transforms/functional.py:1603: UserWarning: The default value of the antialias parameter of all the resizing transforms (Resize(), RandomResizedCrop(), etc.) will change from None to True in v0.17, in order to be consistent across the PIL and Tensor backends. To suppress this warning, directly pass antialias=True (recommended, future default), antialias=None (current default, which means False for Tensors and True for PIL), or antialias=False (only works on Tensors - PIL will still use antialiasing). This also applies if you are using the inference transforms from the models weights: update the call to weights.transforms(antialias=True).\n",
            "  warnings.warn(\n"
          ]
        },
        {
          "output_type": "stream",
          "name": "stdout",
          "text": [
            "Confusion Matrix (Test):\n",
            "[[ 58   5   1   0  10   4]\n",
            " [ 20   3   2   0  13  12]\n",
            " [  1   1  23   0   0   9]\n",
            " [  4   2   4   3   4  20]\n",
            " [ 24   8   0   0  30   9]\n",
            " [ 11   4  17   3   7 149]]\n",
            "Classification Report (Test):\n",
            "                 precision    recall  f1-score   support\n",
            "\n",
            "        Dolphin       0.49      0.74      0.59        78\n",
            "       Sea Rays       0.13      0.06      0.08        50\n",
            "    Sea Urchins       0.49      0.68      0.57        34\n",
            "       Seahorse       0.50      0.08      0.14        37\n",
            "         Sharks       0.47      0.42      0.44        71\n",
            "Turtle_Tortoise       0.73      0.78      0.76       191\n",
            "\n",
            "       accuracy                           0.58       461\n",
            "      macro avg       0.47      0.46      0.43       461\n",
            "   weighted avg       0.55      0.58      0.54       461\n",
            "\n"
          ]
        }
      ]
    },
    {
      "cell_type": "markdown",
      "source": [
        "Решите задачу задачу классификации, сэмплируя данные для обучения с учетом несбалансированности классов (используйте WeightedRandomSampler). Отобразите confusion matrix и classification report, рассчитанные на основе обучающего и тестового множества. В качестве веса объекта  i -го класса используйте обратную частоту этого класса."
      ],
      "metadata": {
        "id": "ewwydI1iFOL6"
      }
    },
    {
      "cell_type": "code",
      "source": [
        "from torch.utils.data import WeightedRandomSampler"
      ],
      "metadata": {
        "id": "xe7AoNGuAfmS"
      },
      "execution_count": 31,
      "outputs": []
    },
    {
      "cell_type": "code",
      "source": [
        "from torch.utils.data import DataLoader\n",
        "\n",
        "class_frequencies = [0] * len(papka.classes)\n",
        "\n",
        "for _, label in train_loader.dataset:\n",
        "    class_frequencies[label] += 1\n",
        "\n",
        "class_weights = 1.0 / np.array(class_frequencies)\n",
        "\n",
        "sample_weights = [class_weights[label] for _, label in train_loader.dataset]\n",
        "\n",
        "sampler = WeightedRandomSampler(sample_weights, len(sample_weights))\n",
        "\n",
        "weighted_train_loader = DataLoader(train_loader.dataset, batch_size=32, sampler=sampler)"
      ],
      "metadata": {
        "id": "40RLYOPqGGL9"
      },
      "execution_count": 39,
      "outputs": []
    },
    {
      "cell_type": "code",
      "source": [
        "class_frequencies"
      ],
      "metadata": {
        "colab": {
          "base_uri": "https://localhost:8080/"
        },
        "id": "dgjhxAJWK-h9",
        "outputId": "15c8a06a-7027-4be8-940e-8b24e6b45740"
      },
      "execution_count": 44,
      "outputs": [
        {
          "output_type": "execute_result",
          "data": {
            "text/plain": [
              "[313, 208, 138, 202, 224, 760]"
            ]
          },
          "metadata": {},
          "execution_count": 44
        }
      ]
    },
    {
      "cell_type": "code",
      "source": [
        "class_weights"
      ],
      "metadata": {
        "colab": {
          "base_uri": "https://localhost:8080/"
        },
        "id": "Gl_zBwLIM-zT",
        "outputId": "02b25fbd-174a-47ae-95f7-57cc91dee1ab"
      },
      "execution_count": 54,
      "outputs": [
        {
          "output_type": "execute_result",
          "data": {
            "text/plain": [
              "array([0.00319489, 0.00480769, 0.00724638, 0.0049505 , 0.00446429,\n",
              "       0.00131579])"
            ]
          },
          "metadata": {},
          "execution_count": 54
        }
      ]
    },
    {
      "cell_type": "code",
      "source": [
        "device = torch.device('cuda' if torch.cuda.is_available() else 'cpu')\n",
        "model = model.to(device)\n",
        "\n",
        "train_loss_history = []\n",
        "train_acc_history = []\n",
        "val_loss_history = []\n",
        "val_acc_history = []\n",
        "\n",
        "criterion = nn.CrossEntropyLoss()\n",
        "optimizer = optim.SGD(model.parameters(), lr=0.001, momentum=0.9)"
      ],
      "metadata": {
        "id": "wJCrgBbjJDs2"
      },
      "execution_count": 42,
      "outputs": []
    },
    {
      "cell_type": "code",
      "source": [
        "num_epochs = 10\n",
        "for epoch in range(num_epochs):\n",
        "    model.train()  # Переключаем модель в режим обучения\n",
        "    running_loss = 0.0\n",
        "    running_corrects = 0\n",
        "\n",
        "    for inputs, labels in weighted_train_loader:  #  weighted_train_loader\n",
        "        inputs = inputs.to(device)\n",
        "        labels = labels.to(device)\n",
        "\n",
        "        optimizer.zero_grad()\n",
        "\n",
        "        with torch.set_grad_enabled(True):\n",
        "            outputs = model(inputs)\n",
        "            _, preds = torch.max(outputs, 1)\n",
        "            loss = criterion(outputs, labels)\n",
        "\n",
        "            loss.backward()\n",
        "            optimizer.step()\n",
        "\n",
        "        running_loss += loss.item() * inputs.size(0)\n",
        "        running_corrects += torch.sum(preds == labels.data)\n",
        "\n",
        "    epoch_loss = running_loss / len(weighted_train_loader.dataset)  # weighted_train_loader\n",
        "    epoch_acc = running_corrects.double() / len(weighted_train_loader.dataset)  #  weighted_train_loader\n",
        "\n",
        "    train_loss_history.append(epoch_loss)\n",
        "    train_acc_history.append(epoch_acc)\n",
        "\n",
        "    print(f'Epoch {epoch + 1}/{num_epochs} train: Loss: {epoch_loss} Acc: {epoch_acc}')\n",
        "\n",
        "    model.eval()  # Переключаем модель в режим оценки\n",
        "    running_loss = 0.0\n",
        "    running_corrects = 0\n",
        "\n",
        "    for inputs, labels in test_loader:\n",
        "        inputs = inputs.to(device)\n",
        "        labels = labels.to(device)\n",
        "\n",
        "        with torch.no_grad():\n",
        "            outputs = model(inputs)\n",
        "            _, preds = torch.max(outputs, 1)\n",
        "            loss = criterion(outputs, labels)\n",
        "\n",
        "        running_loss += loss.item() * inputs.size(0)\n",
        "        running_corrects += torch.sum(preds == labels.data)\n",
        "\n",
        "    epoch_loss = running_loss / len(test_loader.dataset)\n",
        "    epoch_acc = running_corrects.double() / len(test_loader.dataset)\n",
        "\n",
        "    val_loss_history.append(epoch_loss)\n",
        "    val_acc_history.append(epoch_acc)\n",
        "\n",
        "    print(f'Epoch {epoch + 1}/{num_epochs} val: Loss: {epoch_loss} Acc: {epoch_acc}')\n"
      ],
      "metadata": {
        "colab": {
          "base_uri": "https://localhost:8080/"
        },
        "outputId": "39547dab-b32f-4468-fe30-3ff07f5249d2",
        "id": "kDAGLB5GIHUL"
      },
      "execution_count": 43,
      "outputs": [
        {
          "output_type": "stream",
          "name": "stdout",
          "text": [
            "Epoch 1/10 train: Loss: 0.9464822349509573 Acc: 0.6547425474254742\n",
            "Epoch 1/10 val: Loss: 1.151349850435319 Acc: 0.5553145336225597\n",
            "Epoch 2/10 train: Loss: 0.9255110920283206 Acc: 0.6699186991869919\n",
            "Epoch 2/10 val: Loss: 1.2542199661829985 Acc: 0.5249457700650759\n",
            "Epoch 3/10 train: Loss: 0.9495693553107863 Acc: 0.6764227642276422\n",
            "Epoch 3/10 val: Loss: 1.429333539691768 Acc: 0.46637744034707157\n",
            "Epoch 4/10 train: Loss: 0.8502892281627914 Acc: 0.7046070460704607\n",
            "Epoch 4/10 val: Loss: 1.2513085526137444 Acc: 0.5336225596529284\n",
            "Epoch 5/10 train: Loss: 0.8389948065364911 Acc: 0.7078590785907859\n",
            "Epoch 5/10 val: Loss: 1.3615595932379203 Acc: 0.5032537960954447\n",
            "Epoch 6/10 train: Loss: 0.7568347550989166 Acc: 0.7382113821138211\n",
            "Epoch 6/10 val: Loss: 1.2748406729832646 Acc: 0.5206073752711496\n",
            "Epoch 7/10 train: Loss: 0.6697927054350938 Acc: 0.7718157181571815\n",
            "Epoch 7/10 val: Loss: 1.4237837292367104 Acc: 0.4924078091106291\n",
            "Epoch 8/10 train: Loss: 0.6648692766825358 Acc: 0.7658536585365854\n",
            "Epoch 8/10 val: Loss: 1.409927966796395 Acc: 0.5054229934924078\n",
            "Epoch 9/10 train: Loss: 0.6302187359591487 Acc: 0.7869918699186992\n",
            "Epoch 9/10 val: Loss: 1.6986587321680693 Acc: 0.403470715835141\n",
            "Epoch 10/10 train: Loss: 0.6502525866516238 Acc: 0.781029810298103\n",
            "Epoch 10/10 val: Loss: 1.5097089372332857 Acc: 0.46203904555314534\n"
          ]
        }
      ]
    },
    {
      "cell_type": "code",
      "source": [
        "model.eval()\n",
        "running_loss = 0.0\n",
        "running_corrects = 0\n",
        "\n",
        "for inputs, labels in test_loader:\n",
        "    inputs = inputs.to(device)\n",
        "    labels = labels.to(device)\n",
        "\n",
        "    with torch.no_grad():\n",
        "        outputs = model(inputs)\n",
        "        _, preds = torch.max(outputs, 1)\n",
        "        loss = criterion(outputs, labels)\n",
        "\n",
        "    running_loss += loss.item() * inputs.size(0)\n",
        "    running_corrects += torch.sum(preds == labels.data)\n",
        "\n",
        "epoch_loss = running_loss / len(test_loader.dataset)\n",
        "epoch_acc = running_corrects.double() / len(test_loader.dataset)\n",
        "\n",
        "val_loss_history.append(epoch_loss)\n",
        "val_acc_history.append(epoch_acc)\n",
        "\n",
        "print(f'Epoch {epoch + 1}/{num_epochs} val: Loss: {epoch_loss} Acc: {epoch_acc}')"
      ],
      "metadata": {
        "colab": {
          "base_uri": "https://localhost:8080/"
        },
        "id": "8PnHqKpJJRnT",
        "outputId": "eddf9c73-5cd6-4b3a-9679-118aab5297df"
      },
      "execution_count": 46,
      "outputs": [
        {
          "output_type": "stream",
          "name": "stdout",
          "text": [
            "Epoch 10/10 val: Loss: 1.5097089222351538 Acc: 0.46203904555314534\n"
          ]
        }
      ]
    },
    {
      "cell_type": "code",
      "source": [
        "from sklearn.metrics import classification_report, confusion_matrix\n",
        "\n",
        "model.eval()  # Переключаем модель в режим оценки\n",
        "running_loss = 0.0\n",
        "running_corrects = 0\n",
        "all_labels = []\n",
        "all_predictions = []\n",
        "\n",
        "for inputs, labels in train_loader:\n",
        "    inputs = inputs.to(device)\n",
        "    labels = labels.to(device)\n",
        "\n",
        "    with torch.no_grad():\n",
        "        outputs = model(inputs)\n",
        "        _, preds = torch.max(outputs, 1)\n",
        "        loss = criterion(outputs, labels)\n",
        "\n",
        "    running_loss += loss.item() * inputs.size(0)\n",
        "    running_corrects += torch.sum(preds == labels.data)\n",
        "    all_labels.extend(labels.cpu().numpy())\n",
        "    all_predictions.extend(preds.cpu().numpy())\n",
        "\n",
        "epoch_loss = running_loss / len(train_loader.dataset)\n",
        "epoch_acc = running_corrects.double() / len(train_loader.dataset)\n",
        "\n",
        "print('Confusion Matrix (Train):')\n",
        "print(confusion_matrix(all_labels, all_predictions))\n",
        "print('Classification Report (Train):')\n",
        "print(classification_report(all_labels, all_predictions, target_names=papka.classes))\n"
      ],
      "metadata": {
        "colab": {
          "base_uri": "https://localhost:8080/"
        },
        "id": "kNRb6pQtLYID",
        "outputId": "d40c44c7-f815-42f2-cabe-fb00896d0fe9"
      },
      "execution_count": 56,
      "outputs": [
        {
          "output_type": "stream",
          "name": "stderr",
          "text": [
            "/usr/local/lib/python3.10/dist-packages/torchvision/transforms/functional.py:1603: UserWarning: The default value of the antialias parameter of all the resizing transforms (Resize(), RandomResizedCrop(), etc.) will change from None to True in v0.17, in order to be consistent across the PIL and Tensor backends. To suppress this warning, directly pass antialias=True (recommended, future default), antialias=None (current default, which means False for Tensors and True for PIL), or antialias=False (only works on Tensors - PIL will still use antialiasing). This also applies if you are using the inference transforms from the models weights: update the call to weights.transforms(antialias=True).\n",
            "  warnings.warn(\n"
          ]
        },
        {
          "output_type": "stream",
          "name": "stdout",
          "text": [
            "Confusion Matrix (Train):\n",
            "[[203  50   7  13  28  12]\n",
            " [  4 171   9   3  20   1]\n",
            " [  0   0 138   0   0   0]\n",
            " [  0   1   2 196   2   1]\n",
            " [  3  36   5   7 167   6]\n",
            " [ 12  26 130  61  11 520]]\n",
            "Classification Report (Train):\n",
            "                 precision    recall  f1-score   support\n",
            "\n",
            "        Dolphin       0.91      0.65      0.76       313\n",
            "       Sea Rays       0.60      0.82      0.70       208\n",
            "    Sea Urchins       0.47      1.00      0.64       138\n",
            "       Seahorse       0.70      0.97      0.81       202\n",
            "         Sharks       0.73      0.75      0.74       224\n",
            "Turtle_Tortoise       0.96      0.68      0.80       760\n",
            "\n",
            "       accuracy                           0.76      1845\n",
            "      macro avg       0.73      0.81      0.74      1845\n",
            "   weighted avg       0.82      0.76      0.76      1845\n",
            "\n"
          ]
        }
      ]
    },
    {
      "cell_type": "code",
      "source": [
        "from sklearn.metrics import classification_report, confusion_matrix\n",
        "\n",
        "model.eval()  # Переключаем модель в режим оценки\n",
        "running_loss = 0.0\n",
        "running_corrects = 0\n",
        "all_labels = []\n",
        "all_predictions = []\n",
        "\n",
        "for inputs, labels in test_loader:\n",
        "    inputs = inputs.to(device)\n",
        "    labels = labels.to(device)\n",
        "\n",
        "    with torch.no_grad():\n",
        "        outputs = model(inputs)\n",
        "        _, preds = torch.max(outputs, 1)\n",
        "        loss = criterion(outputs, labels)\n",
        "\n",
        "    running_loss += loss.item() * inputs.size(0)\n",
        "    running_corrects += torch.sum(preds == labels.data)\n",
        "    all_labels.extend(labels.cpu().numpy())\n",
        "    all_predictions.extend(preds.cpu().numpy())\n",
        "\n",
        "epoch_loss = running_loss / len(train_loader.dataset)\n",
        "epoch_acc = running_corrects.double() / len(train_loader.dataset)\n",
        "\n",
        "print('Confusion Matrix (Test):')\n",
        "print(confusion_matrix(all_labels, all_predictions))\n",
        "print('Classification Report (Test):')\n",
        "print(classification_report(all_labels, all_predictions, target_names=papka.classes))"
      ],
      "metadata": {
        "colab": {
          "base_uri": "https://localhost:8080/"
        },
        "id": "IP8f5XoSLbws",
        "outputId": "a08765d0-f919-40e4-cdeb-c2e7bfe05d03"
      },
      "execution_count": 55,
      "outputs": [
        {
          "output_type": "stream",
          "name": "stderr",
          "text": [
            "/usr/local/lib/python3.10/dist-packages/torchvision/transforms/functional.py:1603: UserWarning: The default value of the antialias parameter of all the resizing transforms (Resize(), RandomResizedCrop(), etc.) will change from None to True in v0.17, in order to be consistent across the PIL and Tensor backends. To suppress this warning, directly pass antialias=True (recommended, future default), antialias=None (current default, which means False for Tensors and True for PIL), or antialias=False (only works on Tensors - PIL will still use antialiasing). This also applies if you are using the inference transforms from the models weights: update the call to weights.transforms(antialias=True).\n",
            "  warnings.warn(\n"
          ]
        },
        {
          "output_type": "stream",
          "name": "stdout",
          "text": [
            "Confusion Matrix (Test):\n",
            "[[ 27  19   3   3  16  10]\n",
            " [  2  21   3   7  13   4]\n",
            " [  1   1  26   1   0   5]\n",
            " [  1   3   7  13   3  10]\n",
            " [  5  30   1   6  25   4]\n",
            " [  2   8  41  33   6 101]]\n",
            "Classification Report (Test):\n",
            "                 precision    recall  f1-score   support\n",
            "\n",
            "        Dolphin       0.71      0.35      0.47        78\n",
            "       Sea Rays       0.26      0.42      0.32        50\n",
            "    Sea Urchins       0.32      0.76      0.45        34\n",
            "       Seahorse       0.21      0.35      0.26        37\n",
            "         Sharks       0.40      0.35      0.37        71\n",
            "Turtle_Tortoise       0.75      0.53      0.62       191\n",
            "\n",
            "       accuracy                           0.46       461\n",
            "      macro avg       0.44      0.46      0.42       461\n",
            "   weighted avg       0.56      0.46      0.48       461\n",
            "\n"
          ]
        }
      ]
    },
    {
      "cell_type": "code",
      "source": [],
      "metadata": {
        "id": "5BSj2hEdOrxB"
      },
      "execution_count": null,
      "outputs": []
    }
  ]
}