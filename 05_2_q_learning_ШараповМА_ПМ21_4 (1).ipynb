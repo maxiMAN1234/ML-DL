{
  "cells": [
    {
      "cell_type": "code",
      "source": [],
      "metadata": {
        "id": "2roOfrxXNhMX"
      },
      "id": "2roOfrxXNhMX",
      "execution_count": null,
      "outputs": []
    },
    {
      "cell_type": "markdown",
      "id": "3a564d5f",
      "metadata": {
        "id": "3a564d5f"
      },
      "source": [
        "#  Q-learning\n",
        "\n",
        "__Автор задач: Блохин Н.В. (NVBlokhin@fa.ru)__\n",
        "\n",
        "Материалы:\n",
        "* Саттон Р.\tС.,\tБарто Э. Дж. Обучение с подкреплением: Введение. 2-е изд.\n",
        "* https://gymnasium.farama.org/tutorials/training_agents/blackjack_tutorial/\n",
        "* https://en.wikipedia.org/wiki/Q-learning\n",
        "* https://www.baeldung.com/cs/epsilon-greedy-q-learning\n",
        "* https://pythonprogramming.net/q-learning-reinforcement-learning-python-tutorial/\n",
        "* https://www.datacamp.com/tutorial/introduction-q-learning-beginner-tutorial\n",
        "* https://rubikscode.net/2021/07/20/introduction-to-double-q-learning/\n",
        "* https://gymnasium.farama.org/api/wrappers/misc_wrappers/#gymnasium.wrappers.RecordVideo"
      ]
    },
    {
      "cell_type": "markdown",
      "id": "c9ecd663",
      "metadata": {
        "id": "c9ecd663"
      },
      "source": [
        "## Задачи для совместного разбора"
      ]
    },
    {
      "cell_type": "markdown",
      "id": "d82e2a26",
      "metadata": {
        "id": "d82e2a26"
      },
      "source": [
        "1\\. Рассмотрите понятие Q-функции, ее применение для формирования политики агента и способов ее создания."
      ]
    },
    {
      "cell_type": "code",
      "source": [
        "import numpy as np"
      ],
      "metadata": {
        "id": "uokqO6mgRh2W"
      },
      "id": "uokqO6mgRh2W",
      "execution_count": null,
      "outputs": []
    },
    {
      "cell_type": "code",
      "source": [
        "actions = [0, 1]\n",
        "states = [0, 1, 2]\n",
        "\n",
        "q_table = np.random.uniform(-1, 1, size=(len(states), len(actions)))\n",
        "q_table.shape"
      ],
      "metadata": {
        "colab": {
          "base_uri": "https://localhost:8080/"
        },
        "id": "iTPJBugDRm8N",
        "outputId": "773926f5-83f9-4cf1-e584-536a43845726"
      },
      "id": "iTPJBugDRm8N",
      "execution_count": null,
      "outputs": [
        {
          "output_type": "execute_result",
          "data": {
            "text/plain": [
              "(3, 2)"
            ]
          },
          "metadata": {},
          "execution_count": 2
        }
      ]
    },
    {
      "cell_type": "code",
      "source": [
        "state = 1\n",
        "q_table[state].argmax()"
      ],
      "metadata": {
        "colab": {
          "base_uri": "https://localhost:8080/"
        },
        "id": "sHeDUHfMSKGR",
        "outputId": "e722c8d5-8d04-4c09-8193-f8691a3d758e"
      },
      "id": "sHeDUHfMSKGR",
      "execution_count": null,
      "outputs": [
        {
          "output_type": "execute_result",
          "data": {
            "text/plain": [
              "1"
            ]
          },
          "metadata": {},
          "execution_count": 3
        }
      ]
    },
    {
      "cell_type": "code",
      "source": [
        "states = np.array([\n",
        "    [0, 0],\n",
        "    [1, 0],\n",
        "    [1, 2]\n",
        "])\n",
        "\n",
        "actions = [0, 1]\n",
        "\n",
        "q_table =  np.random.uniform(-1, 1, size=(*states.shape, len(actions)))\n",
        "q_table.shape"
      ],
      "metadata": {
        "colab": {
          "base_uri": "https://localhost:8080/"
        },
        "id": "njNsTJdvSfea",
        "outputId": "2edc2f4a-0dbd-42a0-b140-b1198f64fd07"
      },
      "id": "njNsTJdvSfea",
      "execution_count": null,
      "outputs": [
        {
          "output_type": "execute_result",
          "data": {
            "text/plain": [
              "(3, 2, 2)"
            ]
          },
          "metadata": {},
          "execution_count": 4
        }
      ]
    },
    {
      "cell_type": "code",
      "source": [
        "state = [0, 0]\n",
        "\n",
        "q_table[0, 0]"
      ],
      "metadata": {
        "colab": {
          "base_uri": "https://localhost:8080/"
        },
        "id": "JK1njvi9S0qO",
        "outputId": "e3ca8b8c-a370-4df2-d1f6-e28648d2a0ba"
      },
      "id": "JK1njvi9S0qO",
      "execution_count": null,
      "outputs": [
        {
          "output_type": "execute_result",
          "data": {
            "text/plain": [
              "array([0.21395069, 0.81045144])"
            ]
          },
          "metadata": {},
          "execution_count": 5
        }
      ]
    },
    {
      "cell_type": "code",
      "source": [
        "states = np.array([\n",
        "    [0.2, 0.5],\n",
        "    [1.3, 0.7],\n",
        "    [0.8, 1.3]\n",
        "])"
      ],
      "metadata": {
        "id": "TZdRkmGaWZuO"
      },
      "id": "TZdRkmGaWZuO",
      "execution_count": null,
      "outputs": []
    },
    {
      "cell_type": "code",
      "source": [
        "states = np.array([\n",
        "    [0, 0],\n",
        "    [1, 0],\n",
        "    [0, 1]\n",
        "])"
      ],
      "metadata": {
        "id": "XM7htMQ6WgdH"
      },
      "id": "XM7htMQ6WgdH",
      "execution_count": null,
      "outputs": []
    },
    {
      "cell_type": "markdown",
      "id": "4d7b6d63",
      "metadata": {
        "id": "4d7b6d63"
      },
      "source": [
        "## Задачи для самостоятельного решения"
      ]
    },
    {
      "cell_type": "markdown",
      "id": "7f49190d",
      "metadata": {
        "id": "7f49190d"
      },
      "source": [
        "<p class=\"task\" id=\"1\"></p>\n",
        "\n",
        "1\\. Обучите агента для игры в блэкджек (окружение `Blackjack-v1`), используя алгоритм Q-learning. Для создания таблицы Q-функции выясните размеры пространства состояния игры и количество возможных действий игрока и выведите эти значения на экран. Во время обучения несколько раз вычислите статистику за `print_every` последних эпизодов: количество выигранных и проигранных сессий. После завершения обучения визуализируйте полученные данные. Изучите, как выглядит Q-функция (в каких состояниях игрок будет брать карту, в каких - нет). Cыграйте `N=10000` игр, применяя стратегию, выведенную из обученной Q-функции, посчитайте и выведите на экран долю выигранных игр.\n",
        "\n",
        "Cтратегия для выбора действия:\n",
        "$$a_{t+1}(s_t) = argmax_aQ(s_t, a)$$\n",
        "\n",
        "Правило обновления Q-функции:\n",
        "\n",
        "![q-learning](https://wikimedia.org/api/rest_v1/media/math/render/svg/d247db9eaad4bd343e7882ec546bf3847ebd36d8)\n",
        "\n",
        "- [ ] Проверено на семинаре"
      ]
    },
    {
      "cell_type": "markdown",
      "source": [
        " Для создания таблицы Q-функции выясните размеры пространства состояния игры и количество возможных действий игрока и выведите эти значения на экран"
      ],
      "metadata": {
        "id": "vkdcrsPQAa2z"
      },
      "id": "vkdcrsPQAa2z"
    },
    {
      "cell_type": "code",
      "source": [
        "import matplotlib.pyplot as plt\n",
        "import seaborn as sns\n",
        "import gymnasium as gym\n",
        "import numpy as np\n",
        "from tqdm import tqdm\n",
        "from dataclasses import dataclass\n",
        "from collections import defaultdict\n",
        "from typing import List"
      ],
      "metadata": {
        "id": "03lJcnlr2VGy"
      },
      "id": "03lJcnlr2VGy",
      "execution_count": 3,
      "outputs": []
    },
    {
      "cell_type": "code",
      "source": [
        "!pip install gymnasium"
      ],
      "metadata": {
        "id": "jdlJ0YV6-7lT",
        "colab": {
          "base_uri": "https://localhost:8080/"
        },
        "outputId": "77ef6721-3ae1-4cb8-a400-2874968cdffc"
      },
      "id": "jdlJ0YV6-7lT",
      "execution_count": 2,
      "outputs": [
        {
          "output_type": "stream",
          "name": "stdout",
          "text": [
            "Collecting gymnasium\n",
            "  Downloading gymnasium-0.29.1-py3-none-any.whl (953 kB)\n",
            "\u001b[2K     \u001b[90m━━━━━━━━━━━━━━━━━━━━━━━━━━━━━━━━━━━━━━━━\u001b[0m \u001b[32m953.9/953.9 kB\u001b[0m \u001b[31m7.0 MB/s\u001b[0m eta \u001b[36m0:00:00\u001b[0m\n",
            "\u001b[?25hRequirement already satisfied: numpy>=1.21.0 in /usr/local/lib/python3.10/dist-packages (from gymnasium) (1.23.5)\n",
            "Requirement already satisfied: cloudpickle>=1.2.0 in /usr/local/lib/python3.10/dist-packages (from gymnasium) (2.2.1)\n",
            "Requirement already satisfied: typing-extensions>=4.3.0 in /usr/local/lib/python3.10/dist-packages (from gymnasium) (4.5.0)\n",
            "Collecting farama-notifications>=0.0.1 (from gymnasium)\n",
            "  Downloading Farama_Notifications-0.0.4-py3-none-any.whl (2.5 kB)\n",
            "Installing collected packages: farama-notifications, gymnasium\n",
            "Successfully installed farama-notifications-0.0.4 gymnasium-0.29.1\n"
          ]
        }
      ]
    },
    {
      "cell_type": "code",
      "source": [
        "env = gym.make('Blackjack-v1')\n",
        "\n",
        "# Размер пространства состояний\n",
        "state_space_size = env.observation_space[0].n\n",
        "print(f\"Размер пространства состояний: {state_space_size}\")\n",
        "\n",
        "# Количество возможных действий игрока\n",
        "action_space_size = env.action_space.n\n",
        "print(f\"Количество возможных действий игрока: {action_space_size}\")\n"
      ],
      "metadata": {
        "colab": {
          "base_uri": "https://localhost:8080/"
        },
        "id": "_ce6v6VOmQAc",
        "outputId": "8be38fae-41e4-494e-ea4d-1a9874dbfc0d"
      },
      "id": "_ce6v6VOmQAc",
      "execution_count": 4,
      "outputs": [
        {
          "output_type": "stream",
          "name": "stdout",
          "text": [
            "Размер пространства состояний: 32\n",
            "Количество возможных действий игрока: 2\n"
          ]
        }
      ]
    },
    {
      "cell_type": "code",
      "execution_count": 5,
      "id": "bd0ba256",
      "metadata": {
        "id": "bd0ba256"
      },
      "outputs": [],
      "source": [
        "@dataclass\n",
        "class Config:\n",
        "    discount: float = 0.95\n",
        "    lr: float = 0.005\n",
        "    n_episodes: float = 100_000\n",
        "    print_every: int = 5000"
      ]
    },
    {
      "cell_type": "code",
      "execution_count": 6,
      "id": "4ba6b041",
      "metadata": {
        "id": "4ba6b041"
      },
      "outputs": [],
      "source": [
        "class Agent:\n",
        "    def __init__(self, env, config: Config):\n",
        "        self.env = env\n",
        "        self.cfg = config\n",
        "        self.q_values = defaultdict(lambda: np.zeros(env.action_space.n))\n",
        "\n",
        "    def _create_q_table(self):\n",
        "        # напишите код для создания таблицы Q-функции\n",
        "        # для окружения Blackjack должен получиться массив 32x11x2x2\n",
        "        # Размеры: (сумма карт игрока, карта дилера, наличие туза у игрока, действие игрока)\n",
        "      player_sum_space = 32  # Сумма карт игрока может варьироваться от 4 до 31\n",
        "      dealer_card_space = 11  # Карта дилера может быть от 1 до 10\n",
        "      has_ace_space = 2  # Наличие туза у игрока (0 - отсутствие туза, 1 - наличие туза)\n",
        "      action_space = 2  # Действие игрока (0 - \"Stand\", 1 - \"Hit\")\n",
        "\n",
        "      # Создание таблицы Q-функции и инициализация нулями\n",
        "      self.q_table = np.zeros((player_sum_space, dealer_card_space, has_ace_space, action_space))\n",
        "\n",
        "\n",
        "    def get_action(self, state: np.ndarray) -> int:\n",
        "        # найдите и верните индекс максимума Q-функции для состояния state\n",
        "        # обратите внимание, что максимумов может быть несколько\n",
        "        # сли есть несколько действий с одинаковым максимальным значением Q-функции, агент будет случайным образом выбирать одно из них\n",
        "        max_indices = np.where(self.q_values[state] == np.max(self.q_values[state]))[0]\n",
        "        return np.random.choice(max_indices)\n",
        "\n",
        "\n",
        "    def update_q_table(self, state: np.ndarray, new_state: np.ndarray, reward: float, action: int, done: bool) -> None:\n",
        "        # напишите код для обновления Q-функции согласно правилу выше\n",
        "        # если эпизод закончен, то будущая награда равна 0\n",
        "      if done:\n",
        "          future_reward = 0\n",
        "      else:\n",
        "          future_reward = self.q_values[new_state][action].max()\n",
        "\n",
        "      self.q_values[state][action] += (1 - self.cfg.lr) * self.q_values[state][action] + self.cfg.lr * (reward + self.cfg.discount * future_reward)\n",
        "\n",
        "\n",
        "    def run_episode(self) -> float:\n",
        "        done = False\n",
        "        state, info = self.env.reset()\n",
        "        while not done:\n",
        "            action = self.get_action(state)\n",
        "            new_state, reward, terminated, truncated, info = self.env.step(action)\n",
        "            done = terminated or truncated\n",
        "            self.update_q_table(state, new_state, reward, action, done)\n",
        "            state = new_state\n",
        "\n",
        "            if done:\n",
        "                return reward\n",
        "\n",
        "    def train(self):\n",
        "        ep_rewards = []\n",
        "        stats = {'win': 0, 'lose': 0, 'tie': 0}\n",
        "\n",
        "        for ep in tqdm(range(self.cfg.n_episodes)):\n",
        "            reward = self.run_episode()\n",
        "            ep_rewards.append(reward)\n",
        "\n",
        "            if reward > 0:\n",
        "                stats['win'] += 1\n",
        "            elif reward < 0:\n",
        "                stats['lose'] += 1\n",
        "            else:\n",
        "                stats['tie'] += 1\n",
        "\n",
        "            if ep % self.cfg.print_every == 0 and ep >= self.cfg.print_every:\n",
        "                recent_stats = ep_rewards[ep - self.cfg.print_every : ep]\n",
        "\n",
        "                recent_wins = sum(1 for r in recent_stats if r > 0)\n",
        "                recent_losses = sum(1 for r in recent_stats if r < 0)\n",
        "                recent_ties = sum(1 for r in recent_stats if r == 0)\n",
        "\n",
        "                print(f\"Эпизод {ep}, Последние {self.cfg.print_every} эпизодов: \"\n",
        "                      f\"Выигрыши: {recent_wins}, Проигрыши: {recent_losses}, Ничьи: {recent_ties}\")\n",
        "\n",
        "        return ep_rewards, stats\n",
        "\n",
        "def visualize_results(ep_rewards, stats):\n",
        "    plt.figure(figsize=(18, 8))\n",
        "\n",
        "    # Гистограмма выигрышей, проигрышей и ничьих\n",
        "    plt.subplot(1, 3, 1)\n",
        "    colors = ['lightcoral', 'lightgreen', 'lightskyblue']\n",
        "    plt.bar(stats.keys(), stats.values(), color=colors)\n",
        "    plt.title('Результаты выигрышей/проигрышей/ничьих')\n",
        "    plt.xlabel('Результат')\n",
        "    plt.ylabel('Количество')\n",
        "    plt.grid(axis='y', linestyle='--')"
      ]
    },
    {
      "cell_type": "markdown",
      "source": [
        "Во время обучения несколько раз вычислите статистику за print_every последних эпизодов: количество выигранных и проигранных сессий"
      ],
      "metadata": {
        "id": "2eC97U6sAOp4"
      },
      "id": "2eC97U6sAOp4"
    },
    {
      "cell_type": "code",
      "source": [
        "config = Config()\n",
        "agent = Agent(env, config = Config)\n",
        "ep_rewards, stats = agent.train()\n",
        "# Print the final statistics\n",
        "print(f\"Final Win Count: {stats['win']}\")\n",
        "print(f\"Final Lose Count: {stats['lose']}\")\n",
        "print(f\"Final Tie Count: {stats['tie']}\")\n",
        "print(f\"Win%: {stats['win']/ len(ep_rewards) * 100}%\")"
      ],
      "metadata": {
        "colab": {
          "base_uri": "https://localhost:8080/"
        },
        "id": "TlqHGhbSAEmS",
        "outputId": "868bc672-b069-44e9-bddf-9357a3b017d7"
      },
      "id": "TlqHGhbSAEmS",
      "execution_count": 9,
      "outputs": [
        {
          "output_type": "stream",
          "name": "stderr",
          "text": [
            "  6%|▌         | 5634/100000 [00:02<00:19, 4730.71it/s]"
          ]
        },
        {
          "output_type": "stream",
          "name": "stdout",
          "text": [
            "Эпизод 5000, Последние 5000 эпизодов: Выигрыши: 1914, Проигрыши: 2821, Ничьи: 265\n"
          ]
        },
        {
          "output_type": "stream",
          "name": "stderr",
          "text": [
            " 11%|█         | 10870/100000 [00:03<00:15, 5822.45it/s]"
          ]
        },
        {
          "output_type": "stream",
          "name": "stdout",
          "text": [
            "Эпизод 10000, Последние 5000 эпизодов: Выигрыши: 1924, Проигрыши: 2823, Ничьи: 253\n"
          ]
        },
        {
          "output_type": "stream",
          "name": "stderr",
          "text": [
            " 16%|█▌        | 15973/100000 [00:03<00:15, 5466.99it/s]"
          ]
        },
        {
          "output_type": "stream",
          "name": "stdout",
          "text": [
            "Эпизод 15000, Последние 5000 эпизодов: Выигрыши: 1989, Проигрыши: 2765, Ничьи: 246\n"
          ]
        },
        {
          "output_type": "stream",
          "name": "stderr",
          "text": [
            " 21%|██        | 20584/100000 [00:04<00:14, 5601.00it/s]"
          ]
        },
        {
          "output_type": "stream",
          "name": "stdout",
          "text": [
            "Эпизод 20000, Последние 5000 эпизодов: Выигрыши: 1894, Проигрыши: 2851, Ничьи: 255\n"
          ]
        },
        {
          "output_type": "stream",
          "name": "stderr",
          "text": [
            " 26%|██▌       | 25897/100000 [00:05<00:13, 5654.11it/s]"
          ]
        },
        {
          "output_type": "stream",
          "name": "stdout",
          "text": [
            "Эпизод 25000, Последние 5000 эпизодов: Выигрыши: 1928, Проигрыши: 2823, Ничьи: 249\n"
          ]
        },
        {
          "output_type": "stream",
          "name": "stderr",
          "text": [
            " 29%|██▉       | 29419/100000 [00:06<00:14, 4757.54it/s]<ipython-input-6-b026dcaaf20f>:36: RuntimeWarning: overflow encountered in double_scalars\n",
            "  self.q_values[state][action] += (1 - self.cfg.lr) * self.q_values[state][action] + self.cfg.lr * (reward + self.cfg.discount * future_reward)\n",
            " 30%|███       | 30379/100000 [00:06<00:17, 3953.70it/s]"
          ]
        },
        {
          "output_type": "stream",
          "name": "stdout",
          "text": [
            "Эпизод 30000, Последние 5000 эпизодов: Выигрыши: 1893, Проигрыши: 2852, Ничьи: 255\n"
          ]
        },
        {
          "output_type": "stream",
          "name": "stderr",
          "text": [
            " 36%|███▌      | 35600/100000 [00:08<00:17, 3684.78it/s]"
          ]
        },
        {
          "output_type": "stream",
          "name": "stdout",
          "text": [
            "Эпизод 35000, Последние 5000 эпизодов: Выигрыши: 1831, Проигрыши: 2922, Ничьи: 247\n"
          ]
        },
        {
          "output_type": "stream",
          "name": "stderr",
          "text": [
            " 40%|████      | 40340/100000 [00:09<00:16, 3663.06it/s]"
          ]
        },
        {
          "output_type": "stream",
          "name": "stdout",
          "text": [
            "Эпизод 40000, Последние 5000 эпизодов: Выигрыши: 1937, Проигрыши: 2804, Ничьи: 259\n"
          ]
        },
        {
          "output_type": "stream",
          "name": "stderr",
          "text": [
            " 46%|████▌     | 45940/100000 [00:11<00:11, 4597.06it/s]"
          ]
        },
        {
          "output_type": "stream",
          "name": "stdout",
          "text": [
            "Эпизод 45000, Последние 5000 эпизодов: Выигрыши: 1872, Проигрыши: 2885, Ничьи: 243\n"
          ]
        },
        {
          "output_type": "stream",
          "name": "stderr",
          "text": [
            " 51%|█████     | 51067/100000 [00:12<00:09, 5393.54it/s]"
          ]
        },
        {
          "output_type": "stream",
          "name": "stdout",
          "text": [
            "Эпизод 50000, Последние 5000 эпизодов: Выигрыши: 1912, Проигрыши: 2849, Ничьи: 239\n"
          ]
        },
        {
          "output_type": "stream",
          "name": "stderr",
          "text": [
            " 56%|█████▌    | 55831/100000 [00:12<00:07, 5611.54it/s]"
          ]
        },
        {
          "output_type": "stream",
          "name": "stdout",
          "text": [
            "Эпизод 55000, Последние 5000 эпизодов: Выигрыши: 1828, Проигрыши: 2907, Ничьи: 265\n"
          ]
        },
        {
          "output_type": "stream",
          "name": "stderr",
          "text": [
            " 61%|██████    | 61149/100000 [00:13<00:06, 5758.73it/s]"
          ]
        },
        {
          "output_type": "stream",
          "name": "stdout",
          "text": [
            "Эпизод 60000, Последние 5000 эпизодов: Выигрыши: 1828, Проигрыши: 2936, Ничьи: 236\n"
          ]
        },
        {
          "output_type": "stream",
          "name": "stderr",
          "text": [
            " 66%|██████▌   | 65908/100000 [00:14<00:05, 5908.37it/s]"
          ]
        },
        {
          "output_type": "stream",
          "name": "stdout",
          "text": [
            "Эпизод 65000, Последние 5000 эпизодов: Выигрыши: 1938, Проигрыши: 2833, Ничьи: 229\n"
          ]
        },
        {
          "output_type": "stream",
          "name": "stderr",
          "text": [
            " 71%|███████   | 70647/100000 [00:15<00:04, 5926.82it/s]"
          ]
        },
        {
          "output_type": "stream",
          "name": "stdout",
          "text": [
            "Эпизод 70000, Последние 5000 эпизодов: Выигрыши: 1885, Проигрыши: 2874, Ничьи: 241\n"
          ]
        },
        {
          "output_type": "stream",
          "name": "stderr",
          "text": [
            " 76%|███████▌  | 76004/100000 [00:16<00:04, 5773.00it/s]"
          ]
        },
        {
          "output_type": "stream",
          "name": "stdout",
          "text": [
            "Эпизод 75000, Последние 5000 эпизодов: Выигрыши: 1830, Проигрыши: 2918, Ничьи: 252\n"
          ]
        },
        {
          "output_type": "stream",
          "name": "stderr",
          "text": [
            " 81%|████████  | 80660/100000 [00:17<00:03, 5399.80it/s]"
          ]
        },
        {
          "output_type": "stream",
          "name": "stdout",
          "text": [
            "Эпизод 80000, Последние 5000 эпизодов: Выигрыши: 1892, Проигрыши: 2853, Ничьи: 255\n"
          ]
        },
        {
          "output_type": "stream",
          "name": "stderr",
          "text": [
            " 86%|████████▌ | 85892/100000 [00:18<00:02, 5656.73it/s]"
          ]
        },
        {
          "output_type": "stream",
          "name": "stdout",
          "text": [
            "Эпизод 85000, Последние 5000 эпизодов: Выигрыши: 1896, Проигрыши: 2838, Ничьи: 266\n"
          ]
        },
        {
          "output_type": "stream",
          "name": "stderr",
          "text": [
            " 91%|█████████ | 91059/100000 [00:19<00:01, 5540.52it/s]"
          ]
        },
        {
          "output_type": "stream",
          "name": "stdout",
          "text": [
            "Эпизод 90000, Последние 5000 эпизодов: Выигрыши: 1848, Проигрыши: 2902, Ничьи: 250\n"
          ]
        },
        {
          "output_type": "stream",
          "name": "stderr",
          "text": [
            " 96%|█████████▌| 95700/100000 [00:19<00:00, 5616.37it/s]"
          ]
        },
        {
          "output_type": "stream",
          "name": "stdout",
          "text": [
            "Эпизод 95000, Последние 5000 эпизодов: Выигрыши: 1925, Проигрыши: 2825, Ничьи: 250\n"
          ]
        },
        {
          "output_type": "stream",
          "name": "stderr",
          "text": [
            "100%|██████████| 100000/100000 [00:20<00:00, 4842.13it/s]"
          ]
        },
        {
          "output_type": "stream",
          "name": "stdout",
          "text": [
            "Final Win Count: 37859\n",
            "Final Lose Count: 57115\n",
            "Final Tie Count: 5026\n",
            "Win%: 37.858999999999995%\n"
          ]
        },
        {
          "output_type": "stream",
          "name": "stderr",
          "text": [
            "\n"
          ]
        }
      ]
    },
    {
      "cell_type": "markdown",
      "source": [
        "После завершения обучения визуализируйте полученные данные"
      ],
      "metadata": {
        "id": "tdFdkFY3AIZv"
      },
      "id": "tdFdkFY3AIZv"
    },
    {
      "cell_type": "code",
      "source": [
        "visualize_results(ep_rewards, stats)"
      ],
      "metadata": {
        "id": "EpU-DklZpIb7",
        "colab": {
          "base_uri": "https://localhost:8080/",
          "height": 718
        },
        "outputId": "e733cd53-02b4-430d-da68-632697e1cbea"
      },
      "id": "EpU-DklZpIb7",
      "execution_count": 10,
      "outputs": [
        {
          "output_type": "display_data",
          "data": {
            "text/plain": [
              "<Figure size 1800x800 with 1 Axes>"
            ],
            "image/png": "[encoded data removed]"
          },
          "metadata": {}
        }
      ]
    },
    {
      "cell_type": "markdown",
      "source": [
        " Cыграйте N=10000 игр, применяя стратегию, выведенную из обученной Q-функции, посчитайте и выведите на экран долю выигранных игр."
      ],
      "metadata": {
        "id": "90ve51U5AESo"
      },
      "id": "90ve51U5AESo"
    },
    {
      "cell_type": "code",
      "source": [
        "wins = 0\n",
        "loses = 0\n",
        "ties = 0\n",
        "N=10_000\n",
        "\n",
        "for _ in range(N):\n",
        "    state, _ = env.reset()\n",
        "    done = False\n",
        "\n",
        "    while not done:\n",
        "        action = np.argmax(agent.q_values[state])\n",
        "        state, reward, done, _, _ = env.step(action)\n",
        "\n",
        "    if reward > 0:\n",
        "        wins += 1\n",
        "    elif reward < 0:\n",
        "        loses += 1\n",
        "    elif reward == 0:\n",
        "        ties += 1\n",
        "\n",
        "# Выводим результаты\n",
        "win_rate = wins / 10000\n",
        "lose_rate = loses / 10000\n",
        "tie_rate = ties / 10000\n",
        "\n",
        "print(f\"Доля выигранных игр: {win_rate:.4f}\")\n",
        "print(f\"Доля проигранных игр: {lose_rate:.4f}\")\n",
        "print(f\"Доля игр в ничью: {tie_rate:.4f}\")"
      ],
      "metadata": {
        "colab": {
          "base_uri": "https://localhost:8080/"
        },
        "id": "5csgXf7V_xpQ",
        "outputId": "6349dd7b-e56c-44eb-a483-3c832069ef60"
      },
      "id": "5csgXf7V_xpQ",
      "execution_count": 11,
      "outputs": [
        {
          "output_type": "stream",
          "name": "stdout",
          "text": [
            "Доля выигранных игр: 0.3850\n",
            "Доля проигранных игр: 0.5649\n",
            "Доля игр в ничью: 0.0501\n"
          ]
        }
      ]
    },
    {
      "cell_type": "markdown",
      "id": "5c6e202e",
      "metadata": {
        "id": "5c6e202e"
      },
      "source": [
        "<p class=\"task\" id=\"2\"></p>\n",
        "\n",
        "2\\. Повторите решение предыдущей задачи, используя алгоритм $\\epsilon$-greedy Q-learning. Исследуйте, как гиперпараметры и способ инициализации значений Q-функции влияют на результат.\n",
        "\n",
        "Cтратегия для выбора действия:\n",
        "1. Сгенерировать число $p$ из $U(0, 1)$;\n",
        "2. Если $p < \\epsilon$, то выбрать действие случайным образом;\n",
        "3. В противном случае $a_{t+1}(s_t) = argmax_aQ(s_t, a)$.\n",
        "\n",
        "Правило обновления Q-функции:\n",
        "![q-learning](https://wikimedia.org/api/rest_v1/media/math/render/svg/d247db9eaad4bd343e7882ec546bf3847ebd36d8)\n",
        "\n",
        "- [ ] Проверено на семинаре"
      ]
    },
    {
      "cell_type": "code",
      "execution_count": 43,
      "metadata": {
        "id": "048aaf7a"
      },
      "outputs": [],
      "source": [
        "from dataclasses import dataclass\n",
        "\n",
        "@dataclass\n",
        "class Config1:\n",
        "    discount: float = 0.95\n",
        "    lr: float = 0.005\n",
        "    n_episodes: float = 100_000\n",
        "    epsilon: float = 0.01\n",
        "    final_epsilon: float = 0.1\n",
        "    print_every: int = 10_000\n",
        "\n",
        "    def method(self):\n",
        "      pass"
      ],
      "id": "048aaf7a"
    },
    {
      "cell_type": "code",
      "source": [
        "class Config2:\n",
        "  def __init__(self, discount=1, lr=0.005, n_episodes=100_000, epsilon=0.001, final_epsilon=0.01, print_every=5_000):\n",
        "    self.discount = discount\n",
        "    self.lr = lr\n",
        "    self.n_episodes = n_episodes\n",
        "    self.epsilon = epsilon\n",
        "    self.final_epsilon = final_epsilon\n",
        "    self.print_every = print_every"
      ],
      "metadata": {
        "id": "adpG9fvKU-q_"
      },
      "execution_count": 58,
      "outputs": [],
      "id": "adpG9fvKU-q_"
    },
    {
      "cell_type": "code",
      "source": [
        "class Config3:\n",
        "  def __init__(self, discount=0.3, lr=0.5, n_episodes=100_000, epsilon=0.5, final_epsilon=0.5, print_every=5_000):\n",
        "    self.discount = discount\n",
        "    self.lr = lr\n",
        "    self.n_episodes = n_episodes\n",
        "    self.epsilon = epsilon\n",
        "    self.final_epsilon = final_epsilon\n",
        "    self.print_every = print_every"
      ],
      "metadata": {
        "id": "Eg93KYcUeZWh"
      },
      "id": "Eg93KYcUeZWh",
      "execution_count": 45,
      "outputs": []
    },
    {
      "cell_type": "code",
      "source": [
        "class EpsilonGreedyAgent(Agent):\n",
        "    def __init__(self, env, config: Config, epsilon: float):\n",
        "        super().__init__(env, config)\n",
        "        self.epsilon = epsilon\n",
        "\n",
        "    def get_action(self, state: np.ndarray) -> int:\n",
        "        if np.random.random() < self.epsilon: # тут p\n",
        "            # Выбрать случайное действие с вероятностью epsilon\n",
        "            return np.random.choice(self.env.action_space.n)\n",
        "        else:\n",
        "            # Иначе выбрать действие с максимальным Q-значением\n",
        "            return np.argmax(self.q_values[state])"
      ],
      "metadata": {
        "id": "vd3ViHWnIcHX"
      },
      "id": "vd3ViHWnIcHX",
      "execution_count": 46,
      "outputs": []
    },
    {
      "cell_type": "code",
      "source": [
        "agent = EpsilonGreedyAgent(env, Config2(), epsilon=0.01)\n",
        "ep_rewards, stats = agent.train()\n",
        "# Print the final statistics\n",
        "print(f\"Final Win Count: {stats['win']}\")\n",
        "print(f\"Final Lose Count: {stats['lose']}\")\n",
        "print(f\"Final Tie Count: {stats['tie']}\")\n",
        "print(f\"Win%: {stats['win']/ len(ep_rewards) * 100}%\")"
      ],
      "metadata": {
        "colab": {
          "base_uri": "https://localhost:8080/"
        },
        "outputId": "87994621-4c9a-45e2-a0b2-1bac07345d12",
        "id": "GW4iVAM9LQLz"
      },
      "execution_count": 47,
      "outputs": [
        {
          "output_type": "stream",
          "name": "stderr",
          "text": [
            " 11%|█         | 11226/100000 [00:01<00:13, 6609.27it/s]"
          ]
        },
        {
          "output_type": "stream",
          "name": "stdout",
          "text": [
            "Эпизод 10000, Последние 10000 эпизодов: Выигрыши: 3791, Проигрыши: 5650, Ничьи: 559\n"
          ]
        },
        {
          "output_type": "stream",
          "name": "stderr",
          "text": [
            " 21%|██        | 20880/100000 [00:03<00:11, 6959.39it/s]"
          ]
        },
        {
          "output_type": "stream",
          "name": "stdout",
          "text": [
            "Эпизод 20000, Последние 10000 эпизодов: Выигрыши: 3724, Проигрыши: 5741, Ничьи: 535\n"
          ]
        },
        {
          "output_type": "stream",
          "name": "stderr",
          "text": [
            " 29%|██▉       | 29109/100000 [00:05<00:16, 4175.00it/s]<ipython-input-6-b026dcaaf20f>:36: RuntimeWarning: overflow encountered in double_scalars\n",
            "  self.q_values[state][action] += (1 - self.cfg.lr) * self.q_values[state][action] + self.cfg.lr * (reward + self.cfg.discount * future_reward)\n",
            " 30%|███       | 30393/100000 [00:05<00:16, 4142.03it/s]"
          ]
        },
        {
          "output_type": "stream",
          "name": "stdout",
          "text": [
            "Эпизод 30000, Последние 10000 эпизодов: Выигрыши: 3816, Проигрыши: 5664, Ничьи: 520\n"
          ]
        },
        {
          "output_type": "stream",
          "name": "stderr",
          "text": [
            " 41%|████      | 41011/100000 [00:07<00:10, 5370.39it/s]"
          ]
        },
        {
          "output_type": "stream",
          "name": "stdout",
          "text": [
            "Эпизод 40000, Последние 10000 эпизодов: Выигрыши: 3765, Проигрыши: 5745, Ничьи: 490\n"
          ]
        },
        {
          "output_type": "stream",
          "name": "stderr",
          "text": [
            " 51%|█████▏    | 51301/100000 [00:09<00:07, 6860.91it/s]"
          ]
        },
        {
          "output_type": "stream",
          "name": "stdout",
          "text": [
            "Эпизод 50000, Последние 10000 эпизодов: Выигрыши: 3633, Проигрыши: 5850, Ничьи: 517\n"
          ]
        },
        {
          "output_type": "stream",
          "name": "stderr",
          "text": [
            " 61%|██████    | 60853/100000 [00:10<00:05, 6590.36it/s]"
          ]
        },
        {
          "output_type": "stream",
          "name": "stdout",
          "text": [
            "Эпизод 60000, Последние 10000 эпизодов: Выигрыши: 3721, Проигрыши: 5760, Ничьи: 519\n"
          ]
        },
        {
          "output_type": "stream",
          "name": "stderr",
          "text": [
            " 71%|███████   | 71190/100000 [00:12<00:04, 6865.30it/s]"
          ]
        },
        {
          "output_type": "stream",
          "name": "stdout",
          "text": [
            "Эпизод 70000, Последние 10000 эпизодов: Выигрыши: 3738, Проигрыши: 5774, Ничьи: 488\n"
          ]
        },
        {
          "output_type": "stream",
          "name": "stderr",
          "text": [
            " 81%|████████  | 80825/100000 [00:13<00:02, 6668.66it/s]"
          ]
        },
        {
          "output_type": "stream",
          "name": "stdout",
          "text": [
            "Эпизод 80000, Последние 10000 эпизодов: Выигрыши: 3718, Проигрыши: 5782, Ничьи: 500\n"
          ]
        },
        {
          "output_type": "stream",
          "name": "stderr",
          "text": [
            " 91%|█████████▏| 91289/100000 [00:15<00:01, 6855.73it/s]"
          ]
        },
        {
          "output_type": "stream",
          "name": "stdout",
          "text": [
            "Эпизод 90000, Последние 10000 эпизодов: Выигрыши: 3705, Проигрыши: 5795, Ничьи: 500\n"
          ]
        },
        {
          "output_type": "stream",
          "name": "stderr",
          "text": [
            "100%|██████████| 100000/100000 [00:16<00:00, 5982.67it/s]"
          ]
        },
        {
          "output_type": "stream",
          "name": "stdout",
          "text": [
            "Final Win Count: 37335\n",
            "Final Lose Count: 57561\n",
            "Final Tie Count: 5104\n",
            "Win%: 37.335%\n"
          ]
        },
        {
          "output_type": "stream",
          "name": "stderr",
          "text": [
            "\n"
          ]
        }
      ],
      "id": "GW4iVAM9LQLz"
    },
    {
      "cell_type": "code",
      "source": [
        "agent = EpsilonGreedyAgent(env, Config3(), epsilon=0.5)\n",
        "ep_rewards, stats = agent.train()\n",
        "# Print the final statistics\n",
        "print(f\"Final Win Count: {stats['win']}\")\n",
        "print(f\"Final Lose Count: {stats['lose']}\")\n",
        "print(f\"Final Tie Count: {stats['tie']}\")\n",
        "print(f\"Win%: {stats['win']/ len(ep_rewards) * 100}%\")"
      ],
      "metadata": {
        "colab": {
          "base_uri": "https://localhost:8080/"
        },
        "outputId": "aeff8811-d788-49df-a276-1f7dcf8b5a1e",
        "id": "fBSaEhU6fexo"
      },
      "execution_count": 48,
      "outputs": [
        {
          "output_type": "stream",
          "name": "stderr",
          "text": [
            "  6%|▌         | 6098/100000 [00:01<00:15, 6084.39it/s]"
          ]
        },
        {
          "output_type": "stream",
          "name": "stdout",
          "text": [
            "Эпизод 5000, Последние 5000 эпизодов: Выигрыши: 1712, Проигрыши: 3035, Ничьи: 253\n"
          ]
        },
        {
          "output_type": "stream",
          "name": "stderr",
          "text": [
            " 11%|█         | 10605/100000 [00:02<00:23, 3724.95it/s]"
          ]
        },
        {
          "output_type": "stream",
          "name": "stdout",
          "text": [
            "Эпизод 10000, Последние 5000 эпизодов: Выигрыши: 1615, Проигрыши: 3124, Ничьи: 261\n"
          ]
        },
        {
          "output_type": "stream",
          "name": "stderr",
          "text": [
            " 15%|█▌        | 15282/100000 [00:03<00:23, 3676.37it/s]"
          ]
        },
        {
          "output_type": "stream",
          "name": "stdout",
          "text": [
            "Эпизод 15000, Последние 5000 эпизодов: Выигрыши: 1637, Проигрыши: 3102, Ничьи: 261\n"
          ]
        },
        {
          "output_type": "stream",
          "name": "stderr",
          "text": [
            " 21%|██        | 20673/100000 [00:04<00:20, 3954.63it/s]"
          ]
        },
        {
          "output_type": "stream",
          "name": "stdout",
          "text": [
            "Эпизод 20000, Последние 5000 эпизодов: Выигрыши: 1650, Проигрыши: 3098, Ничьи: 252\n"
          ]
        },
        {
          "output_type": "stream",
          "name": "stderr",
          "text": [
            " 26%|██▌       | 25836/100000 [00:05<00:12, 5865.72it/s]"
          ]
        },
        {
          "output_type": "stream",
          "name": "stdout",
          "text": [
            "Эпизод 25000, Последние 5000 эпизодов: Выигрыши: 1665, Проигрыши: 3114, Ничьи: 221\n"
          ]
        },
        {
          "output_type": "stream",
          "name": "stderr",
          "text": [
            " 31%|███       | 30944/100000 [00:06<00:10, 6308.99it/s]"
          ]
        },
        {
          "output_type": "stream",
          "name": "stdout",
          "text": [
            "Эпизод 30000, Последние 5000 эпизодов: Выигрыши: 1668, Проигрыши: 3084, Ничьи: 248\n"
          ]
        },
        {
          "output_type": "stream",
          "name": "stderr",
          "text": [
            " 36%|███▌      | 36024/100000 [00:07<00:10, 6168.53it/s]"
          ]
        },
        {
          "output_type": "stream",
          "name": "stdout",
          "text": [
            "Эпизод 35000, Последние 5000 эпизодов: Выигрыши: 1713, Проигрыши: 3058, Ничьи: 229\n"
          ]
        },
        {
          "output_type": "stream",
          "name": "stderr",
          "text": [
            " 41%|████      | 41162/100000 [00:08<00:09, 6469.22it/s]"
          ]
        },
        {
          "output_type": "stream",
          "name": "stdout",
          "text": [
            "Эпизод 40000, Последние 5000 эпизодов: Выигрыши: 1696, Проигрыши: 3058, Ничьи: 246\n"
          ]
        },
        {
          "output_type": "stream",
          "name": "stderr",
          "text": [
            " 46%|████▌     | 45679/100000 [00:09<00:08, 6198.75it/s]"
          ]
        },
        {
          "output_type": "stream",
          "name": "stdout",
          "text": [
            "Эпизод 45000, Последние 5000 эпизодов: Выигрыши: 1681, Проигрыши: 3078, Ничьи: 241\n"
          ]
        },
        {
          "output_type": "stream",
          "name": "stderr",
          "text": [
            " 51%|█████     | 50788/100000 [00:09<00:07, 6241.87it/s]"
          ]
        },
        {
          "output_type": "stream",
          "name": "stdout",
          "text": [
            "Эпизод 50000, Последние 5000 эпизодов: Выигрыши: 1675, Проигрыши: 3113, Ничьи: 212\n"
          ]
        },
        {
          "output_type": "stream",
          "name": "stderr",
          "text": [
            " 56%|█████▌    | 55967/100000 [00:10<00:07, 6248.34it/s]"
          ]
        },
        {
          "output_type": "stream",
          "name": "stdout",
          "text": [
            "Эпизод 55000, Последние 5000 эпизодов: Выигрыши: 1629, Проигрыши: 3121, Ничьи: 250\n"
          ]
        },
        {
          "output_type": "stream",
          "name": "stderr",
          "text": [
            " 59%|█████▊    | 58522/100000 [00:11<00:06, 6336.90it/s]<ipython-input-6-b026dcaaf20f>:36: RuntimeWarning: overflow encountered in double_scalars\n",
            "  self.q_values[state][action] += (1 - self.cfg.lr) * self.q_values[state][action] + self.cfg.lr * (reward + self.cfg.discount * future_reward)\n",
            " 61%|██████    | 61098/100000 [00:11<00:06, 6264.93it/s]"
          ]
        },
        {
          "output_type": "stream",
          "name": "stdout",
          "text": [
            "Эпизод 60000, Последние 5000 эпизодов: Выигрыши: 1701, Проигрыши: 3098, Ничьи: 201\n"
          ]
        },
        {
          "output_type": "stream",
          "name": "stderr",
          "text": [
            " 66%|██████▌   | 66164/100000 [00:12<00:05, 6130.98it/s]"
          ]
        },
        {
          "output_type": "stream",
          "name": "stdout",
          "text": [
            "Эпизод 65000, Последние 5000 эпизодов: Выигрыши: 1659, Проигрыши: 3091, Ничьи: 250\n"
          ]
        },
        {
          "output_type": "stream",
          "name": "stderr",
          "text": [
            " 71%|███████▏  | 71278/100000 [00:13<00:04, 6274.47it/s]"
          ]
        },
        {
          "output_type": "stream",
          "name": "stdout",
          "text": [
            "Эпизод 70000, Последние 5000 эпизодов: Выигрыши: 1622, Проигрыши: 3123, Ничьи: 255\n"
          ]
        },
        {
          "output_type": "stream",
          "name": "stderr",
          "text": [
            " 76%|███████▌  | 75656/100000 [00:13<00:03, 6154.54it/s]"
          ]
        },
        {
          "output_type": "stream",
          "name": "stdout",
          "text": [
            "Эпизод 75000, Последние 5000 эпизодов: Выигрыши: 1692, Проигрыши: 3061, Ничьи: 247\n"
          ]
        },
        {
          "output_type": "stream",
          "name": "stderr",
          "text": [
            " 81%|████████  | 80777/100000 [00:14<00:03, 6215.09it/s]"
          ]
        },
        {
          "output_type": "stream",
          "name": "stdout",
          "text": [
            "Эпизод 80000, Последние 5000 эпизодов: Выигрыши: 1704, Проигрыши: 3090, Ничьи: 206\n"
          ]
        },
        {
          "output_type": "stream",
          "name": "stderr",
          "text": [
            " 85%|████████▌ | 85284/100000 [00:15<00:02, 6080.73it/s]"
          ]
        },
        {
          "output_type": "stream",
          "name": "stdout",
          "text": [
            "Эпизод 85000, Последние 5000 эпизодов: Выигрыши: 1725, Проигрыши: 3031, Ничьи: 244\n"
          ]
        },
        {
          "output_type": "stream",
          "name": "stderr",
          "text": [
            " 90%|█████████ | 90495/100000 [00:16<00:02, 3643.63it/s]"
          ]
        },
        {
          "output_type": "stream",
          "name": "stdout",
          "text": [
            "Эпизод 90000, Последние 5000 эпизодов: Выигрыши: 1690, Проигрыши: 3062, Ничьи: 248\n"
          ]
        },
        {
          "output_type": "stream",
          "name": "stderr",
          "text": [
            " 96%|█████████▌| 95632/100000 [00:18<00:01, 3622.42it/s]"
          ]
        },
        {
          "output_type": "stream",
          "name": "stdout",
          "text": [
            "Эпизод 95000, Последние 5000 эпизодов: Выигрыши: 1629, Проигрыши: 3135, Ничьи: 236\n"
          ]
        },
        {
          "output_type": "stream",
          "name": "stderr",
          "text": [
            "100%|██████████| 100000/100000 [00:19<00:00, 5114.19it/s]"
          ]
        },
        {
          "output_type": "stream",
          "name": "stdout",
          "text": [
            "Final Win Count: 33468\n",
            "Final Lose Count: 61727\n",
            "Final Tie Count: 4805\n",
            "Win%: 33.467999999999996%\n"
          ]
        },
        {
          "output_type": "stream",
          "name": "stderr",
          "text": [
            "\n"
          ]
        }
      ],
      "id": "fBSaEhU6fexo"
    },
    {
      "cell_type": "markdown",
      "id": "41ba9ad9",
      "metadata": {
        "id": "41ba9ad9"
      },
      "source": [
        "<p class=\"task\" id=\"3\"></p>\n",
        "\n",
        "3\\. Повторите решение задачи 1, используя алгоритм double Q-learning.\n",
        "\n",
        "Cтратегия для выбора действия:\n",
        "1. Сгенерировать число $p$ из $U(0, 1)$;\n",
        "2. Если $p < \\epsilon$, то выбрать действие случайным образом;\n",
        "3. В противном случае $a_{t+1}(s_t) = argmax_a\\left((Q^A_t + Q^B_t)(s_t, a))\\right) $.\n",
        "\n",
        "Правило обновления Q-функции:\n",
        "$$\n",
        "Q^A_{t+1}(s_{t}, a_{t}) = Q^A_{t}(s_{t}, a_{t}) + \\alpha_{t}(s_{t}, a_{t}) \\left(r_{t} + \\gamma Q^B_{t}\\left(s_{t+1}, {arg~max}_{a} Q^A_t(s_{t+1}, a)\\right) - Q^A_{t}(s_{t}, a_{t})\\right)\n",
        "$$\n",
        "\n",
        "$$\n",
        "Q^B_{t+1}(s_{t}, a_{t}) = Q^B_{t}(s_{t}, a_{t}) + \\alpha_{t}(s_{t}, a_{t}) \\left(r_{t} + \\gamma Q^A_{t}\\left(s_{t+1}, {arg~max}_{a} Q^B_t(s_{t+1}, a)\\right) - Q^B_{t}(s_{t}, a_{t})\\right)\n",
        "$$\n",
        "\n",
        "\n",
        "- [ ] Проверено на семинаре"
      ]
    },
    {
      "cell_type": "code",
      "source": [
        "class DoubleAgent:\n",
        "    def __init__(self, env, config):\n",
        "        self.env = env\n",
        "        self.cfg = config\n",
        "        self.q_table_a = self._create_q_table()\n",
        "        self.q_table_b = self._create_q_table()\n",
        "        self.active_q_table = self.q_table_a\n",
        "\n",
        "    def _create_q_table(self):\n",
        "        player_sum_space = 32\n",
        "        dealer_card_space = 11\n",
        "        has_ace_space = 2\n",
        "        action_space = 2\n",
        "\n",
        "        # Creating the Q-table and initializing with zeros\n",
        "        return np.zeros((player_sum_space, dealer_card_space, has_ace_space, action_space))\n",
        "\n",
        "    def get_action(self, state: np.ndarray) -> int:\n",
        "        p = np.random.random()\n",
        "\n",
        "        if p < self.cfg.epsilon:\n",
        "            return np.random.choice(self.env.action_space.n)\n",
        "        else:\n",
        "            max_indices = np.where(self.active_q_table[state] == np.max(self.active_q_table[state]))[0]\n",
        "            return np.random.choice(max_indices)\n",
        "\n",
        "    def update_q_table(self, state: np.ndarray, new_state: np.ndarray, reward: float, action: int, done: bool) -> None:\n",
        "        self.q_table_a[state][action] = self.q_table_a[state][action] + self.cfg.lr * (\n",
        "            reward * done + self.cfg.discount * self.q_table_b[new_state][np.argmax(self.q_table_a[new_state][action])] - self.q_table_a[state][action]\n",
        "        )\n",
        "        self.q_table_b[state][action] = self.q_table_b[state][action] + self.cfg.lr * (\n",
        "            reward * done + self.cfg.discount * self.q_table_a[new_state][np.argmax(self.q_table_b[new_state][action])] - self.q_table_b[state][action]\n",
        "        )\n",
        "\n",
        "    def run_episode(self) -> float:\n",
        "        done = False\n",
        "        state, info = self.env.reset()\n",
        "        while not done:\n",
        "            action = self.get_action(state)\n",
        "            new_state, reward, terminated, truncated, info = self.env.step(action)\n",
        "            done = terminated or truncated\n",
        "            self.update_q_table(state, new_state, reward, action, done)\n",
        "            state = new_state\n",
        "\n",
        "            if done:\n",
        "                return reward\n",
        "\n",
        "    def train(self):\n",
        "        ep_rewards = []\n",
        "        stats = {'win': 0, 'lose': 0, 'tie': 0}\n",
        "\n",
        "        for ep in tqdm(range(self.cfg.n_episodes)):\n",
        "            reward = self.run_episode()\n",
        "            ep_rewards.append(reward)\n",
        "\n",
        "            if reward > 0:\n",
        "                stats['win'] += 1\n",
        "            elif reward < 0:\n",
        "                stats['lose'] += 1\n",
        "            else:\n",
        "                stats['tie'] += 1\n",
        "\n",
        "            if ep % self.cfg.print_every == 0 and ep >= self.cfg.print_every:\n",
        "                recent_stats = ep_rewards[ep - self.cfg.print_every: ep]\n",
        "\n",
        "                recent_wins = sum(1 for r in recent_stats if r > 0)\n",
        "                recent_losses = sum(1 for r in recent_stats if r < 0)\n",
        "                recent_ties = sum(1 for r in recent_stats if r == 0)\n",
        "\n",
        "                print(f\"Эпизод {ep}, Последние {self.cfg.print_every} эпизодов: \"\n",
        "                      f\"Выигрыши: {recent_wins}, Проигрыши: {recent_losses}, Ничьи: {recent_ties}\")\n",
        "\n",
        "        return ep_rewards, stats\n",
        "\n"
      ],
      "metadata": {
        "id": "IITW7EXzhOCY"
      },
      "id": "IITW7EXzhOCY",
      "execution_count": 59,
      "outputs": []
    },
    {
      "cell_type": "code",
      "source": [
        "agent = DoubleAgent(env, Config2())\n",
        "ep_rewards, stats = agent.train()\n",
        "# Print the final statistics\n",
        "print(f\"Final Win Count: {stats['win']}\")\n",
        "print(f\"Final Lose Count: {stats['lose']}\")\n",
        "print(f\"Final Tie Count: {stats['tie']}\")\n",
        "print(f\"Win%: {stats['win']/ len(ep_rewards) * 100}%\")"
      ],
      "metadata": {
        "colab": {
          "base_uri": "https://localhost:8080/"
        },
        "outputId": "5b4bfdd7-19ce-4ba1-e492-5c2fdd873f10",
        "id": "jwuCXWrAhs4-"
      },
      "execution_count": 60,
      "outputs": [
        {
          "output_type": "stream",
          "name": "stderr",
          "text": [
            "  6%|▌         | 5682/100000 [00:01<00:23, 3935.54it/s]"
          ]
        },
        {
          "output_type": "stream",
          "name": "stdout",
          "text": [
            "Эпизод 5000, Последние 5000 эпизодов: Выигрыши: 2054, Проигрыши: 2580, Ничьи: 366\n"
          ]
        },
        {
          "output_type": "stream",
          "name": "stderr",
          "text": [
            " 10%|█         | 10474/100000 [00:02<00:27, 3249.62it/s]"
          ]
        },
        {
          "output_type": "stream",
          "name": "stdout",
          "text": [
            "Эпизод 10000, Последние 5000 эпизодов: Выигрыши: 2064, Проигрыши: 2501, Ничьи: 435\n"
          ]
        },
        {
          "output_type": "stream",
          "name": "stderr",
          "text": [
            " 15%|█▌        | 15404/100000 [00:04<00:31, 2707.65it/s]"
          ]
        },
        {
          "output_type": "stream",
          "name": "stdout",
          "text": [
            "Эпизод 15000, Последние 5000 эпизодов: Выигрыши: 2044, Проигрыши: 2557, Ничьи: 399\n"
          ]
        },
        {
          "output_type": "stream",
          "name": "stderr",
          "text": [
            " 20%|██        | 20380/100000 [00:06<00:31, 2544.27it/s]"
          ]
        },
        {
          "output_type": "stream",
          "name": "stdout",
          "text": [
            "Эпизод 20000, Последние 5000 эпизодов: Выигрыши: 2076, Проигрыши: 2528, Ничьи: 396\n"
          ]
        },
        {
          "output_type": "stream",
          "name": "stderr",
          "text": [
            " 26%|██▌       | 25807/100000 [00:07<00:17, 4243.57it/s]"
          ]
        },
        {
          "output_type": "stream",
          "name": "stdout",
          "text": [
            "Эпизод 25000, Последние 5000 эпизодов: Выигрыши: 2071, Проигрыши: 2510, Ничьи: 419\n"
          ]
        },
        {
          "output_type": "stream",
          "name": "stderr",
          "text": [
            " 31%|███       | 30608/100000 [00:08<00:16, 4262.93it/s]"
          ]
        },
        {
          "output_type": "stream",
          "name": "stdout",
          "text": [
            "Эпизод 30000, Последние 5000 эпизодов: Выигрыши: 2039, Проигрыши: 2558, Ничьи: 403\n"
          ]
        },
        {
          "output_type": "stream",
          "name": "stderr",
          "text": [
            " 36%|███▌      | 35805/100000 [00:10<00:14, 4298.03it/s]"
          ]
        },
        {
          "output_type": "stream",
          "name": "stdout",
          "text": [
            "Эпизод 35000, Последние 5000 эпизодов: Выигрыши: 1972, Проигрыши: 2602, Ничьи: 426\n"
          ]
        },
        {
          "output_type": "stream",
          "name": "stderr",
          "text": [
            " 41%|████      | 40504/100000 [00:11<00:14, 4211.21it/s]"
          ]
        },
        {
          "output_type": "stream",
          "name": "stdout",
          "text": [
            "Эпизод 40000, Последние 5000 эпизодов: Выигрыши: 2018, Проигрыши: 2567, Ничьи: 415\n"
          ]
        },
        {
          "output_type": "stream",
          "name": "stderr",
          "text": [
            " 46%|████▌     | 45689/100000 [00:12<00:12, 4257.51it/s]"
          ]
        },
        {
          "output_type": "stream",
          "name": "stdout",
          "text": [
            "Эпизод 45000, Последние 5000 эпизодов: Выигрыши: 1992, Проигрыши: 2624, Ничьи: 384\n"
          ]
        },
        {
          "output_type": "stream",
          "name": "stderr",
          "text": [
            " 51%|█████     | 50759/100000 [00:13<00:11, 4116.80it/s]"
          ]
        },
        {
          "output_type": "stream",
          "name": "stdout",
          "text": [
            "Эпизод 50000, Последние 5000 эпизодов: Выигрыши: 1997, Проигрыши: 2600, Ничьи: 403\n"
          ]
        },
        {
          "output_type": "stream",
          "name": "stderr",
          "text": [
            " 56%|█████▌    | 55789/100000 [00:15<00:10, 4191.10it/s]"
          ]
        },
        {
          "output_type": "stream",
          "name": "stdout",
          "text": [
            "Эпизод 55000, Последние 5000 эпизодов: Выигрыши: 2008, Проигрыши: 2619, Ничьи: 373\n"
          ]
        },
        {
          "output_type": "stream",
          "name": "stderr",
          "text": [
            " 61%|██████    | 60807/100000 [00:16<00:09, 4113.61it/s]"
          ]
        },
        {
          "output_type": "stream",
          "name": "stdout",
          "text": [
            "Эпизод 60000, Последние 5000 эпизодов: Выигрыши: 2003, Проигрыши: 2589, Ничьи: 408\n"
          ]
        },
        {
          "output_type": "stream",
          "name": "stderr",
          "text": [
            " 65%|██████▌   | 65225/100000 [00:17<00:12, 2694.62it/s]"
          ]
        },
        {
          "output_type": "stream",
          "name": "stdout",
          "text": [
            "Эпизод 65000, Последние 5000 эпизодов: Выигрыши: 2012, Проигрыши: 2518, Ничьи: 470\n"
          ]
        },
        {
          "output_type": "stream",
          "name": "stderr",
          "text": [
            " 70%|███████   | 70457/100000 [00:19<00:11, 2478.21it/s]"
          ]
        },
        {
          "output_type": "stream",
          "name": "stdout",
          "text": [
            "Эпизод 70000, Последние 5000 эпизодов: Выигрыши: 1989, Проигрыши: 2584, Ничьи: 427\n"
          ]
        },
        {
          "output_type": "stream",
          "name": "stderr",
          "text": [
            " 76%|███████▌  | 75743/100000 [00:21<00:06, 3800.54it/s]"
          ]
        },
        {
          "output_type": "stream",
          "name": "stdout",
          "text": [
            "Эпизод 75000, Последние 5000 эпизодов: Выигрыши: 1917, Проигрыши: 2661, Ничьи: 422\n"
          ]
        },
        {
          "output_type": "stream",
          "name": "stderr",
          "text": [
            " 81%|████████  | 80808/100000 [00:22<00:04, 4187.32it/s]"
          ]
        },
        {
          "output_type": "stream",
          "name": "stdout",
          "text": [
            "Эпизод 80000, Последние 5000 эпизодов: Выигрыши: 1953, Проигрыши: 2644, Ничьи: 403\n"
          ]
        },
        {
          "output_type": "stream",
          "name": "stderr",
          "text": [
            " 85%|████████▌ | 85411/100000 [00:23<00:03, 3987.22it/s]"
          ]
        },
        {
          "output_type": "stream",
          "name": "stdout",
          "text": [
            "Эпизод 85000, Последние 5000 эпизодов: Выигрыши: 1956, Проигрыши: 2660, Ничьи: 384\n"
          ]
        },
        {
          "output_type": "stream",
          "name": "stderr",
          "text": [
            " 90%|█████████ | 90489/100000 [00:25<00:02, 4013.23it/s]"
          ]
        },
        {
          "output_type": "stream",
          "name": "stdout",
          "text": [
            "Эпизод 90000, Последние 5000 эпизодов: Выигрыши: 1967, Проигрыши: 2613, Ничьи: 420\n"
          ]
        },
        {
          "output_type": "stream",
          "name": "stderr",
          "text": [
            " 95%|█████████▌| 95469/100000 [00:26<00:01, 4023.18it/s]"
          ]
        },
        {
          "output_type": "stream",
          "name": "stdout",
          "text": [
            "Эпизод 95000, Последние 5000 эпизодов: Выигрыши: 1973, Проигрыши: 2587, Ничьи: 440\n"
          ]
        },
        {
          "output_type": "stream",
          "name": "stderr",
          "text": [
            "100%|██████████| 100000/100000 [00:27<00:00, 3638.07it/s]"
          ]
        },
        {
          "output_type": "stream",
          "name": "stdout",
          "text": [
            "Final Win Count: 40007\n",
            "Final Lose Count: 51779\n",
            "Final Tie Count: 8214\n",
            "Win%: 40.007%\n"
          ]
        },
        {
          "output_type": "stream",
          "name": "stderr",
          "text": [
            "\n"
          ]
        }
      ],
      "id": "jwuCXWrAhs4-"
    },
    {
      "cell_type": "markdown",
      "id": "6f2ea00a",
      "metadata": {
        "id": "6f2ea00a"
      },
      "source": [
        "<p class=\"task\" id=\"4\"></p>\n",
        "\n",
        "4\\. Обучите агента для управления машиной (окружение `MountainCar-v0`) при помощи любого из рассмотренных вариантов алгоритма Q-learning. Для перехода от непрерывного пространства состояний к конечному разбейте пространство состояний на окна (количество окон выберите сами). Для определения минимальных и максимальных значений координат воспользуйтесь [информацией об окружении](https://gymnasium.farama.org/environments/classic_control/mountain_car/#observation-space). Во время обучения несколько раз вычислите среднее значение наград за эпизод за несколько последних эпизодов и количество успешных сессий за последние эпизоды. После завершения обучения визуализируйте полученные данные.\n",
        "\n",
        "Сделайте несколько промежуточных видео с записью работы агента во время обучения.\n",
        "\n",
        "- [ ] Проверено на семинаре"
      ]
    },
    {
      "cell_type": "code",
      "source": [
        "import pickle"
      ],
      "metadata": {
        "id": "c5l-QnQ2uIB9"
      },
      "id": "c5l-QnQ2uIB9",
      "execution_count": 64,
      "outputs": []
    },
    {
      "cell_type": "code",
      "source": [
        "env = gym.make(\"MountainCar-v0\")\n",
        "observation = env.reset()\n",
        "print(observation)\n",
        "print(f\"Size of the action space : {env.action_space.n}\")\n",
        "print(f\"Range of observations : {env.observation_space.high} : {env.observation_space.low}\")"
      ],
      "metadata": {
        "colab": {
          "base_uri": "https://localhost:8080/"
        },
        "id": "e76mpAObss8F",
        "outputId": "f1788646-38a7-4946-ebc9-2e60c88749f4"
      },
      "id": "e76mpAObss8F",
      "execution_count": 65,
      "outputs": [
        {
          "output_type": "stream",
          "name": "stdout",
          "text": [
            "(array([-0.5951195,  0.       ], dtype=float32), {})\n",
            "Size of the action space : 3\n",
            "Range of observations : [0.6  0.07] : [-1.2  -0.07]\n"
          ]
        }
      ]
    },
    {
      "cell_type": "code",
      "source": [
        "class Config:\n",
        "    discount: float = 0.95\n",
        "    lr: float = 0.1\n",
        "    num_windows: int = 20\n",
        "    n_episodes: float = 1000\n",
        "    print_every = 100\n",
        "    record_every = 2500"
      ],
      "metadata": {
        "id": "rVLz9Y3_BOAw"
      },
      "id": "rVLz9Y3_BOAw",
      "execution_count": 135,
      "outputs": []
    },
    {
      "cell_type": "code",
      "source": [
        "class Agent:\n",
        "    def __init__(self, env: gym.Env, config: Config) -> None:\n",
        "        self.env = env\n",
        "        self.config = config\n",
        "        self.DISCRETE_GRID_SIZE = [self.config.num_windows, self.config.num_windows]\n",
        "        self.discretized_env = (env.observation_space.high - env.observation_space.low) / self.DISCRETE_GRID_SIZE\n",
        "        self.q_table = self._create_q_table()\n",
        "        self.reward_history = []\n",
        "        self.succes_history = []\n",
        "\n",
        "    def _create_q_table(self):\n",
        "        q_table = np.random.uniform(0, 2, size=(self.DISCRETE_GRID_SIZE + [self.env.action_space.n]))\n",
        "        return q_table\n",
        "\n",
        "    def discretize_state(self, state):\n",
        "        state_indices = ((state - self.env.observation_space.low) / self.discretized_env).astype(int)\n",
        "        return tuple(state_indices)\n",
        "\n",
        "    def choose_action(self, state: np.ndarray) -> int:\n",
        "        return np.argmax(self.q_table[state])\n",
        "\n",
        "    def update_q_table(self, state: np.ndarray, new_state: np.ndarray, reward: float, action: int, done: bool) -> None:\n",
        "        self.q_table[state + (action, )] = (1 - self.config.lr) * self.q_table[state + (action, )] + \\\n",
        "                                           self.config.lr * (reward * done + self.config.discount * np.max(self.q_table[new_state]))\n",
        "\n",
        "    def run_episode(self) -> float:\n",
        "        done = False\n",
        "        state, info = env.reset()\n",
        "        state = self.discretize_state(state)\n",
        "        eps_reward = 0\n",
        "        goal = 0\n",
        "\n",
        "        while not done:\n",
        "            action = self.choose_action(state)\n",
        "            new_state, reward, terminated, truncated, info = env.step(action)\n",
        "            eps_reward += reward\n",
        "            done = terminated or truncated\n",
        "            if not done:\n",
        "                new_state = self.discretize_state(new_state)\n",
        "                self.update_q_table(state, new_state, reward, action, done)\n",
        "            elif new_state[0] >= 0.5:\n",
        "                self.q_table[state + (action, )] = 0\n",
        "                goal += 1\n",
        "            state = new_state\n",
        "\n",
        "        return eps_reward, goal\n",
        "\n",
        "    def train(self):\n",
        "        for ep in tqdm(range(self.config.n_episodes)):\n",
        "            reward, goal = self.run_episode()\n",
        "            self.reward_history.append(reward)\n",
        "            self.succes_history.append(goal)\n",
        "\n",
        "            if (ep + 1) % self.config.print_every == 0:\n",
        "                avg_reward = np.mean(self.reward_history[-self.config.print_every:])\n",
        "                avg_succes = np.mean(self.succes_history[-self.config.print_every:])\n",
        "                print(f'Episode {ep+1}: Average Reward: {avg_reward}, Success Rate: {avg_succes}')\n"
      ],
      "metadata": {
        "id": "GA0Mos9O01vr"
      },
      "id": "GA0Mos9O01vr",
      "execution_count": 148,
      "outputs": []
    },
    {
      "cell_type": "code",
      "source": [
        "import gymnasium.wrappers as wrappers"
      ],
      "metadata": {
        "id": "JLgZKOL-DAeI"
      },
      "id": "JLgZKOL-DAeI",
      "execution_count": 149,
      "outputs": []
    },
    {
      "cell_type": "code",
      "source": [
        "env = gym.make('MountainCar-v0', render_mode='rgb_array')\n",
        "env = wrappers.RecordVideo(wrappers.RecordEpisodeStatistics(env), video_folder=\"/content/sample_data\", episode_trigger=lambda x: x % Config.record_every == 0)\n",
        "ag = Agent(env, Config)"
      ],
      "metadata": {
        "id": "66l3et5ZC1cp"
      },
      "id": "66l3et5ZC1cp",
      "execution_count": 150,
      "outputs": []
    },
    {
      "cell_type": "code",
      "source": [
        "ag.train()"
      ],
      "metadata": {
        "colab": {
          "base_uri": "https://localhost:8080/"
        },
        "id": "jsfT6T_iDDMP",
        "outputId": "1d077931-d256-4627-95a1-d9d3e8462f9d"
      },
      "id": "jsfT6T_iDDMP",
      "execution_count": 151,
      "outputs": [
        {
          "output_type": "stream",
          "name": "stderr",
          "text": [
            "  0%|          | 0/1000 [00:00<?, ?it/s]"
          ]
        },
        {
          "output_type": "stream",
          "name": "stdout",
          "text": [
            "Moviepy - Building video /content/sample_data/rl-video-episode-0.mp4.\n",
            "Moviepy - Writing video /content/sample_data/rl-video-episode-0.mp4\n",
            "\n"
          ]
        },
        {
          "output_type": "stream",
          "name": "stderr",
          "text": [
            "\n",
            "t:   0%|          | 0/201 [00:00<?, ?it/s, now=None]\u001b[A\n",
            "t:  19%|█▉        | 39/201 [00:00<00:00, 388.09it/s, now=None]\u001b[A\n",
            "t:  39%|███▉      | 78/201 [00:00<00:00, 255.59it/s, now=None]\u001b[A\n",
            "t:  53%|█████▎    | 107/201 [00:00<00:00, 249.06it/s, now=None]\u001b[A\n",
            "t:  67%|██████▋   | 134/201 [00:00<00:00, 233.62it/s, now=None]\u001b[A\n",
            "t:  79%|███████▉  | 159/201 [00:00<00:00, 229.45it/s, now=None]\u001b[A\n",
            "t:  91%|█████████ | 183/201 [00:00<00:00, 223.03it/s, now=None]\u001b[A\n",
            "  0%|          | 5/1000 [00:02<05:14,  3.17it/s]"
          ]
        },
        {
          "output_type": "stream",
          "name": "stdout",
          "text": [
            "Moviepy - Done !\n",
            "Moviepy - video ready /content/sample_data/rl-video-episode-0.mp4\n"
          ]
        },
        {
          "output_type": "stream",
          "name": "stderr",
          "text": [
            " 11%|█         | 106/1000 [00:05<00:27, 32.93it/s]"
          ]
        },
        {
          "output_type": "stream",
          "name": "stdout",
          "text": [
            "Episode 100: Average Reward: -200.0, Success Rate: 0.0\n"
          ]
        },
        {
          "output_type": "stream",
          "name": "stderr",
          "text": [
            " 21%|██        | 207/1000 [00:07<00:17, 44.29it/s]"
          ]
        },
        {
          "output_type": "stream",
          "name": "stdout",
          "text": [
            "Episode 200: Average Reward: -200.0, Success Rate: 0.0\n"
          ]
        },
        {
          "output_type": "stream",
          "name": "stderr",
          "text": [
            " 31%|███       | 306/1000 [00:10<00:15, 44.62it/s]"
          ]
        },
        {
          "output_type": "stream",
          "name": "stdout",
          "text": [
            "Episode 300: Average Reward: -200.0, Success Rate: 0.0\n"
          ]
        },
        {
          "output_type": "stream",
          "name": "stderr",
          "text": [
            " 41%|████      | 406/1000 [00:12<00:14, 40.33it/s]"
          ]
        },
        {
          "output_type": "stream",
          "name": "stdout",
          "text": [
            "Episode 400: Average Reward: -200.0, Success Rate: 0.0\n"
          ]
        },
        {
          "output_type": "stream",
          "name": "stderr",
          "text": [
            " 51%|█████     | 506/1000 [00:14<00:10, 45.29it/s]"
          ]
        },
        {
          "output_type": "stream",
          "name": "stdout",
          "text": [
            "Episode 500: Average Reward: -198.64, Success Rate: 0.06\n"
          ]
        },
        {
          "output_type": "stream",
          "name": "stderr",
          "text": [
            " 60%|██████    | 603/1000 [00:17<00:12, 32.35it/s]"
          ]
        },
        {
          "output_type": "stream",
          "name": "stdout",
          "text": [
            "Episode 600: Average Reward: -200.0, Success Rate: 0.0\n"
          ]
        },
        {
          "output_type": "stream",
          "name": "stderr",
          "text": [
            " 71%|███████   | 706/1000 [00:20<00:09, 31.58it/s]"
          ]
        },
        {
          "output_type": "stream",
          "name": "stdout",
          "text": [
            "Episode 700: Average Reward: -199.99, Success Rate: 0.01\n"
          ]
        },
        {
          "output_type": "stream",
          "name": "stderr",
          "text": [
            " 81%|████████  | 806/1000 [00:22<00:04, 43.23it/s]"
          ]
        },
        {
          "output_type": "stream",
          "name": "stdout",
          "text": [
            "Episode 800: Average Reward: -199.52, Success Rate: 0.07\n"
          ]
        },
        {
          "output_type": "stream",
          "name": "stderr",
          "text": [
            " 91%|█████████ | 909/1000 [00:25<00:01, 46.47it/s]"
          ]
        },
        {
          "output_type": "stream",
          "name": "stdout",
          "text": [
            "Episode 900: Average Reward: -199.57, Success Rate: 0.07\n"
          ]
        },
        {
          "output_type": "stream",
          "name": "stderr",
          "text": [
            "100%|██████████| 1000/1000 [00:27<00:00, 36.57it/s]"
          ]
        },
        {
          "output_type": "stream",
          "name": "stdout",
          "text": [
            "Episode 1000: Average Reward: -199.15, Success Rate: 0.07\n"
          ]
        },
        {
          "output_type": "stream",
          "name": "stderr",
          "text": [
            "\n"
          ]
        }
      ]
    },
    {
      "cell_type": "markdown",
      "id": "66caa919",
      "metadata": {
        "id": "66caa919"
      },
      "source": [
        "## Обратная связь\n",
        "- [ ] Хочу получить обратную связь по решению"
      ]
    }
  ],
  "metadata": {
    "kernelspec": {
      "display_name": "Python 3 (ipykernel)",
      "language": "python",
      "name": "python3"
    },
    "language_info": {
      "codemirror_mode": {
        "name": "ipython",
        "version": 3
      },
      "file_extension": ".py",
      "mimetype": "text/x-python",
      "name": "python",
      "nbconvert_exporter": "python",
      "pygments_lexer": "ipython3",
      "version": "3.9.13"
    },
    "colab": {
      "provenance": []
    }
  },
  "nbformat": 4,
  "nbformat_minor": 5
}