{
  "nbformat": 4,
  "nbformat_minor": 0,
  "metadata": {
    "colab": {
      "provenance": []
    },
    "kernelspec": {
      "name": "python3",
      "display_name": "Python 3"
    },
    "language_info": {
      "name": "python"
    }
  },
  "cells": [
    {
      "cell_type": "markdown",
      "source": [
        "Установите пакет https://github.com/markub3327/flappy-bird-gymnasium/tree/main с окружением FlappyBird-v0. Обучите агента для игры в Flappy Bird, используя любой алгоритм из семейства алгоритмов:\n",
        "\n",
        "Вариант 1. Q-learning.\n",
        "\n",
        "Вариант 2. Deep Q-learning.\n",
        "\n",
        "Используя обертку RecordEpisodeStatistics, соберите статистику об эпизодах. Визуализируйте полученные данные. Используя обертку RecordVideo, запишите видео с демонстрацией обученного агента."
      ],
      "metadata": {
        "id": "VkxGcUIX74WN"
      }
    },
    {
      "cell_type": "code",
      "source": [
        "import numpy as np"
      ],
      "metadata": {
        "id": "DnFoV_O_1SY8"
      },
      "execution_count": 13,
      "outputs": []
    },
    {
      "cell_type": "code",
      "execution_count": 1,
      "metadata": {
        "colab": {
          "base_uri": "https://localhost:8080/"
        },
        "id": "PED7dOUj7y5a",
        "outputId": "63b5cbcd-73b6-4ccd-d93b-f8032576372a"
      },
      "outputs": [
        {
          "output_type": "stream",
          "name": "stdout",
          "text": [
            "Collecting gymnasium\n",
            "  Downloading gymnasium-0.29.1-py3-none-any.whl (953 kB)\n",
            "\u001b[2K     \u001b[90m━━━━━━━━━━━━━━━━━━━━━━━━━━━━━━━━━━━━━━━━\u001b[0m \u001b[32m953.9/953.9 kB\u001b[0m \u001b[31m6.8 MB/s\u001b[0m eta \u001b[36m0:00:00\u001b[0m\n",
            "\u001b[?25hRequirement already satisfied: numpy>=1.21.0 in /usr/local/lib/python3.10/dist-packages (from gymnasium) (1.23.5)\n",
            "Requirement already satisfied: cloudpickle>=1.2.0 in /usr/local/lib/python3.10/dist-packages (from gymnasium) (2.2.1)\n",
            "Requirement already satisfied: typing-extensions>=4.3.0 in /usr/local/lib/python3.10/dist-packages (from gymnasium) (4.5.0)\n",
            "Collecting farama-notifications>=0.0.1 (from gymnasium)\n",
            "  Downloading Farama_Notifications-0.0.4-py3-none-any.whl (2.5 kB)\n",
            "Installing collected packages: farama-notifications, gymnasium\n",
            "Successfully installed farama-notifications-0.0.4 gymnasium-0.29.1\n"
          ]
        }
      ],
      "source": [
        "!pip install gymnasium"
      ]
    },
    {
      "cell_type": "code",
      "source": [
        "!pip install flappy-bird-gymnasium"
      ],
      "metadata": {
        "colab": {
          "base_uri": "https://localhost:8080/"
        },
        "id": "lqXXWeg-9ZQP",
        "outputId": "29134be6-671d-4414-e119-3d44a66fa9b2"
      },
      "execution_count": 2,
      "outputs": [
        {
          "output_type": "stream",
          "name": "stdout",
          "text": [
            "Collecting flappy-bird-gymnasium\n",
            "  Downloading flappy_bird_gymnasium-0.3.0-py3-none-any.whl (1.1 MB)\n",
            "\u001b[2K     \u001b[90m━━━━━━━━━━━━━━━━━━━━━━━━━━━━━━━━━━━━━━━━\u001b[0m \u001b[32m1.1/1.1 MB\u001b[0m \u001b[31m12.6 MB/s\u001b[0m eta \u001b[36m0:00:00\u001b[0m\n",
            "\u001b[?25hRequirement already satisfied: gymnasium in /usr/local/lib/python3.10/dist-packages (from flappy-bird-gymnasium) (0.29.1)\n",
            "Requirement already satisfied: numpy in /usr/local/lib/python3.10/dist-packages (from flappy-bird-gymnasium) (1.23.5)\n",
            "Requirement already satisfied: pygame in /usr/local/lib/python3.10/dist-packages (from flappy-bird-gymnasium) (2.5.2)\n",
            "Requirement already satisfied: cloudpickle>=1.2.0 in /usr/local/lib/python3.10/dist-packages (from gymnasium->flappy-bird-gymnasium) (2.2.1)\n",
            "Requirement already satisfied: typing-extensions>=4.3.0 in /usr/local/lib/python3.10/dist-packages (from gymnasium->flappy-bird-gymnasium) (4.5.0)\n",
            "Requirement already satisfied: farama-notifications>=0.0.1 in /usr/local/lib/python3.10/dist-packages (from gymnasium->flappy-bird-gymnasium) (0.0.4)\n",
            "Installing collected packages: flappy-bird-gymnasium\n",
            "Successfully installed flappy-bird-gymnasium-0.3.0\n"
          ]
        }
      ]
    },
    {
      "cell_type": "code",
      "source": [
        "import gymnasium as gym\n",
        "import flappy_bird_gymnasium\n",
        "\n",
        "env = gym.make(\"FlappyBird-v0\", render_mode=\"human\")\n",
        "observation, info = env.reset()\n",
        "rewards = 0\n",
        "obs, _ = env.reset()\n",
        "print(obs)\n",
        "done = False\n",
        "while not done:\n",
        "    action = env.action_space.sample()\n",
        "    obs, reward, terminated, truncated, info = env.step(action)\n",
        "    rewards += reward\n",
        "    done = terminated or truncated\n",
        "\n",
        "print(rewards)\n",
        "env.close()"
      ],
      "metadata": {
        "id": "62fGi36Z15ek",
        "colab": {
          "base_uri": "https://localhost:8080/"
        },
        "outputId": "672f7786-e15f-44d4-8039-c21447538419"
      },
      "execution_count": 90,
      "outputs": [
        {
          "output_type": "stream",
          "name": "stdout",
          "text": [
            "[ 1.         0.         1.         1.         0.         1.\n",
            "  1.         0.         1.         0.4765625 -0.9        0.5      ]\n",
            "8.99999999999998\n"
          ]
        }
      ]
    },
    {
      "cell_type": "code",
      "source": [],
      "metadata": {
        "id": "qgCHL6h3M7Lq"
      },
      "execution_count": 3,
      "outputs": []
    },
    {
      "cell_type": "code",
      "source": [],
      "metadata": {
        "id": "aZG00yaLOQ5L"
      },
      "execution_count": null,
      "outputs": []
    },
    {
      "cell_type": "code",
      "source": [],
      "metadata": {
        "id": "601rMKZTORAb"
      },
      "execution_count": null,
      "outputs": []
    },
    {
      "cell_type": "code",
      "source": [],
      "metadata": {
        "id": "_OPvoNeUORDD"
      },
      "execution_count": null,
      "outputs": []
    },
    {
      "cell_type": "code",
      "source": [],
      "metadata": {
        "id": "DeP4sn6bORHP"
      },
      "execution_count": null,
      "outputs": []
    },
    {
      "cell_type": "code",
      "source": [
        "env.observation_space.shape[0]"
      ],
      "metadata": {
        "colab": {
          "base_uri": "https://localhost:8080/"
        },
        "id": "BCPqU2IvDHSP",
        "outputId": "5d7e2530-4a24-4442-e70e-5cbaa3d5cac0"
      },
      "execution_count": 4,
      "outputs": [
        {
          "output_type": "execute_result",
          "data": {
            "text/plain": [
              "12"
            ]
          },
          "metadata": {},
          "execution_count": 4
        }
      ]
    },
    {
      "cell_type": "code",
      "source": [
        "env.action_space"
      ],
      "metadata": {
        "colab": {
          "base_uri": "https://localhost:8080/"
        },
        "id": "swnU-5NSDLvE",
        "outputId": "3a0056a8-fcba-4d30-a309-ba0ff5aadd44"
      },
      "execution_count": 5,
      "outputs": [
        {
          "output_type": "execute_result",
          "data": {
            "text/plain": [
              "Discrete(2)"
            ]
          },
          "metadata": {},
          "execution_count": 5
        }
      ]
    },
    {
      "cell_type": "code",
      "execution_count": 6,
      "metadata": {
        "id": "7524fda2"
      },
      "outputs": [],
      "source": [
        "from collections import namedtuple, deque\n",
        "import random\n",
        "\n",
        "Transition = namedtuple(\n",
        "    'Transition',\n",
        "    ('state', 'action', 'next_state', 'reward', 'done')\n",
        ")\n",
        "\n",
        "class ReplayMemory(object):\n",
        "    def __init__(self, capacity):\n",
        "        self.capacity = capacity\n",
        "        self.memory = deque([], maxlen = capacity)\n",
        "\n",
        "    def push(self, *args):\n",
        "        self.memory.append(Transition(*args))\n",
        "\n",
        "    def sample(self, batch_size):\n",
        "        return random.sample(self.memory, batch_size)\n",
        "\n",
        "    def __len__(self):\n",
        "        return len(self.memory)"
      ]
    },
    {
      "cell_type": "code",
      "source": [
        "import torch as th"
      ],
      "metadata": {
        "id": "K8yycEbZBM-g"
      },
      "execution_count": 7,
      "outputs": []
    },
    {
      "cell_type": "code",
      "execution_count": 8,
      "metadata": {
        "id": "c7ce7f49"
      },
      "outputs": [],
      "source": [
        "import torch.nn as nn\n",
        "\n",
        "class DQN(nn.Module):\n",
        "    def __init__(self, n_observations, n_actions):\n",
        "        super(DQN, self).__init__()\n",
        "        n_hidden= 12\n",
        "        self.fc1 = nn.Linear(n_observations, n_hidden)\n",
        "        self.relu = nn.ReLU()\n",
        "        self.fc2 = nn.Linear(n_hidden, n_actions)\n",
        "\n",
        "    def forward(self, x):\n",
        "        x = self.fc1(x)\n",
        "        x = self.relu(x)\n",
        "        x = self.fc2(x)\n",
        "        return x"
      ]
    },
    {
      "cell_type": "code",
      "execution_count": 9,
      "metadata": {
        "id": "1fd3c1cd"
      },
      "outputs": [],
      "source": [
        "from dataclasses import dataclass\n",
        "\n",
        "@dataclass\n",
        "class PolicyConfig:\n",
        "    def __init__(self, observation_dim, action_dim, device, epsilon=0.5, lr=0.01, ucb_coefficient=1.0):\n",
        "        self.observation_dim = observation_dim\n",
        "        self.action_dim = action_dim\n",
        "        self.device = device\n",
        "        self.epsilon = epsilon\n",
        "        self.lr = lr\n",
        "        self.ucb_coefficient = ucb_coefficient  # Add this line to include ucb_coefficient\n"
      ]
    },
    {
      "cell_type": "code",
      "execution_count": 10,
      "metadata": {
        "id": "5c0265f5"
      },
      "outputs": [],
      "source": [
        "class Policy:\n",
        "    def __init__(self, policy_cfg: PolicyConfig):\n",
        "        self.policy_cfg = policy_cfg\n",
        "        self.action_counts = np.zeros(policy_cfg.action_dim)\n",
        "        self.total_rewards = np.zeros(policy_cfg.action_dim)\n",
        "        self.total_steps = 0\n",
        "        self.policy_network = DQN(policy_cfg.observation_dim, policy_cfg.action_dim).to(policy_cfg.device)\n",
        "        self.target_network = DQN(policy_cfg.observation_dim, policy_cfg.action_dim).to(policy_cfg.device)\n",
        "        self.sync_models()\n",
        "\n",
        "    def sync_models(self):\n",
        "        self.target_network.load_state_dict(self.policy_network.state_dict())\n",
        "\n",
        "    def get_ucb1_action(self, state: th.Tensor) -> int:\n",
        "        # Используем UCB1 для выбора действия\n",
        "        exploration_factor = np.sqrt(np.log(self.total_steps + 1) / (self.action_counts + 1e-6))\n",
        "        action_values = self.total_rewards / (self.action_counts + 1e-6) + self.policy_cfg.ucb_coefficient * exploration_factor\n",
        "        chosen_action = np.argmax(action_values)\n",
        "\n",
        "        # Обновляем статистику\n",
        "        self.action_counts[chosen_action] += 1\n",
        "        self.total_steps += 1\n",
        "\n",
        "        return chosen_action\n",
        "\n",
        "    def get_best_action(self, state: th.Tensor) -> int:\n",
        "        p = th.rand(1).item()\n",
        "        if p < self.policy_cfg.epsilon:\n",
        "            return self.get_ucb1_action(state)\n",
        "        else:\n",
        "            action = self.policy_network(state)\n",
        "            return th.argmax(action).item()\n",
        "\n",
        "    def save(self):\n",
        "        th.save(self.policy_network.state_dict(), 'policy_network.pth')\n",
        "        th.save(self.target_network.state_dict(), 'target_network.pth')\n",
        "\n",
        "\n",
        "    def load(self):\n",
        "        self.policy_network.load_state_dict(th.load('policy_network.pth'))\n",
        "        self.target_network.load_state_dict(th.load('target_network.pth'))\n",
        "\n"
      ]
    },
    {
      "cell_type": "code",
      "source": [
        "import matplotlib.pyplot as plt\n",
        "import numpy as np\n",
        "\n",
        "def plot_metrics(rewards_per_episode):\n",
        "    plt.figure(figsize=(6, 3))\n",
        "    plt.plot(rewards_per_episode)\n",
        "    plt.title('Суммарные награды за каждый эпизод')\n",
        "    plt.xlabel('Epoch')\n",
        "    plt.ylabel('reward')\n",
        "    plt.grid()\n",
        "    plt.show()"
      ],
      "metadata": {
        "id": "MpR0gfFKBeFE"
      },
      "execution_count": 15,
      "outputs": []
    },
    {
      "cell_type": "code",
      "execution_count": 16,
      "metadata": {
        "id": "MdbjfyrcauaY"
      },
      "outputs": [],
      "source": [
        "import gymnasium as gym\n",
        "import torch.optim as optim\n",
        "import torch.nn as nn\n",
        "from tqdm import tqdm"
      ]
    },
    {
      "cell_type": "code",
      "execution_count": 17,
      "metadata": {
        "id": "5a7ef7f4"
      },
      "outputs": [],
      "source": [
        "@dataclass\n",
        "class TrainConfig:\n",
        "    discount: float = 0.95\n",
        "    learning_rate: float = 0.001\n",
        "    num_episodes: int = 10000\n",
        "    batch_size: int = 128\n",
        "    epsilon_decay: float = 0.995\n",
        "    epsilon: float = 1.0\n",
        "    final_epsilon: float = 0.3\n",
        "    print_every: float = 500"
      ]
    },
    {
      "cell_type": "code",
      "execution_count": 18,
      "metadata": {
        "id": "xsm1Idd7Jmgc"
      },
      "outputs": [],
      "source": [
        "class Trainer:\n",
        "    def __init__(self, env: gym.Env, train_config: TrainConfig, policy: Policy, plot_metrics):\n",
        "        self.memory = ReplayMemory(capacity=30000)\n",
        "        self.policy = policy\n",
        "        self.env = env\n",
        "        self.optimizer = optim.Adam(policy.policy_network.parameters(), lr=train_config.learning_rate)\n",
        "        self.train_config = train_config\n",
        "        self.criterion = nn.MSELoss().to(self.policy.policy_cfg.device)\n",
        "        self.rewards=[]\n",
        "        self.positions=[]\n",
        "        self.plot_metrics = plot_metrics\n",
        "\n",
        "    def train(self):\n",
        "        max_diff=0\n",
        "        reward=[]\n",
        "        for episode in tqdm(range(self.train_config.num_episodes)):\n",
        "            start_state, info = self.env.reset()\n",
        "            start_state=start_state.to(self.policy.policy_cfg.device)\n",
        "            r = self.run_episode(start_state)\n",
        "            reward.append(r)\n",
        "\n",
        "            self.train_config.epsilon = max( self.train_config.final_epsilon, self.train_config.epsilon*self.train_config.epsilon_decay)\n",
        "\n",
        "\n",
        "            if reward[-1] >= max(reward):\n",
        "                self.policy.save()\n",
        "            self.generate_batch_and_fit()\n",
        "            self.policy.sync_models()\n",
        "\n",
        "            if episode % self.train_config.print_every == 0:\n",
        "                self.rewards.append(th.mean(th.tensor(reward)))\n",
        "                print(f\"Episode: {episode}, reward = {self.rewards[-1]}\")\n",
        "        self.plot_metrics(self.rewards)\n",
        "\n",
        "    def run_episode(self, start_state: th.Tensor):\n",
        "\n",
        "        done=False\n",
        "        state = start_state\n",
        "        total_reward = 0\n",
        "        # max_posit=-10\n",
        "        # min_posit=10\n",
        "\n",
        "        while not done:\n",
        "            action = self.policy.get_best_action(state)\n",
        "            next_state, reward, terminated, truncated, info = self.env.step(action)\n",
        "            done = terminated or truncated\n",
        "            next_state = th.FloatTensor(next_state).to(self.policy.policy_cfg.device)\n",
        "\n",
        "            # Сохраняем переход в память\n",
        "            transition = Transition(state, action, next_state, reward, done)\n",
        "            self.memory.push(*transition)\n",
        "\n",
        "\n",
        "            state = next_state\n",
        "            total_reward += reward\n",
        "\n",
        "\n",
        "        return total_reward#, max_posit, min_posit\n",
        "\n",
        "    def generate_batch_and_fit(self):\n",
        "        if len(self.memory) < self.train_config.batch_size:\n",
        "            return\n",
        "\n",
        "        transitions = self.memory.sample(self.train_config.batch_size)\n",
        "        batch = Transition(*zip(*transitions))\n",
        "\n",
        "        states = th.cat(batch.state).to(self.policy.policy_cfg.device)\n",
        "        next_states = th.cat(batch.next_state).to(self.policy.policy_cfg.device)\n",
        "\n",
        "        targets = self.policy.policy_network(states).to(self.policy.policy_cfg.device)\n",
        "        next_state_targets = self.policy.target_network(next_states).to(self.policy.policy_cfg.device)\n",
        "\n",
        "        for i, t in enumerate(transitions):\n",
        "            if t.done:\n",
        "                targets[i][t.action] = t.reward\n",
        "            else:\n",
        "                targets[i][t.action] = t.reward + self.train_config.discount * th.max(next_state_targets[i])\n",
        "\n",
        "        self.fit_policy_network(states, targets)\n",
        "\n",
        "    def fit_policy_network(self, X, y):\n",
        "        self.optimizer.zero_grad()\n",
        "        predictions = self.policy.policy_network(X)\n",
        "        loss = self.criterion(predictions, y)\n",
        "        loss.backward()\n",
        "        self.optimizer.step()\n"
      ]
    },
    {
      "cell_type": "code",
      "source": [],
      "metadata": {
        "id": "kCtxyS8CBpcs"
      },
      "execution_count": 18,
      "outputs": []
    },
    {
      "cell_type": "code",
      "execution_count": 19,
      "metadata": {
        "id": "pfdHuKPp7OGT"
      },
      "outputs": [],
      "source": [
        "class TransformObservation(gym.ObservationWrapper):\n",
        "    def __init__(self, env):\n",
        "        super(TransformObservation, self).__init__(env)\n",
        "        self.observation_space = gym.spaces.Box(low=-1, high=1, shape=(2,), dtype=np.float32)\n",
        "\n",
        "    def observation(self, observation):\n",
        "        return th.tensor(observation, dtype=th.float32).view(1, -1)"
      ]
    },
    {
      "cell_type": "code",
      "execution_count": 251,
      "metadata": {
        "colab": {
          "base_uri": "https://localhost:8080/",
          "height": 524
        },
        "id": "cnmt8W2TNIWy",
        "outputId": "ab09f5ed-8234-4c76-b051-89442329f066"
      },
      "outputs": [
        {
          "output_type": "stream",
          "name": "stderr",
          "text": [
            "  0%|          | 15/10000 [00:00<02:16, 73.29it/s]"
          ]
        },
        {
          "output_type": "stream",
          "name": "stdout",
          "text": [
            "Episode: 0, reward = 2.0999999046325684\n"
          ]
        },
        {
          "output_type": "stream",
          "name": "stderr",
          "text": [
            " 10%|█         | 1008/10000 [00:19<03:49, 39.14it/s]"
          ]
        },
        {
          "output_type": "stream",
          "name": "stdout",
          "text": [
            "Episode: 1000, reward = 4.690310001373291\n"
          ]
        },
        {
          "output_type": "stream",
          "name": "stderr",
          "text": [
            " 20%|██        | 2008/10000 [00:46<03:22, 39.56it/s]"
          ]
        },
        {
          "output_type": "stream",
          "name": "stdout",
          "text": [
            "Episode: 2000, reward = 6.887805461883545\n"
          ]
        },
        {
          "output_type": "stream",
          "name": "stderr",
          "text": [
            " 30%|███       | 3006/10000 [01:15<03:03, 38.02it/s]"
          ]
        },
        {
          "output_type": "stream",
          "name": "stdout",
          "text": [
            "Episode: 3000, reward = 7.594467639923096\n"
          ]
        },
        {
          "output_type": "stream",
          "name": "stderr",
          "text": [
            " 40%|████      | 4005/10000 [01:43<02:43, 36.62it/s]"
          ]
        },
        {
          "output_type": "stream",
          "name": "stdout",
          "text": [
            "Episode: 4000, reward = 7.948338031768799\n"
          ]
        },
        {
          "output_type": "stream",
          "name": "stderr",
          "text": [
            " 50%|█████     | 5004/10000 [02:11<02:52, 28.99it/s]"
          ]
        },
        {
          "output_type": "stream",
          "name": "stdout",
          "text": [
            "Episode: 5000, reward = 8.161008834838867\n"
          ]
        },
        {
          "output_type": "stream",
          "name": "stderr",
          "text": [
            " 60%|██████    | 6005/10000 [02:39<01:50, 36.17it/s]"
          ]
        },
        {
          "output_type": "stream",
          "name": "stdout",
          "text": [
            "Episode: 6000, reward = 8.264105796813965\n"
          ]
        },
        {
          "output_type": "stream",
          "name": "stderr",
          "text": [
            " 70%|███████   | 7007/10000 [03:06<01:22, 36.11it/s]"
          ]
        },
        {
          "output_type": "stream",
          "name": "stdout",
          "text": [
            "Episode: 7000, reward = 8.369989395141602\n"
          ]
        },
        {
          "output_type": "stream",
          "name": "stderr",
          "text": [
            " 80%|████████  | 8008/10000 [03:34<00:53, 37.49it/s]"
          ]
        },
        {
          "output_type": "stream",
          "name": "stdout",
          "text": [
            "Episode: 8000, reward = 8.449118614196777\n"
          ]
        },
        {
          "output_type": "stream",
          "name": "stderr",
          "text": [
            " 90%|█████████ | 9005/10000 [04:02<00:27, 35.77it/s]"
          ]
        },
        {
          "output_type": "stream",
          "name": "stdout",
          "text": [
            "Episode: 9000, reward = 8.510320663452148\n"
          ]
        },
        {
          "output_type": "stream",
          "name": "stderr",
          "text": [
            "100%|██████████| 10000/10000 [04:30<00:00, 36.93it/s]\n"
          ]
        },
        {
          "output_type": "display_data",
          "data": {
            "text/plain": [
              "<Figure size 600x300 with 1 Axes>"
            ],
            "image/png": "[encoded data removed]"
          },
          "metadata": {}
        }
      ],
      "source": [
        "env = TransformObservation(gym.make(\"FlappyBird-v0\"))\n",
        "policy_config = PolicyConfig(observation_dim=12, action_dim=2, device='cuda' if th.cuda.is_available() else 'cpu', epsilon=0.001, lr=0.01, ucb_coefficient=0.99)\n",
        "policy = Policy(policy_config)\n",
        "\n",
        "trainer = Trainer(env, TrainConfig(batch_size=16, num_episodes=10000, print_every=1000), policy, plot_metrics)\n",
        "\n",
        "trainer.train()"
      ]
    },
    {
      "cell_type": "code",
      "execution_count": 252,
      "metadata": {
        "id": "Xv42nGd3SX8O"
      },
      "outputs": [],
      "source": [
        "import gymnasium.wrappers as wrappers"
      ]
    },
    {
      "cell_type": "code",
      "execution_count": 280,
      "metadata": {
        "colab": {
          "base_uri": "https://localhost:8080/"
        },
        "id": "24hM37hJSkpe",
        "outputId": "7cbad3a2-39c2-4bd6-992d-e539574d4131"
      },
      "outputs": [
        {
          "output_type": "stream",
          "name": "stderr",
          "text": [
            "<ipython-input-280-26f3023b064d>:7: UserWarning: To copy construct from a tensor, it is recommended to use sourceTensor.clone().detach() or sourceTensor.clone().detach().requires_grad_(True), rather than torch.tensor(sourceTensor).\n",
            "  state = th.tensor(state, dtype=th.float32).view(1, -1)\n",
            "<ipython-input-280-26f3023b064d>:12: UserWarning: To copy construct from a tensor, it is recommended to use sourceTensor.clone().detach() or sourceTensor.clone().detach().requires_grad_(True), rather than torch.tensor(sourceTensor).\n",
            "  next_state = th.tensor(next_state, dtype=th.float32).view(1, -1)\n"
          ]
        },
        {
          "output_type": "stream",
          "name": "stdout",
          "text": [
            "Moviepy - Building video /content/sample_data/rl-video-episode-0.mp4.\n",
            "Moviepy - Writing video /content/sample_data/rl-video-episode-0.mp4\n",
            "\n"
          ]
        },
        {
          "output_type": "stream",
          "name": "stderr",
          "text": []
        },
        {
          "output_type": "stream",
          "name": "stdout",
          "text": [
            "Moviepy - Done !\n",
            "Moviepy - video ready /content/sample_data/rl-video-episode-0.mp4\n"
          ]
        },
        {
          "output_type": "execute_result",
          "data": {
            "text/plain": [
              "9.499999999999979"
            ]
          },
          "metadata": {},
          "execution_count": 280
        }
      ],
      "source": [
        "policy.load()\n",
        "\n",
        "env = TransformObservation(gym.make(\"FlappyBird-v0\", render_mode=\"rgb_array\"))\n",
        "env = wrappers.RecordVideo(env, video_folder=\"/content/sample_data\", episode_trigger=lambda x: (x+1) % 1 == 0)\n",
        "total_reward=0\n",
        "state, _ = env.reset()\n",
        "state = th.tensor(state, dtype=th.float32).view(1, -1)\n",
        "done = False\n",
        "while not done:\n",
        "    action = policy.get_best_action(state)\n",
        "    next_state, reward, terminated, truncated, _ = env.step(action)\n",
        "    next_state = th.tensor(next_state, dtype=th.float32).view(1, -1)\n",
        "    done = terminated or truncated\n",
        "    total_reward += reward\n",
        "    state = next_state\n",
        "\n",
        "env.close()\n",
        "total_reward"
      ]
    },
    {
      "cell_type": "code",
      "source": [
        "policy.load()\n",
        "\n",
        "env = TransformObservation(gym.make(\"FlappyBird-v0\", render_mode=\"rgb_array\"))\n",
        "env = wrappers.RecordVideo(env, video_folder=\"/content/sample_data\", episode_trigger=lambda x: (x+1) % 1 == 0)\n",
        "total_reward = 0\n",
        "state, _ = env.reset()\n",
        "state = th.tensor(state, dtype=th.float32).view(1, -1)\n",
        "done = False\n",
        "successful_attempt = False\n",
        "\n",
        "while not done:\n",
        "    action = policy.get_best_action(state)\n",
        "    next_state, reward, terminated, truncated, _ = env.step(action)\n",
        "    next_state = th.tensor(next_state, dtype=th.float32).view(1, -1)\n",
        "    done = terminated or truncated\n",
        "    total_reward += reward\n",
        "    state = next_state\n",
        "\n",
        "    # Проверка успешной попытки\n",
        "    if done and total_reward > YOUR_SUCCESS_THRESHOLD:\n",
        "        successful_attempt = True\n",
        "\n",
        "env.close()\n",
        "\n",
        "# Запись видео, если попытка была успешной\n",
        "if successful_attempt:\n",
        "    video_path = \"/content/sample_data/successful_attempt.mp4\"\n",
        "    wrappers.convert_episode_to_video(\"/content/sample_data\", video_path)\n",
        "    print(f\"Видео успешно записано по пути: {video_path}\")\n",
        "\n",
        "total_reward"
      ],
      "metadata": {
        "colab": {
          "base_uri": "https://localhost:8080/",
          "height": 420
        },
        "id": "XFd-UPMv4gSR",
        "outputId": "c5e6cada-b11f-40b9-b706-87d0be2f08d5"
      },
      "execution_count": 278,
      "outputs": [
        {
          "output_type": "stream",
          "name": "stderr",
          "text": [
            "<ipython-input-278-3d4eed281f2b>:7: UserWarning: To copy construct from a tensor, it is recommended to use sourceTensor.clone().detach() or sourceTensor.clone().detach().requires_grad_(True), rather than torch.tensor(sourceTensor).\n",
            "  state = th.tensor(state, dtype=th.float32).view(1, -1)\n",
            "<ipython-input-278-3d4eed281f2b>:14: UserWarning: To copy construct from a tensor, it is recommended to use sourceTensor.clone().detach() or sourceTensor.clone().detach().requires_grad_(True), rather than torch.tensor(sourceTensor).\n",
            "  next_state = th.tensor(next_state, dtype=th.float32).view(1, -1)\n"
          ]
        },
        {
          "output_type": "stream",
          "name": "stdout",
          "text": [
            "Moviepy - Building video /content/sample_data/rl-video-episode-0.mp4.\n",
            "Moviepy - Writing video /content/sample_data/rl-video-episode-0.mp4\n",
            "\n"
          ]
        },
        {
          "output_type": "stream",
          "name": "stderr",
          "text": []
        },
        {
          "output_type": "stream",
          "name": "stdout",
          "text": [
            "Moviepy - Done !\n",
            "Moviepy - video ready /content/sample_data/rl-video-episode-0.mp4\n"
          ]
        },
        {
          "output_type": "error",
          "ename": "NameError",
          "evalue": "ignored",
          "traceback": [
            "\u001b[0;31m---------------------------------------------------------------------------\u001b[0m",
            "\u001b[0;31mNameError\u001b[0m                                 Traceback (most recent call last)",
            "\u001b[0;32m<ipython-input-278-3d4eed281f2b>\u001b[0m in \u001b[0;36m<cell line: 11>\u001b[0;34m()\u001b[0m\n\u001b[1;32m     18\u001b[0m \u001b[0;34m\u001b[0m\u001b[0m\n\u001b[1;32m     19\u001b[0m     \u001b[0;31m# Проверка успешной попытки\u001b[0m\u001b[0;34m\u001b[0m\u001b[0;34m\u001b[0m\u001b[0m\n\u001b[0;32m---> 20\u001b[0;31m     \u001b[0;32mif\u001b[0m \u001b[0mdone\u001b[0m \u001b[0;32mand\u001b[0m \u001b[0mtotal_reward\u001b[0m \u001b[0;34m>\u001b[0m \u001b[0mYOUR_SUCCESS_THRESHOLD\u001b[0m\u001b[0;34m:\u001b[0m\u001b[0;34m\u001b[0m\u001b[0;34m\u001b[0m\u001b[0m\n\u001b[0m\u001b[1;32m     21\u001b[0m         \u001b[0msuccessful_attempt\u001b[0m \u001b[0;34m=\u001b[0m \u001b[0;32mTrue\u001b[0m\u001b[0;34m\u001b[0m\u001b[0;34m\u001b[0m\u001b[0m\n\u001b[1;32m     22\u001b[0m \u001b[0;34m\u001b[0m\u001b[0m\n",
            "\u001b[0;31mNameError\u001b[0m: name 'YOUR_SUCCESS_THRESHOLD' is not defined"
          ]
        }
      ]
    },
    {
      "cell_type": "code",
      "source": [],
      "metadata": {
        "id": "S8bpj5xgOOGz"
      },
      "execution_count": null,
      "outputs": []
    },
    {
      "cell_type": "code",
      "source": [],
      "metadata": {
        "id": "C_4LATYeOOJU"
      },
      "execution_count": null,
      "outputs": []
    },
    {
      "cell_type": "code",
      "source": [],
      "metadata": {
        "id": "xpLViaVLOOL7"
      },
      "execution_count": null,
      "outputs": []
    },
    {
      "cell_type": "code",
      "source": [],
      "metadata": {
        "id": "FIbPYqnzAhW6"
      },
      "execution_count": null,
      "outputs": []
    }
  ]
}