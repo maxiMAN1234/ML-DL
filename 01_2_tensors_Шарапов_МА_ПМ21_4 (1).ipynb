{
  "cells": [
    {
      "cell_type": "markdown",
      "id": "ab47ec31",
      "metadata": {
        "id": "ab47ec31"
      },
      "source": [
        "# Знакомство с `torch.Tensor`\n",
        "\n",
        "__Автор задач: Блохин Н.В. (NVBlokhin@fa.ru)__\n",
        "\n",
        "Материалы:\n",
        "* Deep Learning with PyTorch (2020) Авторы: Eli Stevens, Luca Antiga, Thomas Viehmann\n",
        "* https://pytorch.org/docs/stable/torch.html\n"
      ]
    },
    {
      "cell_type": "markdown",
      "id": "b2e5acce",
      "metadata": {
        "id": "b2e5acce"
      },
      "source": [
        "## Задачи для совместного разбора"
      ]
    },
    {
      "cell_type": "code",
      "source": [
        "import torch as th"
      ],
      "metadata": {
        "id": "Q2p_64w3k2lh"
      },
      "id": "Q2p_64w3k2lh",
      "execution_count": 1,
      "outputs": []
    },
    {
      "cell_type": "markdown",
      "id": "cb56f308",
      "metadata": {
        "id": "cb56f308"
      },
      "source": [
        "1\\. Создайте тензор и исследуйте его основные характеристики"
      ]
    },
    {
      "cell_type": "code",
      "source": [
        "4, type(4)"
      ],
      "metadata": {
        "colab": {
          "base_uri": "https://localhost:8080/"
        },
        "id": "3-Qmz3sFlBOJ",
        "outputId": "b6a3ae4b-4e46-48c1-f90b-5e8999cf1612"
      },
      "id": "3-Qmz3sFlBOJ",
      "execution_count": 2,
      "outputs": [
        {
          "output_type": "execute_result",
          "data": {
            "text/plain": [
              "(4, int)"
            ]
          },
          "metadata": {},
          "execution_count": 2
        }
      ]
    },
    {
      "cell_type": "code",
      "source": [
        "a = th.randint(0, 10, size=(10, 5), dtype=th.float32)\n",
        "a = th.randint(0, 10, size=(10, 5)).float()\n",
        "a = th.randint(0, 10, size=(10, 5)).to(dtype=th.float32)\n",
        "a.dtype"
      ],
      "metadata": {
        "colab": {
          "base_uri": "https://localhost:8080/"
        },
        "id": "CWjuk7wWle8w",
        "outputId": "584a0e40-1f0b-4c9f-b637-782c288b927a"
      },
      "id": "CWjuk7wWle8w",
      "execution_count": 9,
      "outputs": [
        {
          "output_type": "execute_result",
          "data": {
            "text/plain": [
              "torch.float32"
            ]
          },
          "metadata": {},
          "execution_count": 9
        }
      ]
    },
    {
      "cell_type": "code",
      "source": [
        "# a.pow(2)\n",
        "#a.zero_()"
      ],
      "metadata": {
        "id": "Py8gqVxUmNnx"
      },
      "id": "Py8gqVxUmNnx",
      "execution_count": 10,
      "outputs": []
    },
    {
      "cell_type": "code",
      "source": [
        "import numpy as np\n",
        "\n",
        "np.sum(a)"
      ],
      "metadata": {
        "id": "Zb11DOFfmkQB"
      },
      "id": "Zb11DOFfmkQB",
      "execution_count": null,
      "outputs": []
    },
    {
      "cell_type": "markdown",
      "id": "c1d14d26",
      "metadata": {
        "id": "c1d14d26"
      },
      "source": [
        "2\\. Создайте трехмерный тензор и рассмотрите основные способы индексирования по нему"
      ]
    },
    {
      "cell_type": "code",
      "source": [
        "t = th.randint(0, 100, size=(5, 3, 3))\n",
        "t"
      ],
      "metadata": {
        "id": "Daa5TWd9nBxA",
        "colab": {
          "base_uri": "https://localhost:8080/"
        },
        "outputId": "b425fefc-e919-44bd-e963-dfc2a2bfcd92"
      },
      "id": "Daa5TWd9nBxA",
      "execution_count": 12,
      "outputs": [
        {
          "output_type": "execute_result",
          "data": {
            "text/plain": [
              "tensor([[[98, 19, 94],\n",
              "         [ 0,  1, 79],\n",
              "         [50, 41,  1]],\n",
              "\n",
              "        [[59, 75, 72],\n",
              "         [63, 30, 51],\n",
              "         [21, 98,  2]],\n",
              "\n",
              "        [[92, 30, 23],\n",
              "         [14, 85, 62],\n",
              "         [77, 95,  2]],\n",
              "\n",
              "        [[32, 11, 39],\n",
              "         [80, 48, 66],\n",
              "         [97, 13, 39]],\n",
              "\n",
              "        [[15, 65, 68],\n",
              "         [25,  0, 47],\n",
              "         [69, 99,  8]]])"
            ]
          },
          "metadata": {},
          "execution_count": 12
        }
      ]
    },
    {
      "cell_type": "code",
      "source": [
        "t"
      ],
      "metadata": {
        "id": "kGT0G6brnhqg",
        "colab": {
          "base_uri": "https://localhost:8080/"
        },
        "outputId": "e0cb9f36-8839-487e-f824-78f40be7808f"
      },
      "id": "kGT0G6brnhqg",
      "execution_count": 13,
      "outputs": [
        {
          "output_type": "execute_result",
          "data": {
            "text/plain": [
              "tensor([[[98, 19, 94],\n",
              "         [ 0,  1, 79],\n",
              "         [50, 41,  1]],\n",
              "\n",
              "        [[59, 75, 72],\n",
              "         [63, 30, 51],\n",
              "         [21, 98,  2]],\n",
              "\n",
              "        [[92, 30, 23],\n",
              "         [14, 85, 62],\n",
              "         [77, 95,  2]],\n",
              "\n",
              "        [[32, 11, 39],\n",
              "         [80, 48, 66],\n",
              "         [97, 13, 39]],\n",
              "\n",
              "        [[15, 65, 68],\n",
              "         [25,  0, 47],\n",
              "         [69, 99,  8]]])"
            ]
          },
          "metadata": {},
          "execution_count": 13
        }
      ]
    },
    {
      "cell_type": "code",
      "source": [
        "t[0] # t[0, :, :]\n",
        "t[:, 0]"
      ],
      "metadata": {
        "id": "X72Ez20qnSpE",
        "colab": {
          "base_uri": "https://localhost:8080/"
        },
        "outputId": "5da1338d-382d-4461-f919-47db7c9e9ce4"
      },
      "id": "X72Ez20qnSpE",
      "execution_count": 14,
      "outputs": [
        {
          "output_type": "execute_result",
          "data": {
            "text/plain": [
              "tensor([[98, 19, 94],\n",
              "        [59, 75, 72],\n",
              "        [92, 30, 23],\n",
              "        [32, 11, 39],\n",
              "        [15, 65, 68]])"
            ]
          },
          "metadata": {},
          "execution_count": 14
        }
      ]
    },
    {
      "cell_type": "code",
      "source": [
        "t[:, :, [0, 2, 0, 2]]"
      ],
      "metadata": {
        "id": "_qg7f9LBnr6p",
        "colab": {
          "base_uri": "https://localhost:8080/"
        },
        "outputId": "b050af92-0263-4c5a-f65b-eb8e89c649e2"
      },
      "id": "_qg7f9LBnr6p",
      "execution_count": 15,
      "outputs": [
        {
          "output_type": "execute_result",
          "data": {
            "text/plain": [
              "tensor([[[98, 94, 98, 94],\n",
              "         [ 0, 79,  0, 79],\n",
              "         [50,  1, 50,  1]],\n",
              "\n",
              "        [[59, 72, 59, 72],\n",
              "         [63, 51, 63, 51],\n",
              "         [21,  2, 21,  2]],\n",
              "\n",
              "        [[92, 23, 92, 23],\n",
              "         [14, 62, 14, 62],\n",
              "         [77,  2, 77,  2]],\n",
              "\n",
              "        [[32, 39, 32, 39],\n",
              "         [80, 66, 80, 66],\n",
              "         [97, 39, 97, 39]],\n",
              "\n",
              "        [[15, 68, 15, 68],\n",
              "         [25, 47, 25, 47],\n",
              "         [69,  8, 69,  8]]])"
            ]
          },
          "metadata": {},
          "execution_count": 15
        }
      ]
    },
    {
      "cell_type": "code",
      "source": [
        "t[:, :, [False, True, False]] # t[:, :, [1]]"
      ],
      "metadata": {
        "id": "ScU5gZG8oQNJ",
        "colab": {
          "base_uri": "https://localhost:8080/"
        },
        "outputId": "5caa1825-09b1-423a-b4c9-4c4ba27b6da0"
      },
      "id": "ScU5gZG8oQNJ",
      "execution_count": 16,
      "outputs": [
        {
          "output_type": "execute_result",
          "data": {
            "text/plain": [
              "tensor([[[19],\n",
              "         [ 1],\n",
              "         [41]],\n",
              "\n",
              "        [[75],\n",
              "         [30],\n",
              "         [98]],\n",
              "\n",
              "        [[30],\n",
              "         [85],\n",
              "         [95]],\n",
              "\n",
              "        [[11],\n",
              "         [48],\n",
              "         [13]],\n",
              "\n",
              "        [[65],\n",
              "         [ 0],\n",
              "         [99]]])"
            ]
          },
          "metadata": {},
          "execution_count": 16
        }
      ]
    },
    {
      "cell_type": "code",
      "source": [
        "t[:, 0] = 99"
      ],
      "metadata": {
        "id": "CU-VOfBHolkg"
      },
      "id": "CU-VOfBHolkg",
      "execution_count": 17,
      "outputs": []
    },
    {
      "cell_type": "code",
      "source": [
        "t = th.zeros(5, 5)\n",
        "t"
      ],
      "metadata": {
        "colab": {
          "base_uri": "https://localhost:8080/"
        },
        "id": "FcYk47K5upy3",
        "outputId": "e3a6c632-fcca-45a4-87f4-7b53bb93e997"
      },
      "id": "FcYk47K5upy3",
      "execution_count": 18,
      "outputs": [
        {
          "output_type": "execute_result",
          "data": {
            "text/plain": [
              "tensor([[0., 0., 0., 0., 0.],\n",
              "        [0., 0., 0., 0., 0.],\n",
              "        [0., 0., 0., 0., 0.],\n",
              "        [0., 0., 0., 0., 0.],\n",
              "        [0., 0., 0., 0., 0.]])"
            ]
          },
          "metadata": {},
          "execution_count": 18
        }
      ]
    },
    {
      "cell_type": "code",
      "source": [
        "idx = th.arange(5)\n",
        "t[idx, idx] = 1\n",
        "t"
      ],
      "metadata": {
        "colab": {
          "base_uri": "https://localhost:8080/"
        },
        "id": "fsFfNQ3RuvUQ",
        "outputId": "b2bf8ba3-fc1a-43ad-bb6d-d8c0d4ece3c1"
      },
      "id": "fsFfNQ3RuvUQ",
      "execution_count": 19,
      "outputs": [
        {
          "output_type": "execute_result",
          "data": {
            "text/plain": [
              "tensor([[1., 0., 0., 0., 0.],\n",
              "        [0., 1., 0., 0., 0.],\n",
              "        [0., 0., 1., 0., 0.],\n",
              "        [0., 0., 0., 1., 0.],\n",
              "        [0., 0., 0., 0., 1.]])"
            ]
          },
          "metadata": {},
          "execution_count": 19
        }
      ]
    },
    {
      "cell_type": "markdown",
      "id": "c4dfe946",
      "metadata": {
        "id": "c4dfe946"
      },
      "source": [
        "3\\. Создайте тензор (4х4) и модифицируйте следующим образом: ко всем четным столбцам прибавьте 1, из нечетных вычтите 1."
      ]
    },
    {
      "cell_type": "code",
      "source": [
        "t = th.arange(16).reshape(4, 4)\n",
        "t"
      ],
      "metadata": {
        "colab": {
          "base_uri": "https://localhost:8080/"
        },
        "id": "tzWY6baCo1-I",
        "outputId": "bed59708-f7d2-4bbc-f2ae-ebd4028bef5a"
      },
      "id": "tzWY6baCo1-I",
      "execution_count": 20,
      "outputs": [
        {
          "output_type": "execute_result",
          "data": {
            "text/plain": [
              "tensor([[ 0,  1,  2,  3],\n",
              "        [ 4,  5,  6,  7],\n",
              "        [ 8,  9, 10, 11],\n",
              "        [12, 13, 14, 15]])"
            ]
          },
          "metadata": {},
          "execution_count": 20
        }
      ]
    },
    {
      "cell_type": "code",
      "source": [
        "s = th.tensor([1, -1, 1, -1])"
      ],
      "metadata": {
        "id": "PdUzjEPEpBtA"
      },
      "id": "PdUzjEPEpBtA",
      "execution_count": 21,
      "outputs": []
    },
    {
      "cell_type": "code",
      "source": [
        "t.shape, s.shape"
      ],
      "metadata": {
        "colab": {
          "base_uri": "https://localhost:8080/"
        },
        "id": "Wn1v0Y_8pLnQ",
        "outputId": "471496d0-3f09-4c96-dea7-c6ec3d6f77ea"
      },
      "id": "Wn1v0Y_8pLnQ",
      "execution_count": 22,
      "outputs": [
        {
          "output_type": "execute_result",
          "data": {
            "text/plain": [
              "(torch.Size([4, 4]), torch.Size([4]))"
            ]
          },
          "metadata": {},
          "execution_count": 22
        }
      ]
    },
    {
      "cell_type": "code",
      "source": [
        "t + s"
      ],
      "metadata": {
        "colab": {
          "base_uri": "https://localhost:8080/"
        },
        "id": "Bd1OgGYCpHNh",
        "outputId": "8d923ff5-e846-45e0-e1f2-a8a75ba16d75"
      },
      "id": "Bd1OgGYCpHNh",
      "execution_count": 23,
      "outputs": [
        {
          "output_type": "execute_result",
          "data": {
            "text/plain": [
              "tensor([[ 1,  0,  3,  2],\n",
              "        [ 5,  4,  7,  6],\n",
              "        [ 9,  8, 11, 10],\n",
              "        [13, 12, 15, 14]])"
            ]
          },
          "metadata": {},
          "execution_count": 23
        }
      ]
    },
    {
      "cell_type": "markdown",
      "id": "f73eb486",
      "metadata": {
        "id": "f73eb486"
      },
      "source": [
        "4\\. Исследуйте совместимость `torch` с `numpy` и `sklearn`"
      ]
    },
    {
      "cell_type": "code",
      "source": [
        "# np.sin(t)\n",
        "th.sin(t)"
      ],
      "metadata": {
        "colab": {
          "base_uri": "https://localhost:8080/"
        },
        "id": "7s4v9iIkpfG4",
        "outputId": "b095191a-582e-4097-8122-d56f043e6980"
      },
      "id": "7s4v9iIkpfG4",
      "execution_count": 24,
      "outputs": [
        {
          "output_type": "execute_result",
          "data": {
            "text/plain": [
              "tensor([[ 0.0000,  0.8415,  0.9093,  0.1411],\n",
              "        [-0.7568, -0.9589, -0.2794,  0.6570],\n",
              "        [ 0.9894,  0.4121, -0.5440, -1.0000],\n",
              "        [-0.5366,  0.4202,  0.9906,  0.6503]])"
            ]
          },
          "metadata": {},
          "execution_count": 24
        }
      ]
    },
    {
      "cell_type": "code",
      "source": [
        "from sklearn.preprocessing import MinMaxScaler"
      ],
      "metadata": {
        "id": "I-vcEQ_tpn8Y"
      },
      "id": "I-vcEQ_tpn8Y",
      "execution_count": 25,
      "outputs": []
    },
    {
      "cell_type": "code",
      "source": [
        "MinMaxScaler().fit_transform(t)"
      ],
      "metadata": {
        "colab": {
          "base_uri": "https://localhost:8080/"
        },
        "id": "IOTHwZ6PptcB",
        "outputId": "6f8db02d-9f81-4fd8-cc8e-2722ae0b981d"
      },
      "id": "IOTHwZ6PptcB",
      "execution_count": 26,
      "outputs": [
        {
          "output_type": "execute_result",
          "data": {
            "text/plain": [
              "array([[0.        , 0.        , 0.        , 0.        ],\n",
              "       [0.33333333, 0.33333333, 0.33333333, 0.33333333],\n",
              "       [0.66666667, 0.66666667, 0.66666667, 0.66666667],\n",
              "       [1.        , 1.        , 1.        , 1.        ]])"
            ]
          },
          "metadata": {},
          "execution_count": 26
        }
      ]
    },
    {
      "cell_type": "code",
      "source": [
        "t.numpy()"
      ],
      "metadata": {
        "colab": {
          "base_uri": "https://localhost:8080/"
        },
        "id": "P-_LlTY0p6CY",
        "outputId": "09faee30-86b5-41a5-d480-69020f62db18"
      },
      "id": "P-_LlTY0p6CY",
      "execution_count": 27,
      "outputs": [
        {
          "output_type": "execute_result",
          "data": {
            "text/plain": [
              "array([[ 0,  1,  2,  3],\n",
              "       [ 4,  5,  6,  7],\n",
              "       [ 8,  9, 10, 11],\n",
              "       [12, 13, 14, 15]])"
            ]
          },
          "metadata": {},
          "execution_count": 27
        }
      ]
    },
    {
      "cell_type": "markdown",
      "id": "8e3aaaeb",
      "metadata": {
        "id": "8e3aaaeb"
      },
      "source": [
        "## Задачи для самостоятельного решения"
      ]
    },
    {
      "cell_type": "markdown",
      "id": "fdb47cbe",
      "metadata": {
        "id": "fdb47cbe"
      },
      "source": [
        "<p class=\"task\" id=\"1\"></p>\n",
        "\n",
        "1\\. Создайте двумерный тензор размера (100000, 10), заполненный нулями. Используя прихотливое индексирование, поставьте в каждой строке тензора ровно одну единицу в случайно выбранном столбце. Рассчитайте и выведите на экран вероятности $p_i$ того, что для случайно выбранной строки в столбце $i$ будет стоять единица."
      ]
    },
    {
      "cell_type": "code",
      "source": [
        "import random"
      ],
      "metadata": {
        "id": "4PLKFQeqyI_6"
      },
      "id": "4PLKFQeqyI_6",
      "execution_count": 32,
      "outputs": []
    },
    {
      "cell_type": "code",
      "source": [
        "t = th.zeros(size=(100000, 10))\n",
        "ind = np.arange(100000)\n",
        "col = np.random.choice(10, size=(100000))\n",
        "t[ind, col] = 1"
      ],
      "metadata": {
        "id": "YyhJZUFRwP6P"
      },
      "id": "YyhJZUFRwP6P",
      "execution_count": 37,
      "outputs": []
    },
    {
      "cell_type": "code",
      "source": [
        "t"
      ],
      "metadata": {
        "colab": {
          "base_uri": "https://localhost:8080/"
        },
        "id": "gYan8-coyZ_r",
        "outputId": "e4066989-5a7b-4236-9708-f079c578ce70"
      },
      "id": "gYan8-coyZ_r",
      "execution_count": 38,
      "outputs": [
        {
          "output_type": "execute_result",
          "data": {
            "text/plain": [
              "tensor([[0., 0., 0.,  ..., 0., 0., 0.],\n",
              "        [0., 0., 0.,  ..., 0., 0., 0.],\n",
              "        [0., 0., 0.,  ..., 0., 0., 0.],\n",
              "        ...,\n",
              "        [0., 0., 0.,  ..., 0., 0., 0.],\n",
              "        [0., 0., 0.,  ..., 0., 0., 0.],\n",
              "        [0., 0., 0.,  ..., 0., 0., 0.]])"
            ]
          },
          "metadata": {},
          "execution_count": 38
        }
      ]
    },
    {
      "cell_type": "code",
      "source": [
        "srednee= th.mean(t, axis=0)\n",
        "srednee"
      ],
      "metadata": {
        "colab": {
          "base_uri": "https://localhost:8080/"
        },
        "id": "lxKzoqRhzGf8",
        "outputId": "a08137b8-1046-439d-f738-0a4296dc6a06"
      },
      "id": "lxKzoqRhzGf8",
      "execution_count": 45,
      "outputs": [
        {
          "output_type": "execute_result",
          "data": {
            "text/plain": [
              "tensor([0.1002, 0.0999, 0.0995, 0.1005, 0.0999, 0.1002, 0.1006, 0.0996, 0.0986,\n",
              "        0.1010])"
            ]
          },
          "metadata": {},
          "execution_count": 45
        }
      ]
    },
    {
      "cell_type": "markdown",
      "id": "2212b996",
      "metadata": {
        "id": "2212b996"
      },
      "source": [
        "<p class=\"task\" id=\"2\"></p>\n",
        "\n",
        "2\\. При помощи прихотливого индексирования для двумерного тензора размерности (10, 10), состоящего из случайных целых чисел в пределах от 0 до 10, получите тензор элементов, находящихся сразу над побочной диагональю."
      ]
    },
    {
      "cell_type": "code",
      "source": [
        "tensor = th.randint(0, 11, size=(10, 10))\n",
        "diag= tensor[th.triu_indices(10, 1)]\n",
        "diag\n"
      ],
      "metadata": {
        "colab": {
          "base_uri": "https://localhost:8080/"
        },
        "id": "S-dM49NsyZN6",
        "outputId": "d4e9d0fa-7ef1-484c-805c-cb1508988e66"
      },
      "id": "S-dM49NsyZN6",
      "execution_count": 44,
      "outputs": [
        {
          "output_type": "execute_result",
          "data": {
            "text/plain": [
              "tensor([[[2, 0, 7, 0, 7, 6, 1, 8, 9, 5]],\n",
              "\n",
              "        [[2, 0, 7, 0, 7, 6, 1, 8, 9, 5]]])"
            ]
          },
          "metadata": {},
          "execution_count": 44
        }
      ]
    },
    {
      "cell_type": "markdown",
      "id": "4c81e1c1",
      "metadata": {
        "id": "4c81e1c1"
      },
      "source": [
        "<p class=\"task\" id=\"3\"></p>\n",
        "\n",
        "3\\. Создайте двумерный тензор $t$ размерности (5, 5), состоящий из случайных чисел в пределах от 0 до 100. Обнулить все значения в массиве, расположенные вне квадрата размера 3х3 вокруг максимального элемента. Если максимумов несколько, обнулите элементы около любого из них."
      ]
    },
    {
      "cell_type": "code",
      "source": [
        "t = th.randint(0, 101, size=(5, 5))\n",
        "a = t.clone()\n",
        "t"
      ],
      "metadata": {
        "colab": {
          "base_uri": "https://localhost:8080/"
        },
        "id": "SaaZZLZuzU-4",
        "outputId": "73ff7917-4cbf-48e8-db87-b924b9daa3ab"
      },
      "id": "SaaZZLZuzU-4",
      "execution_count": 224,
      "outputs": [
        {
          "output_type": "execute_result",
          "data": {
            "text/plain": [
              "tensor([[16, 23, 65, 92, 49],\n",
              "        [72, 14, 47, 32, 20],\n",
              "        [20, 87, 33,  6, 24],\n",
              "        [37, 76, 34, 21, 38],\n",
              "        [ 0, 90, 39, 41, 41]])"
            ]
          },
          "metadata": {},
          "execution_count": 224
        }
      ]
    },
    {
      "cell_type": "code",
      "source": [
        "value=th.max(t)\n",
        "value#Максимальный элемент"
      ],
      "metadata": {
        "colab": {
          "base_uri": "https://localhost:8080/"
        },
        "id": "PoIntyANzsBK",
        "outputId": "1784eea9-29b3-49df-a339-1fe3e470b2df"
      },
      "id": "PoIntyANzsBK",
      "execution_count": 225,
      "outputs": [
        {
          "output_type": "execute_result",
          "data": {
            "text/plain": [
              "tensor(92)"
            ]
          },
          "metadata": {},
          "execution_count": 225
        }
      ]
    },
    {
      "cell_type": "code",
      "source": [
        "ind = th.where(t  == value)"
      ],
      "metadata": {
        "id": "h-NlcM5h2W3z"
      },
      "id": "h-NlcM5h2W3z",
      "execution_count": 226,
      "outputs": []
    },
    {
      "cell_type": "code",
      "source": [
        "ind"
      ],
      "metadata": {
        "colab": {
          "base_uri": "https://localhost:8080/"
        },
        "id": "nLdXteWK0bgF",
        "outputId": "dab42f6a-1420-4c48-cfb2-c7e8624945b9"
      },
      "id": "nLdXteWK0bgF",
      "execution_count": 227,
      "outputs": [
        {
          "output_type": "execute_result",
          "data": {
            "text/plain": [
              "(tensor([0]), tensor([3]))"
            ]
          },
          "metadata": {},
          "execution_count": 227
        }
      ]
    },
    {
      "cell_type": "code",
      "source": [
        "max_row, max_col = ind[0][0], ind[1][0]"
      ],
      "metadata": {
        "id": "LUHE09UD3ES1"
      },
      "id": "LUHE09UD3ES1",
      "execution_count": 228,
      "outputs": []
    },
    {
      "cell_type": "code",
      "source": [
        "row_1 = max_row - 1\n",
        "row_2 = max_row + 2\n",
        "col_1= max_col - 1\n",
        "col_2 = max_col + 2"
      ],
      "metadata": {
        "id": "CEj99CT-3Kc1"
      },
      "id": "CEj99CT-3Kc1",
      "execution_count": 229,
      "outputs": []
    },
    {
      "cell_type": "code",
      "source": [
        "for i in range(t.shape[0]):\n",
        "    for j in range(t.shape[1]):\n",
        "        if i < row_1 or i > row_2 or j < col_1 or j > col_2:\n",
        "            t[i, j] = 0"
      ],
      "metadata": {
        "id": "7jBD8Pif3bYn"
      },
      "id": "7jBD8Pif3bYn",
      "execution_count": 230,
      "outputs": []
    },
    {
      "cell_type": "code",
      "source": [
        "t"
      ],
      "metadata": {
        "colab": {
          "base_uri": "https://localhost:8080/"
        },
        "id": "01ZbXEmO5vwK",
        "outputId": "35e51fd4-f530-4a5c-a061-079d3d935f9d"
      },
      "id": "01ZbXEmO5vwK",
      "execution_count": 231,
      "outputs": [
        {
          "output_type": "execute_result",
          "data": {
            "text/plain": [
              "tensor([[ 0,  0, 65, 92, 49],\n",
              "        [ 0,  0, 47, 32, 20],\n",
              "        [ 0,  0, 33,  6, 24],\n",
              "        [ 0,  0,  0,  0,  0],\n",
              "        [ 0,  0,  0,  0,  0]])"
            ]
          },
          "metadata": {},
          "execution_count": 231
        }
      ]
    },
    {
      "cell_type": "markdown",
      "id": "f68b795c",
      "metadata": {
        "id": "f68b795c"
      },
      "source": [
        "<p class=\"task\" id=\"4\"></p>\n",
        "\n",
        "4\\. Создайте трехмерный массив размерности (2, 5, 5) на основе решения задачи 3 (объедините исходный и результирущий тензор вдоль нулевой оси). Сохраните полученный трехмерный тензор в файл `tensor.pt`. Загрузите полученный тензор и покажите, что все элементы двух тензоров совпадают."
      ]
    },
    {
      "cell_type": "code",
      "source": [
        "threed_tensor = th.stack((t, a), dim=0)\n",
        "threed_tensor"
      ],
      "metadata": {
        "colab": {
          "base_uri": "https://localhost:8080/"
        },
        "id": "1crrI28q8hlG",
        "outputId": "7282ca04-7af4-4771-cff0-1500c01c5c84"
      },
      "id": "1crrI28q8hlG",
      "execution_count": 232,
      "outputs": [
        {
          "output_type": "execute_result",
          "data": {
            "text/plain": [
              "tensor([[[ 0,  0, 65, 92, 49],\n",
              "         [ 0,  0, 47, 32, 20],\n",
              "         [ 0,  0, 33,  6, 24],\n",
              "         [ 0,  0,  0,  0,  0],\n",
              "         [ 0,  0,  0,  0,  0]],\n",
              "\n",
              "        [[16, 23, 65, 92, 49],\n",
              "         [72, 14, 47, 32, 20],\n",
              "         [20, 87, 33,  6, 24],\n",
              "         [37, 76, 34, 21, 38],\n",
              "         [ 0, 90, 39, 41, 41]]])"
            ]
          },
          "metadata": {},
          "execution_count": 232
        }
      ]
    },
    {
      "cell_type": "code",
      "source": [
        "th.save(threed_tensor, 'tensor.pt')"
      ],
      "metadata": {
        "id": "c37r5Alh8wLw"
      },
      "id": "c37r5Alh8wLw",
      "execution_count": 233,
      "outputs": []
    },
    {
      "cell_type": "code",
      "source": [
        "threed_tensor_load = th.load('tensor.pt')"
      ],
      "metadata": {
        "id": "Zf_iqFgq836x"
      },
      "id": "Zf_iqFgq836x",
      "execution_count": 234,
      "outputs": []
    },
    {
      "cell_type": "code",
      "source": [
        "sovpadenie = th.equal(threed_tensor_load, threed_tensor)\n",
        "\n",
        "if sovpadenie:\n",
        "    print(\"Все элементы совпадают.\")\n",
        "else:\n",
        "    print(\"Элементы не совпадают.\")"
      ],
      "metadata": {
        "colab": {
          "base_uri": "https://localhost:8080/"
        },
        "id": "vea14WzF8-2h",
        "outputId": "ae896ec1-ab8d-43b3-a7f7-bc9fa746353b"
      },
      "id": "vea14WzF8-2h",
      "execution_count": 235,
      "outputs": [
        {
          "output_type": "stream",
          "name": "stdout",
          "text": [
            "Все элементы совпадают.\n"
          ]
        }
      ]
    },
    {
      "cell_type": "markdown",
      "id": "ab2dd4cd",
      "metadata": {
        "id": "ab2dd4cd"
      },
      "source": [
        "<p class=\"task\" id=\"5\"></p>\n",
        "\n",
        "5\\. Создайте четырехмерный массив `t` размерности (2, 3, 5, 5), заполненный случайными целыми числами от 1 до 10 (сами значения должны быть представлены типом float32). Рассчитайте среднее значение для каждого двумерного тензора `t[i, j, :, :]`. Представьте результат в виде трехмерного тензора размера (2, 3, 1)."
      ]
    },
    {
      "cell_type": "code",
      "source": [
        "t = th.randint(1, 11, size=(2, 3, 5, 5), dtype=th.float32)\n",
        "t"
      ],
      "metadata": {
        "colab": {
          "base_uri": "https://localhost:8080/"
        },
        "id": "uROyPAWX9ngQ",
        "outputId": "d4f6846b-e98a-4f53-9b31-ae1c00934d0f"
      },
      "id": "uROyPAWX9ngQ",
      "execution_count": 200,
      "outputs": [
        {
          "output_type": "execute_result",
          "data": {
            "text/plain": [
              "tensor([[[[ 2.,  7.,  3.,  3.,  5.],\n",
              "          [10.,  5., 10.,  7.,  3.],\n",
              "          [ 3.,  9.,  2.,  7.,  4.],\n",
              "          [ 2.,  6., 10.,  6.,  7.],\n",
              "          [ 9.,  9.,  8.,  8.,  4.]],\n",
              "\n",
              "         [[ 1.,  7.,  7.,  3.,  7.],\n",
              "          [ 9.,  6.,  5.,  6.,  2.],\n",
              "          [ 4.,  3.,  2.,  6.,  6.],\n",
              "          [ 8.,  6.,  3.,  2.,  1.],\n",
              "          [ 3.,  5.,  4.,  2.,  8.]],\n",
              "\n",
              "         [[ 2.,  6.,  2.,  4.,  7.],\n",
              "          [ 7.,  6.,  4.,  2.,  4.],\n",
              "          [ 8.,  5., 10.,  2.,  9.],\n",
              "          [ 9.,  8.,  2.,  2.,  3.],\n",
              "          [ 4.,  7.,  9.,  3.,  3.]]],\n",
              "\n",
              "\n",
              "        [[[ 3.,  3.,  3.,  3., 10.],\n",
              "          [ 1.,  1.,  1., 10.,  8.],\n",
              "          [ 6.,  1.,  1., 10.,  1.],\n",
              "          [ 8.,  3.,  7.,  4.,  8.],\n",
              "          [ 2.,  6., 10.,  8.,  6.]],\n",
              "\n",
              "         [[ 8.,  1.,  7., 10.,  6.],\n",
              "          [ 7.,  6.,  5.,  7.,  8.],\n",
              "          [ 4.,  7.,  9.,  9.,  5.],\n",
              "          [ 9.,  4.,  7.,  5.,  6.],\n",
              "          [ 7.,  8.,  2.,  6.,  3.]],\n",
              "\n",
              "         [[10.,  4.,  2.,  4.,  8.],\n",
              "          [ 2.,  9.,  8., 10., 10.],\n",
              "          [ 1.,  8.,  3.,  2.,  2.],\n",
              "          [ 7., 10.,  6.,  3.,  3.],\n",
              "          [ 3.,  7.,  4.,  6.,  1.]]]])"
            ]
          },
          "metadata": {},
          "execution_count": 200
        }
      ]
    },
    {
      "cell_type": "code",
      "source": [
        "mean_tenzor = th.mean(t, dim=(2, 3))\n",
        "mean_tenzor"
      ],
      "metadata": {
        "colab": {
          "base_uri": "https://localhost:8080/"
        },
        "id": "ZiSohHmP-c3p",
        "outputId": "4d5c3eb2-a8d5-4ac2-dec1-a28b66f3544e"
      },
      "id": "ZiSohHmP-c3p",
      "execution_count": 205,
      "outputs": [
        {
          "output_type": "execute_result",
          "data": {
            "text/plain": [
              "tensor([[5.9600, 4.6400, 5.1200],\n",
              "        [4.9600, 6.2400, 5.3200]])"
            ]
          },
          "metadata": {},
          "execution_count": 205
        }
      ]
    },
    {
      "cell_type": "code",
      "source": [
        "mean_tenzor = mean_tenzor.unsqueeze(2)\n",
        "mean_tenzor"
      ],
      "metadata": {
        "colab": {
          "base_uri": "https://localhost:8080/"
        },
        "id": "TDGlBDWp-pm4",
        "outputId": "9079af9a-1221-4433-ddac-ede8061e08ba"
      },
      "id": "TDGlBDWp-pm4",
      "execution_count": 210,
      "outputs": [
        {
          "output_type": "execute_result",
          "data": {
            "text/plain": [
              "tensor([[[[5.9600]],\n",
              "\n",
              "         [[4.6400]],\n",
              "\n",
              "         [[5.1200]]],\n",
              "\n",
              "\n",
              "        [[[4.9600]],\n",
              "\n",
              "         [[6.2400]],\n",
              "\n",
              "         [[5.3200]]]])"
            ]
          },
          "metadata": {},
          "execution_count": 210
        }
      ]
    },
    {
      "cell_type": "markdown",
      "id": "0f29b7fa",
      "metadata": {
        "id": "0f29b7fa"
      },
      "source": [
        "<p class=\"task\" id=\"6\"></p>\n",
        "\n",
        "6\\. Создайте одномерный тензор размера `N=100_000_000`, заполненный числами из экспоненциального распредления с параметром $\\lambda=5$. Рассчитайте значения для построения гистограммы при помощи пакета `torch`. Визуализируйте гистограмму. Проверьте возможность использования GPU. При наличии GPU перенесите созданный тензор в память GPU, повторите вычисления. Сравните время расчетом с и без использования GPU."
      ]
    },
    {
      "cell_type": "markdown",
      "id": "590c35a6",
      "metadata": {
        "id": "590c35a6"
      },
      "source": [
        "<p class=\"task\" id=\"7\"></p>\n",
        "\n",
        "7\\. Создайте четырехмерный тензор размера (10, 6, 6, 3), заполненный случайными целыми числами от 0 до 255. Считая, что данный тензор представляет собой батч из 10 картинок размера 6х6 в формате RGB, измените тензор следующим образом. Для оттенков красного обнулите все столбцы, кроме первых двух; для оттенков зеленого обнулите столбцы со второго по четвертый; для оттенков синего обнулите пятый и шестой столбцы. Для выполнения задания используйте механизм распространения."
      ]
    },
    {
      "cell_type": "markdown",
      "source": [
        "![image.png](data:image/png;base64,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)"
      ],
      "metadata": {
        "id": "U2qCzZFqBznL"
      },
      "id": "U2qCzZFqBznL"
    },
    {
      "cell_type": "code",
      "source": [
        "import torch as th\n",
        "\n",
        "tenzor = th.randint(0, 256, size=(10, 6, 6, 3),dtype=th.float32)\n",
        "\n",
        "# Для оттенков красного обнулите все столбцы, кроме первых двух\n",
        "red = th.zeros(6)\n",
        "red[:2] = 1\n",
        "#для оттенков зеленого обнулите столбцы со второго по четвертый\n",
        "green = th.zeros(6)\n",
        "green[1:4] = 1\n",
        "#для оттенков синего обнулите пятый и шестой столбцы\n",
        "blue = th.zeros(6)\n",
        "blue[4:6] = 1\n",
        "\n",
        "tenzor[:, :, :, 0] *= red\n",
        "tenzor[:, :, :, 1] *= green\n",
        "tenzor[:, :, :, 2] *= blue\n",
        "\n",
        "\n",
        "tenzor"
      ],
      "metadata": {
        "colab": {
          "base_uri": "https://localhost:8080/"
        },
        "id": "Ml3EvJWNB4wK",
        "outputId": "c9df412e-c02a-4652-d1dc-c8ebc7a96bac"
      },
      "id": "Ml3EvJWNB4wK",
      "execution_count": 219,
      "outputs": [
        {
          "output_type": "execute_result",
          "data": {
            "text/plain": [
              "tensor([[[[ 68.,   0.,   0.],\n",
              "          [141., 221.,   0.],\n",
              "          [  0., 247.,   0.],\n",
              "          [  0., 241.,   0.],\n",
              "          [  0.,   0., 102.],\n",
              "          [  0.,   0.,   8.]],\n",
              "\n",
              "         [[191.,   0.,   0.],\n",
              "          [145., 145.,   0.],\n",
              "          [  0.,  54.,   0.],\n",
              "          [  0., 175.,   0.],\n",
              "          [  0.,   0., 230.],\n",
              "          [  0.,   0., 121.]],\n",
              "\n",
              "         [[190.,   0.,   0.],\n",
              "          [ 24.,  51.,   0.],\n",
              "          [  0.,  16.,   0.],\n",
              "          [  0.,  80.,   0.],\n",
              "          [  0.,   0., 115.],\n",
              "          [  0.,   0.,  43.]],\n",
              "\n",
              "         [[176.,   0.,   0.],\n",
              "          [ 30.,  69.,   0.],\n",
              "          [  0., 136.,   0.],\n",
              "          [  0.,   1.,   0.],\n",
              "          [  0.,   0.,  14.],\n",
              "          [  0.,   0., 203.]],\n",
              "\n",
              "         [[198.,   0.,   0.],\n",
              "          [ 42., 131.,   0.],\n",
              "          [  0.,  67.,   0.],\n",
              "          [  0., 118.,   0.],\n",
              "          [  0.,   0.,  62.],\n",
              "          [  0.,   0.,  35.]],\n",
              "\n",
              "         [[ 22.,   0.,   0.],\n",
              "          [165., 136.,   0.],\n",
              "          [  0.,  74.,   0.],\n",
              "          [  0.,  62.,   0.],\n",
              "          [  0.,   0., 223.],\n",
              "          [  0.,   0., 103.]]],\n",
              "\n",
              "\n",
              "        [[[237.,   0.,   0.],\n",
              "          [247.,  34.,   0.],\n",
              "          [  0., 218.,   0.],\n",
              "          [  0.,  80.,   0.],\n",
              "          [  0.,   0., 183.],\n",
              "          [  0.,   0., 185.]],\n",
              "\n",
              "         [[255.,   0.,   0.],\n",
              "          [ 13., 242.,   0.],\n",
              "          [  0.,  76.,   0.],\n",
              "          [  0., 253.,   0.],\n",
              "          [  0.,   0., 149.],\n",
              "          [  0.,   0., 235.]],\n",
              "\n",
              "         [[151.,   0.,   0.],\n",
              "          [ 54., 125.,   0.],\n",
              "          [  0., 162.,   0.],\n",
              "          [  0., 139.,   0.],\n",
              "          [  0.,   0.,  90.],\n",
              "          [  0.,   0., 241.]],\n",
              "\n",
              "         [[ 47.,   0.,   0.],\n",
              "          [204.,  17.,   0.],\n",
              "          [  0., 236.,   0.],\n",
              "          [  0.,  56.,   0.],\n",
              "          [  0.,   0., 244.],\n",
              "          [  0.,   0., 225.]],\n",
              "\n",
              "         [[ 71.,   0.,   0.],\n",
              "          [224.,  50.,   0.],\n",
              "          [  0., 238.,   0.],\n",
              "          [  0.,  73.,   0.],\n",
              "          [  0.,   0., 152.],\n",
              "          [  0.,   0.,  57.]],\n",
              "\n",
              "         [[178.,   0.,   0.],\n",
              "          [ 87., 105.,   0.],\n",
              "          [  0., 101.,   0.],\n",
              "          [  0.,  75.,   0.],\n",
              "          [  0.,   0.,  98.],\n",
              "          [  0.,   0.,  28.]]],\n",
              "\n",
              "\n",
              "        [[[198.,   0.,   0.],\n",
              "          [207.,  77.,   0.],\n",
              "          [  0., 199.,   0.],\n",
              "          [  0.,  12.,   0.],\n",
              "          [  0.,   0., 117.],\n",
              "          [  0.,   0., 231.]],\n",
              "\n",
              "         [[ 62.,   0.,   0.],\n",
              "          [149., 242.,   0.],\n",
              "          [  0., 208.,   0.],\n",
              "          [  0., 234.,   0.],\n",
              "          [  0.,   0.,  24.],\n",
              "          [  0.,   0.,  11.]],\n",
              "\n",
              "         [[154.,   0.,   0.],\n",
              "          [238., 153.,   0.],\n",
              "          [  0., 248.,   0.],\n",
              "          [  0., 223.,   0.],\n",
              "          [  0.,   0.,  55.],\n",
              "          [  0.,   0., 250.]],\n",
              "\n",
              "         [[202.,   0.,   0.],\n",
              "          [199.,  21.,   0.],\n",
              "          [  0., 130.,   0.],\n",
              "          [  0., 116.,   0.],\n",
              "          [  0.,   0.,  52.],\n",
              "          [  0.,   0., 108.]],\n",
              "\n",
              "         [[146.,   0.,   0.],\n",
              "          [247.,  37.,   0.],\n",
              "          [  0.,   0.,   0.],\n",
              "          [  0.,  43.,   0.],\n",
              "          [  0.,   0.,  80.],\n",
              "          [  0.,   0.,  47.]],\n",
              "\n",
              "         [[139.,   0.,   0.],\n",
              "          [156., 246.,   0.],\n",
              "          [  0.,  70.,   0.],\n",
              "          [  0., 162.,   0.],\n",
              "          [  0.,   0., 211.],\n",
              "          [  0.,   0., 143.]]],\n",
              "\n",
              "\n",
              "        ...,\n",
              "\n",
              "\n",
              "        [[[166.,   0.,   0.],\n",
              "          [ 80., 112.,   0.],\n",
              "          [  0.,  92.,   0.],\n",
              "          [  0., 200.,   0.],\n",
              "          [  0.,   0., 200.],\n",
              "          [  0.,   0., 134.]],\n",
              "\n",
              "         [[254.,   0.,   0.],\n",
              "          [ 47., 106.,   0.],\n",
              "          [  0.,  87.,   0.],\n",
              "          [  0.,   2.,   0.],\n",
              "          [  0.,   0., 191.],\n",
              "          [  0.,   0., 108.]],\n",
              "\n",
              "         [[185.,   0.,   0.],\n",
              "          [ 90., 124.,   0.],\n",
              "          [  0.,  62.,   0.],\n",
              "          [  0.,  65.,   0.],\n",
              "          [  0.,   0., 104.],\n",
              "          [  0.,   0., 254.]],\n",
              "\n",
              "         [[216.,   0.,   0.],\n",
              "          [132.,  13.,   0.],\n",
              "          [  0., 204.,   0.],\n",
              "          [  0.,  77.,   0.],\n",
              "          [  0.,   0., 159.],\n",
              "          [  0.,   0., 237.]],\n",
              "\n",
              "         [[159.,   0.,   0.],\n",
              "          [147.,  87.,   0.],\n",
              "          [  0.,  51.,   0.],\n",
              "          [  0., 248.,   0.],\n",
              "          [  0.,   0., 165.],\n",
              "          [  0.,   0.,  91.]],\n",
              "\n",
              "         [[208.,   0.,   0.],\n",
              "          [241., 147.,   0.],\n",
              "          [  0., 121.,   0.],\n",
              "          [  0., 141.,   0.],\n",
              "          [  0.,   0., 246.],\n",
              "          [  0.,   0., 230.]]],\n",
              "\n",
              "\n",
              "        [[[208.,   0.,   0.],\n",
              "          [202.,  47.,   0.],\n",
              "          [  0., 199.,   0.],\n",
              "          [  0., 141.,   0.],\n",
              "          [  0.,   0., 107.],\n",
              "          [  0.,   0., 200.]],\n",
              "\n",
              "         [[ 18.,   0.,   0.],\n",
              "          [ 18.,  74.,   0.],\n",
              "          [  0., 218.,   0.],\n",
              "          [  0., 250.,   0.],\n",
              "          [  0.,   0., 235.],\n",
              "          [  0.,   0.,  87.]],\n",
              "\n",
              "         [[ 83.,   0.,   0.],\n",
              "          [ 64.,   0.,   0.],\n",
              "          [  0., 201.,   0.],\n",
              "          [  0., 219.,   0.],\n",
              "          [  0.,   0., 101.],\n",
              "          [  0.,   0.,  84.]],\n",
              "\n",
              "         [[ 52.,   0.,   0.],\n",
              "          [ 96., 216.,   0.],\n",
              "          [  0.,  70.,   0.],\n",
              "          [  0.,  25.,   0.],\n",
              "          [  0.,   0.,  42.],\n",
              "          [  0.,   0.,  34.]],\n",
              "\n",
              "         [[230.,   0.,   0.],\n",
              "          [160.,  87.,   0.],\n",
              "          [  0., 213.,   0.],\n",
              "          [  0.,  11.,   0.],\n",
              "          [  0.,   0., 234.],\n",
              "          [  0.,   0., 157.]],\n",
              "\n",
              "         [[165.,   0.,   0.],\n",
              "          [219., 107.,   0.],\n",
              "          [  0.,  62.,   0.],\n",
              "          [  0., 182.,   0.],\n",
              "          [  0.,   0.,  38.],\n",
              "          [  0.,   0., 157.]]],\n",
              "\n",
              "\n",
              "        [[[121.,   0.,   0.],\n",
              "          [ 16.,   9.,   0.],\n",
              "          [  0.,  87.,   0.],\n",
              "          [  0., 110.,   0.],\n",
              "          [  0.,   0., 129.],\n",
              "          [  0.,   0.,  56.]],\n",
              "\n",
              "         [[126.,   0.,   0.],\n",
              "          [203., 137.,   0.],\n",
              "          [  0.,  61.,   0.],\n",
              "          [  0., 250.,   0.],\n",
              "          [  0.,   0., 199.],\n",
              "          [  0.,   0.,  73.]],\n",
              "\n",
              "         [[ 91.,   0.,   0.],\n",
              "          [  5.,  53.,   0.],\n",
              "          [  0.,  32.,   0.],\n",
              "          [  0., 118.,   0.],\n",
              "          [  0.,   0., 242.],\n",
              "          [  0.,   0.,  96.]],\n",
              "\n",
              "         [[158.,   0.,   0.],\n",
              "          [ 33., 206.,   0.],\n",
              "          [  0., 155.,   0.],\n",
              "          [  0., 134.,   0.],\n",
              "          [  0.,   0.,  16.],\n",
              "          [  0.,   0., 234.]],\n",
              "\n",
              "         [[138.,   0.,   0.],\n",
              "          [167.,  99.,   0.],\n",
              "          [  0., 136.,   0.],\n",
              "          [  0., 234.,   0.],\n",
              "          [  0.,   0., 165.],\n",
              "          [  0.,   0., 164.]],\n",
              "\n",
              "         [[216.,   0.,   0.],\n",
              "          [ 87., 156.,   0.],\n",
              "          [  0.,  74.,   0.],\n",
              "          [  0.,  79.,   0.],\n",
              "          [  0.,   0., 124.],\n",
              "          [  0.,   0.,  19.]]]])"
            ]
          },
          "metadata": {},
          "execution_count": 219
        }
      ]
    },
    {
      "cell_type": "markdown",
      "id": "c87e5d68",
      "metadata": {
        "id": "c87e5d68"
      },
      "source": [
        "## Обратная связь\n",
        "- [ ] Хочу получить обратную связь по решению"
      ]
    },
    {
      "cell_type": "code",
      "execution_count": null,
      "id": "45728f21",
      "metadata": {
        "id": "45728f21"
      },
      "outputs": [],
      "source": []
    }
  ],
  "metadata": {
    "kernelspec": {
      "display_name": "Python 3 (ipykernel)",
      "language": "python",
      "name": "python3"
    },
    "language_info": {
      "codemirror_mode": {
        "name": "ipython",
        "version": 3
      },
      "file_extension": ".py",
      "mimetype": "text/x-python",
      "name": "python",
      "nbconvert_exporter": "python",
      "pygments_lexer": "ipython3",
      "version": "3.9.13"
    },
    "colab": {
      "provenance": []
    }
  },
  "nbformat": 4,
  "nbformat_minor": 5
}