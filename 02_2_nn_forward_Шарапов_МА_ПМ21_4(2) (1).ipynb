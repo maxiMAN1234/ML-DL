{
  "cells": [
    {
      "cell_type": "markdown",
      "id": "3a564d5f",
      "metadata": {
        "id": "3a564d5f"
      },
      "source": [
        "#  Forward pass\n",
        "\n",
        "__Автор задач: Блохин Н.В. (NVBlokhin@fa.ru)__\n",
        "\n",
        "Материалы:\n",
        "* Deep Learning with PyTorch (2020) Авторы: Eli Stevens, Luca Antiga, Thomas Viehmann\n",
        "* https://pytorch.org/docs/stable/generated/torch.matmul.html\n",
        "* https://machinelearningmastery.com/choose-an-activation-function-for-deep-learning/\n",
        "* https://machinelearningmastery.com/loss-and-loss-functions-for-training-deep-learning-neural-networks/"
      ]
    },
    {
      "cell_type": "markdown",
      "id": "c9ecd663",
      "metadata": {
        "id": "c9ecd663"
      },
      "source": [
        "## Задачи для совместного разбора"
      ]
    },
    {
      "cell_type": "markdown",
      "id": "a87d01a9",
      "metadata": {
        "id": "a87d01a9"
      },
      "source": [
        "1\\. Используя операции над матрицами и векторами из библиотеки `torch`, реализуйте нейрон с заданными весами `weights` и `bias`. Пропустите вектор `inputs` через нейрон и выведите результат."
      ]
    },
    {
      "cell_type": "code",
      "source": [
        "import torch as th"
      ],
      "metadata": {
        "id": "qFTqDAr4tGix"
      },
      "id": "qFTqDAr4tGix",
      "execution_count": 46,
      "outputs": []
    },
    {
      "cell_type": "code",
      "execution_count": 16,
      "id": "bc1b50d5",
      "metadata": {
        "id": "bc1b50d5"
      },
      "outputs": [],
      "source": [
        "class Neuron:\n",
        "  def __init__(self, weights, bias):\n",
        "    # <создать атрибуты объекта weights и bias>\n",
        "    self.weights = weights\n",
        "    self.bias = bias\n",
        "\n",
        "  def forward(self, inputs):\n",
        "    return inputs @ self.weights + self.bias"
      ]
    },
    {
      "cell_type": "code",
      "execution_count": 17,
      "id": "60f299f7",
      "metadata": {
        "id": "60f299f7"
      },
      "outputs": [],
      "source": [
        "inputs = torch.tensor([1.0, 2.0, 3.0, 4.0])\n",
        "weights = torch.tensor([-0.2, 0.3, -0.5, 0.7])\n",
        "bias = 3.14"
      ]
    },
    {
      "cell_type": "code",
      "source": [
        "neuron = Neuron(weights, bias)\n",
        "y_pred = neuron.forward(inputs)\n",
        "y_pred"
      ],
      "metadata": {
        "colab": {
          "base_uri": "https://localhost:8080/"
        },
        "id": "0D2FeiNKtpd4",
        "outputId": "df9bf6e7-8b2e-44cb-acd7-18e4e0c8d687"
      },
      "id": "0D2FeiNKtpd4",
      "execution_count": 18,
      "outputs": [
        {
          "output_type": "execute_result",
          "data": {
            "text/plain": [
              "tensor(4.8400)"
            ]
          },
          "metadata": {},
          "execution_count": 18
        }
      ]
    },
    {
      "cell_type": "markdown",
      "id": "32e5fe51",
      "metadata": {
        "id": "32e5fe51"
      },
      "source": [
        "2\\. Используя операции над матрицами и векторами из библиотеки `torch`, реализуйте функцию активации ReLU:\n",
        "\n",
        "![](https://wikimedia.org/api/rest_v1/media/math/render/svg/f4353f4e3e484130504049599d2e7b040793e1eb)\n",
        "\n",
        "Создайте матрицу размера (4,3), заполненную числами из стандартного нормального распределения, и проверьте работоспособность функции активации."
      ]
    },
    {
      "cell_type": "code",
      "execution_count": 19,
      "id": "4679f4e5",
      "metadata": {
        "id": "4679f4e5"
      },
      "outputs": [],
      "source": [
        "class ReLU:\n",
        "  def forward(self, inputs):\n",
        "    # <реализовать логику ReLU>\n",
        "    return torch.clip(inputs, min=0)"
      ]
    },
    {
      "cell_type": "code",
      "source": [
        "X = torch.randn((4, 3))\n",
        "X"
      ],
      "metadata": {
        "colab": {
          "base_uri": "https://localhost:8080/"
        },
        "id": "PXjGF58fveW2",
        "outputId": "7a49a7d4-d5d6-48fd-e17d-9608709a8974"
      },
      "id": "PXjGF58fveW2",
      "execution_count": 20,
      "outputs": [
        {
          "output_type": "execute_result",
          "data": {
            "text/plain": [
              "tensor([[ 0.5985, -0.4014, -0.7405],\n",
              "        [-0.7314, -1.3956, -0.9422],\n",
              "        [ 0.2657,  0.1320,  0.7004],\n",
              "        [ 1.4247,  1.9337, -1.0005]])"
            ]
          },
          "metadata": {},
          "execution_count": 20
        }
      ]
    },
    {
      "cell_type": "code",
      "source": [
        "relu = ReLU()\n",
        "relu.forward(X)"
      ],
      "metadata": {
        "colab": {
          "base_uri": "https://localhost:8080/"
        },
        "id": "3ApmkMWEvhUE",
        "outputId": "cba8a32b-13a6-4e36-f28a-2fcc77976669"
      },
      "id": "3ApmkMWEvhUE",
      "execution_count": 21,
      "outputs": [
        {
          "output_type": "execute_result",
          "data": {
            "text/plain": [
              "tensor([[0.5985, 0.0000, 0.0000],\n",
              "        [0.0000, 0.0000, 0.0000],\n",
              "        [0.2657, 0.1320, 0.7004],\n",
              "        [1.4247, 1.9337, 0.0000]])"
            ]
          },
          "metadata": {},
          "execution_count": 21
        }
      ]
    },
    {
      "cell_type": "markdown",
      "id": "c6a16748",
      "metadata": {
        "id": "c6a16748"
      },
      "source": [
        "3\\. Используя операции над матрицами и векторами из библиотеки `torch`, реализуйте функцию потерь MSE:\n",
        "\n",
        "![](https://wikimedia.org/api/rest_v1/media/math/render/svg/e258221518869aa1c6561bb75b99476c4734108e)\n",
        "где $Y_i$ - правильный ответ для примера $i$, $\\hat{Y_i}$ - предсказание модели для примера $i$, $n$ - количество примеров в батче."
      ]
    },
    {
      "cell_type": "code",
      "execution_count": 22,
      "id": "e046dfa6",
      "metadata": {
        "id": "e046dfa6"
      },
      "outputs": [],
      "source": [
        "class MSELoss:\n",
        "  def forward(self, y_pred, y_true):\n",
        "    return (y_pred - y_true).pow(2).mean()"
      ]
    },
    {
      "cell_type": "code",
      "execution_count": 23,
      "id": "e686f8b8",
      "metadata": {
        "id": "e686f8b8"
      },
      "outputs": [],
      "source": [
        "y_pred = torch.tensor([1.0, 3.0, 5.0])\n",
        "y_true = torch.tensor([2.0, 3.0, 4.0])"
      ]
    },
    {
      "cell_type": "code",
      "source": [
        "criterion = MSELoss()\n",
        "criterion.forward(y_pred, y_true)"
      ],
      "metadata": {
        "colab": {
          "base_uri": "https://localhost:8080/"
        },
        "id": "2rDYKbV0v-xW",
        "outputId": "96d950f0-69ae-43e4-c577-d43a7e96363f"
      },
      "id": "2rDYKbV0v-xW",
      "execution_count": 24,
      "outputs": [
        {
          "output_type": "execute_result",
          "data": {
            "text/plain": [
              "tensor(0.6667)"
            ]
          },
          "metadata": {},
          "execution_count": 24
        }
      ]
    },
    {
      "cell_type": "markdown",
      "id": "4d7b6d63",
      "metadata": {
        "id": "4d7b6d63"
      },
      "source": [
        "## Задачи для самостоятельного решения"
      ]
    },
    {
      "cell_type": "markdown",
      "id": "705e742b",
      "metadata": {
        "id": "705e742b"
      },
      "source": [
        "### Cоздание полносвязных слоев"
      ]
    },
    {
      "cell_type": "markdown",
      "id": "36fe867c",
      "metadata": {
        "id": "36fe867c"
      },
      "source": [
        "<p class=\"task\" id=\"1_1\"></p>\n",
        "\n",
        "1\\.1 Используя операции над матрицами и векторами из библиотеки `torch`, реализуйте полносвязный слой из `n_neurons` нейронов с `n_features` весами у каждого нейрона (инициализируются из стандартного нормального распределения) и опциональным вектором смещения.\n",
        "\n",
        "$$y = xW^T + b$$\n",
        "\n",
        "Пропустите вектор `inputs` через слой и выведите результат. Результатом прогона сквозь слой должна быть матрица размера `batch_size` x `n_neurons`.\n",
        "\n",
        "- [x] Проверено на семинаре"
      ]
    },
    {
      "cell_type": "code",
      "execution_count": 25,
      "id": "680571a2",
      "metadata": {
        "id": "680571a2"
      },
      "outputs": [],
      "source": [
        "class Linear:\n",
        "    def __init__(self, n_neurons, n_features, bias: bool = False):\n",
        "      self.weights = torch.randn(n_neurons, n_features)\n",
        "      if bias:\n",
        "        self.bias=torch.randn(1,n_neurons)\n",
        "      else:\n",
        "        self.bias=None\n",
        "\n",
        "\n",
        "    def forward(self, inputs):\n",
        "      outputs = inputs @ self.weights.t()\n",
        "      if self.bias is not None:\n",
        "        outputs+=self.bias\n",
        "      return outputs"
      ]
    },
    {
      "cell_type": "code",
      "execution_count": 26,
      "id": "943ddd88",
      "metadata": {
        "id": "943ddd88"
      },
      "outputs": [],
      "source": [
        "# inputs: batch_size(3) x 4\n",
        "inputs = torch.tensor([[1, 2, 3, 2.5],\n",
        "                       [2, 5, -1, 2],\n",
        "                       [-1.5, 2.7, 3.3, -0.8]])"
      ]
    },
    {
      "cell_type": "code",
      "source": [
        "neuron = Linear(n_neurons=3, n_features=4)\n",
        "y_pred = neuron.forward(inputs)\n",
        "y_pred"
      ],
      "metadata": {
        "colab": {
          "base_uri": "https://localhost:8080/"
        },
        "id": "osIUHD_I2euT",
        "outputId": "f0e563d6-4d2d-47ac-c5dc-533255d3714e"
      },
      "id": "osIUHD_I2euT",
      "execution_count": 27,
      "outputs": [
        {
          "output_type": "execute_result",
          "data": {
            "text/plain": [
              "tensor([[ 1.7992, -6.2152,  4.7225],\n",
              "        [-4.9013, -2.4851,  7.8859],\n",
              "        [-0.1520,  1.5608, -6.9860]])"
            ]
          },
          "metadata": {},
          "execution_count": 27
        }
      ]
    },
    {
      "cell_type": "markdown",
      "id": "fad52a4f",
      "metadata": {
        "id": "fad52a4f"
      },
      "source": [
        "<p class=\"task\" id=\"1_2\"></p>\n",
        "\n",
        "1\\.2 Используя решение предыдущей задачи, создайте 2 полносвязных слоя и пропустите тензор `inputs` последовательно через эти два слоя. Количество нейронов в первом слое выберите произвольно, количество нейронов во втором слое выберите так, чтобы результатом прогона являлась матрица `batch_size x 7`.\n",
        "\n",
        "- [x] Проверено на семинаре"
      ]
    },
    {
      "cell_type": "code",
      "source": [
        "a1 = Linear(9,4, True)\n",
        "b1 = a1.forward(inputs)"
      ],
      "metadata": {
        "id": "YHxgYq_aaaeu"
      },
      "id": "YHxgYq_aaaeu",
      "execution_count": 39,
      "outputs": []
    },
    {
      "cell_type": "code",
      "source": [
        "a2 = Linear(5,9)\n",
        "b2 = a2.forward(b1)\n",
        "b2"
      ],
      "metadata": {
        "colab": {
          "base_uri": "https://localhost:8080/"
        },
        "id": "G9mOTeszhHu0",
        "outputId": "3d845d56-5894-45b2-9da0-df36159307b4"
      },
      "id": "G9mOTeszhHu0",
      "execution_count": 40,
      "outputs": [
        {
          "output_type": "execute_result",
          "data": {
            "text/plain": [
              "tensor([[ -2.4248,  -8.9219, -13.8766,  20.0407, -14.3747],\n",
              "        [-13.4613, -18.6408,   9.3898,   0.5431,  -9.1883],\n",
              "        [ 18.6718,  -8.5347,   1.9302,  17.5572, -20.7366]])"
            ]
          },
          "metadata": {},
          "execution_count": 40
        }
      ]
    },
    {
      "cell_type": "code",
      "source": [
        "f2.shape"
      ],
      "metadata": {
        "colab": {
          "base_uri": "https://localhost:8080/"
        },
        "id": "zJ6iy0lpaiIy",
        "outputId": "230e1516-16f2-45b7-eb2c-86476ced8fd5"
      },
      "id": "zJ6iy0lpaiIy",
      "execution_count": 41,
      "outputs": [
        {
          "output_type": "execute_result",
          "data": {
            "text/plain": [
              "torch.Size([3, 5])"
            ]
          },
          "metadata": {},
          "execution_count": 41
        }
      ]
    },
    {
      "cell_type": "markdown",
      "id": "1f89bb8e",
      "metadata": {
        "id": "1f89bb8e"
      },
      "source": [
        "### Создание функций активации"
      ]
    },
    {
      "cell_type": "markdown",
      "id": "d3c912a6",
      "metadata": {
        "id": "d3c912a6"
      },
      "source": [
        "<p class=\"task\" id=\"2_1\"></p>\n",
        "\n",
        "2\\.1 Используя операции над матрицами и векторами из библиотеки `torch`, реализуйте функцию активации softmax:\n",
        "\n",
        "![](https://wikimedia.org/api/rest_v1/media/math/render/svg/6d7500d980c313da83e4117da701bf7c8f1982f5)\n",
        "\n",
        "$$\\overrightarrow{x} = (x_1, ..., x_J)$$\n",
        "\n",
        "Создайте матрицу размера (4,3), заполненную числами из стандартного нормального распределения, и проверьте работоспособность функции активации. Строки матрицы трактовать как выходы линейного слоя некоторого классификатора для 4 различных примеров. Функция должна применяться переданной на вход матрице построчно.\n",
        "\n",
        "- [ ] Проверено на семинаре"
      ]
    },
    {
      "cell_type": "code",
      "execution_count": 49,
      "id": "41ec4062",
      "metadata": {
        "id": "41ec4062"
      },
      "outputs": [],
      "source": [
        "class Softmax:\n",
        "    def forward(self, inputs):\n",
        "        exp_inputs = th.exp(inputs)\n",
        "        return (exp_inputs / exp_inputs.sum(dim=1, keepdim=True))"
      ]
    },
    {
      "cell_type": "code",
      "source": [
        "sofm = Softmax()\n",
        "sofm.forward(inputs)"
      ],
      "metadata": {
        "colab": {
          "base_uri": "https://localhost:8080/"
        },
        "id": "xtG56dnrlZFJ",
        "outputId": "d8d1d05d-6435-43dc-d75f-99e29af4041b"
      },
      "id": "xtG56dnrlZFJ",
      "execution_count": 50,
      "outputs": [
        {
          "output_type": "execute_result",
          "data": {
            "text/plain": [
              "tensor([[0.0641, 0.1744, 0.4740, 0.2875],\n",
              "        [0.0452, 0.9074, 0.0022, 0.0452],\n",
              "        [0.0052, 0.3488, 0.6355, 0.0105]])"
            ]
          },
          "metadata": {},
          "execution_count": 50
        }
      ]
    },
    {
      "cell_type": "code",
      "source": [
        "th.exp(inputs[0]) / th.exp(inputs[0]).sum()"
      ],
      "metadata": {
        "colab": {
          "base_uri": "https://localhost:8080/"
        },
        "id": "pu29lfpwl5L-",
        "outputId": "a53c0457-2236-42a2-b5e4-c44eb6007053"
      },
      "id": "pu29lfpwl5L-",
      "execution_count": 51,
      "outputs": [
        {
          "output_type": "execute_result",
          "data": {
            "text/plain": [
              "tensor([0.0641, 0.1744, 0.4740, 0.2875])"
            ]
          },
          "metadata": {},
          "execution_count": 51
        }
      ]
    },
    {
      "cell_type": "code",
      "source": [
        "th.exp(inputs[1]) / th.exp(inputs[1]).sum()"
      ],
      "metadata": {
        "colab": {
          "base_uri": "https://localhost:8080/"
        },
        "id": "AMA8vNoul7QX",
        "outputId": "6d65ea8f-99b4-4273-f797-998befa13eb1"
      },
      "id": "AMA8vNoul7QX",
      "execution_count": 52,
      "outputs": [
        {
          "output_type": "execute_result",
          "data": {
            "text/plain": [
              "tensor([0.0452, 0.9074, 0.0022, 0.0452])"
            ]
          },
          "metadata": {},
          "execution_count": 52
        }
      ]
    },
    {
      "cell_type": "code",
      "source": [
        "sofm.forward(inputs).sum(axis=1)"
      ],
      "metadata": {
        "colab": {
          "base_uri": "https://localhost:8080/"
        },
        "id": "SS7DZ0IrmBHj",
        "outputId": "c28a0ed9-f8ab-462c-db57-83f34cf1f46b"
      },
      "id": "SS7DZ0IrmBHj",
      "execution_count": 57,
      "outputs": [
        {
          "output_type": "execute_result",
          "data": {
            "text/plain": [
              "tensor([1.0000, 1.0000, 1.0000])"
            ]
          },
          "metadata": {},
          "execution_count": 57
        }
      ]
    },
    {
      "cell_type": "markdown",
      "id": "1a8acbae",
      "metadata": {
        "id": "1a8acbae"
      },
      "source": [
        "<p class=\"task\" id=\"2_2\"></p>\n",
        "\n",
        "2.2 Используя операции над матрицами и векторами из библиотеки `torch`, реализуйте функцию активации ELU:\n",
        "\n",
        "![](https://wikimedia.org/api/rest_v1/media/math/render/svg/eb23becd37c3602c4838e53f532163279192e4fd)\n",
        "\n",
        "Создайте матрицу размера 4x3, заполненную числами из стандартного нормального распределения, и проверьте работоспособность функции активации.\n",
        "\n",
        "- [ ] Проверено на семинаре"
      ]
    },
    {
      "cell_type": "code",
      "execution_count": null,
      "id": "998b3675",
      "metadata": {
        "id": "998b3675"
      },
      "outputs": [],
      "source": [
        "class ELU:\n",
        "    def __init__(self, alpha: float):\n",
        "        pass\n",
        "\n",
        "    def forward(self, inputs):\n",
        "        # <реализовать логику ELU>\n",
        "        pass"
      ]
    },
    {
      "cell_type": "markdown",
      "id": "aa02fb0d",
      "metadata": {
        "id": "aa02fb0d"
      },
      "source": [
        "### Создание функции потерь"
      ]
    },
    {
      "cell_type": "markdown",
      "id": "bab7e56a",
      "metadata": {
        "id": "bab7e56a"
      },
      "source": [
        "<p class=\"task\" id=\"3_1\"></p>\n",
        "\n",
        "3\\.1 Используя операции над матрицами и векторами из библиотеки `torch`, реализуйте функцию потерь CrossEntropyLoss:\n",
        "\n",
        "$$y_i = (y_{i,1},...,y_{i,k})$$\n",
        "<img src=\"https://i.ibb.co/93gy1dN/Screenshot-9.png\" width=\"200\">\n",
        "\n",
        "$$ CrossEntropyLoss = \\frac{1}{n}\\sum_{i=1}^{n}{L_i}$$\n",
        "где $y_i$ - вектор правильных ответов для примера $i$, $\\hat{y_i}$ - вектор предсказаний модели для примера $i$; $k$ - количество классов, $n$ - количество примеров в батче.\n",
        "\n",
        "Создайте полносвязный слой с 3 нейронами и прогнать через него батч `inputs`. Полученный результат пропустите через функцию активации Softmax. Посчитайте значение функции потерь, трактуя вектор `y` как вектор правильных ответов.\n",
        "\n",
        "- [ ] Проверено на семинаре"
      ]
    },
    {
      "cell_type": "code",
      "execution_count": 66,
      "id": "f683f102",
      "metadata": {
        "id": "f683f102"
      },
      "outputs": [],
      "source": [
        "class CrossEntropyLoss:\n",
        "  def forward(self, y_pred, y_true):\n",
        "    res = - (y_true * th.log(y_pred)).mean()\n",
        "    return res"
      ]
    },
    {
      "cell_type": "code",
      "execution_count": 67,
      "id": "82a4dba3",
      "metadata": {
        "id": "82a4dba3"
      },
      "outputs": [],
      "source": [
        "inputs = torch.tensor([[1, 2, 3, 2.5],\n",
        "                        [2, 5, -1, 2],\n",
        "                        [-1.5, 2.7, 3.3, -0.8]])\n",
        "y = torch.tensor([1, 0, 0])"
      ]
    },
    {
      "cell_type": "code",
      "source": [
        "a1 = Linear(4,4, True)\n",
        "b1 = a1.forward(inputs)\n",
        "\n",
        "a2 = Linear(4,4)\n",
        "b2 = a2.forward(b1)\n",
        "\n",
        "a3 = Linear(2,4)\n",
        "b3 = a3.forward(b2)\n",
        "\n",
        "sofm = Softmax()\n",
        "y_pred = sofm.forward(b3)\n",
        "y_pred"
      ],
      "metadata": {
        "colab": {
          "base_uri": "https://localhost:8080/"
        },
        "id": "YT6kJLg_n8xZ",
        "outputId": "fd34342e-d827-43dd-eef7-31ad2b4a398d"
      },
      "id": "YT6kJLg_n8xZ",
      "execution_count": 72,
      "outputs": [
        {
          "output_type": "execute_result",
          "data": {
            "text/plain": [
              "tensor([[1.0000e+00, 1.0123e-09],\n",
              "        [1.0000e+00, 1.4979e-10],\n",
              "        [1.0000e+00, 4.2803e-06]])"
            ]
          },
          "metadata": {},
          "execution_count": 72
        }
      ]
    },
    {
      "cell_type": "code",
      "source": [
        "CEL = CrossEntropyLoss()\n",
        "CEL.forward(y_pred[:,1], y)"
      ],
      "metadata": {
        "colab": {
          "base_uri": "https://localhost:8080/"
        },
        "id": "Lm_ImYVRo6F-",
        "outputId": "e03325a0-edc4-4e82-bdcd-5b9af810e176"
      },
      "id": "Lm_ImYVRo6F-",
      "execution_count": 73,
      "outputs": [
        {
          "output_type": "execute_result",
          "data": {
            "text/plain": [
              "tensor(6.9037)"
            ]
          },
          "metadata": {},
          "execution_count": 73
        }
      ]
    },
    {
      "cell_type": "markdown",
      "id": "7c9c82a1",
      "metadata": {
        "id": "7c9c82a1"
      },
      "source": [
        "<p class=\"task\" id=\"3_2\"></p>\n",
        "\n",
        "3.2 Модифицируйте MSE, добавив L2-регуляризацию.\n",
        "\n",
        "$$MSE_R = MSE + \\lambda\\sum_{i=1}^{m}w_i^2$$\n",
        "\n",
        "где $\\lambda$ - коэффициент регуляризации; $w_i$ - веса модели.\n",
        "\n",
        "- [ ] Проверено на семинаре"
      ]
    },
    {
      "cell_type": "code",
      "execution_count": null,
      "id": "b1f858a9",
      "metadata": {
        "id": "b1f858a9"
      },
      "outputs": [],
      "source": [
        "class MSERegularized:\n",
        "    def __init__(self, lambda_):\n",
        "        pass\n",
        "\n",
        "    def data_loss(self, y_pred, y_true):\n",
        "        # <подсчет первого слагаемого из формулы>\n",
        "        pass\n",
        "\n",
        "    def reg_loss(self, weights):\n",
        "        # <подсчет второго слагаемого из формулы>\n",
        "        pass\n",
        "\n",
        "    def forward(self, y_pred, y_true, weights):\n",
        "        return self.data_loss(y_pred, y_true) + self.reg_loss(weights)"
      ]
    },
    {
      "cell_type": "code",
      "execution_count": null,
      "id": "4c997c44",
      "metadata": {
        "id": "4c997c44"
      },
      "outputs": [],
      "source": [
        "y_pred = torch.tensor([-0.5, 1, 1.7])\n",
        "y_true = torch.tensor([0, 0.6, 2.3])\n",
        "weights = torch.normal(0, 5, (10, 1))"
      ]
    },
    {
      "cell_type": "markdown",
      "id": "66caa919",
      "metadata": {
        "id": "66caa919"
      },
      "source": [
        "## Обратная связь\n",
        "- [ ] Хочу получить обратную связь по решению"
      ]
    }
  ],
  "metadata": {
    "kernelspec": {
      "display_name": "Python 3 (ipykernel)",
      "language": "python",
      "name": "python3"
    },
    "language_info": {
      "codemirror_mode": {
        "name": "ipython",
        "version": 3
      },
      "file_extension": ".py",
      "mimetype": "text/x-python",
      "name": "python",
      "nbconvert_exporter": "python",
      "pygments_lexer": "ipython3",
      "version": "3.9.13"
    },
    "colab": {
      "provenance": []
    }
  },
  "nbformat": 4,
  "nbformat_minor": 5
}